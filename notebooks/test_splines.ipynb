{
 "cells": [
  {
   "cell_type": "code",
   "id": "initial_id",
   "metadata": {
    "collapsed": true,
    "ExecuteTime": {
     "end_time": "2025-05-13T15:20:05.815247Z",
     "start_time": "2025-05-13T15:20:02.506763Z"
    }
   },
   "source": [
    "from nldg.utils import *\n",
    "from scipy.interpolate import BSpline"
   ],
   "outputs": [],
   "execution_count": 1
  },
  {
   "metadata": {
    "ExecuteTime": {
     "end_time": "2025-05-13T15:20:05.830248Z",
     "start_time": "2025-05-13T15:20:05.820251Z"
    }
   },
   "cell_type": "code",
   "source": [
    "data_setting = 2\n",
    "if data_setting == 1:\n",
    "    dtr = gen_data_v2(n=1000)\n",
    "elif data_setting == 2:\n",
    "    dtr = gen_data_v3(n=1000, setting=2)\n",
    "elif data_setting == 3:\n",
    "    dtr = gen_data_v4(n_easy=1000, n_hard=1000)\n",
    "elif data_setting == 4:\n",
    "    dtr = gen_data_v5(n_samples=1000, adv_fraction=0.5, noise_var_env2=10.0)\n",
    "else:\n",
    "    dtr = gen_data_v6(n=1000, noise_std=0.5)\n",
    "Xtr = np.array(dtr.drop(columns=['E', 'Y']))\n",
    "Ytr = np.array(dtr['Y'])\n",
    "Etr = np.array(dtr['E'])\n",
    "Xtr_sorted = np.sort(Xtr, axis=0)"
   ],
   "id": "e55c2168bf9cf5b0",
   "outputs": [],
   "execution_count": 2
  },
  {
   "metadata": {
    "ExecuteTime": {
     "end_time": "2025-05-13T15:20:06.779694Z",
     "start_time": "2025-05-13T15:20:06.751694Z"
    }
   },
   "cell_type": "code",
   "source": [
    "from scipy.interpolate import make_smoothing_spline\n",
    "\n",
    "idx = np.argsort(Xtr.flatten())\n",
    "Xs = Xtr[idx].flatten()\n",
    "Ys = Ytr[idx].flatten()\n",
    "spline = make_smoothing_spline(Xs, Ys, lam=10)\n",
    "x_grid = np.linspace(min(Xtr), max(Xtr), 200)"
   ],
   "id": "ecb65a455d060ad2",
   "outputs": [],
   "execution_count": 3
  },
  {
   "metadata": {
    "ExecuteTime": {
     "end_time": "2025-05-13T15:20:07.285902Z",
     "start_time": "2025-05-13T15:20:07.146899Z"
    }
   },
   "cell_type": "code",
   "source": [
    "plt.scatter(Xtr, Ytr)\n",
    "plt.scatter(x_grid, spline(x_grid))"
   ],
   "id": "8df2138bffcdbe7a",
   "outputs": [
    {
     "data": {
      "text/plain": [
       "<matplotlib.collections.PathCollection at 0x1bd2293ec80>"
      ]
     },
     "execution_count": 4,
     "metadata": {},
     "output_type": "execute_result"
    },
    {
     "data": {
      "text/plain": [
       "<Figure size 640x480 with 1 Axes>"
      ],
      "image/png": "[encoded data removed]"
     },
     "metadata": {},
     "output_type": "display_data"
    }
   ],
   "execution_count": 4
  },
  {
   "metadata": {
    "ExecuteTime": {
     "end_time": "2025-05-13T15:20:07.629825Z",
     "start_time": "2025-05-13T15:20:07.616825Z"
    }
   },
   "cell_type": "code",
   "source": [
    "def _coeff_of_divided_diff(x):\n",
    "    n = x.shape[0]\n",
    "    res = np.zeros(n)\n",
    "    for i in range(n):\n",
    "        pp = 1.\n",
    "        for k in range(n):\n",
    "            if k != i:\n",
    "                pp *= (x[i] - x[k])\n",
    "        res[i] = 1. / pp\n",
    "    return res"
   ],
   "id": "601cfedc9eb79e1a",
   "outputs": [],
   "execution_count": 5
  },
  {
   "metadata": {
    "ExecuteTime": {
     "end_time": "2025-05-13T15:20:09.050362Z",
     "start_time": "2025-05-13T15:20:09.021345Z"
    }
   },
   "cell_type": "code",
   "source": [
    "idx = np.argsort(Xtr.flatten())\n",
    "x = Xtr[idx].flatten()\n",
    "y = Ytr[idx].flatten()\n",
    "e_tr = Etr[idx].flatten()\n",
    "t = np.r_[[x[0]] * 3, x, [x[-1]] * 3]\n",
    "n = x.shape[0]\n",
    "\n",
    "X_bspl = BSpline.design_matrix(x, t, 3)\n",
    "\n",
    "# move from B-spline basis to the basis of natural splines using equations\n",
    "# (2.1.7) [4]\n",
    "# central elements\n",
    "X = np.zeros((5, n))\n",
    "for i in range(1, 4):\n",
    "    X[i, 2: -2] = X_bspl[i: i - 4, 3: -3][np.diag_indices(n - 4)]\n",
    "\n",
    "# first elements\n",
    "X[1, 1] = X_bspl[0, 0]\n",
    "X[2, :2] = ((x[2] + x[1] - 2 * x[0]) * X_bspl[0, 0],\n",
    "            X_bspl[1, 1] + X_bspl[1, 2])\n",
    "X[3, :2] = ((x[2] - x[0]) * X_bspl[1, 1], X_bspl[2, 2])\n",
    "\n",
    "# last elements\n",
    "X[1, -2:] = (X_bspl[-3, -3], (x[-1] - x[-3]) * X_bspl[-2, -2])\n",
    "X[2, -2:] = (X_bspl[-2, -3] + X_bspl[-2, -2],\n",
    "             (2 * x[-1] - x[-2] - x[-3]) * X_bspl[-1, -1])\n",
    "X[3, -2] = X_bspl[-1, -1]\n",
    "\n",
    "# create penalty matrix and divide it by vector of weights: W^{-1} E\n",
    "E = np.zeros((5, n))\n",
    "E[2:, 0] = _coeff_of_divided_diff(x[:3])\n",
    "E[1:, 1] = _coeff_of_divided_diff(x[:4])\n",
    "for j in range(2, n - 2):\n",
    "    E[:, j] = (x[j+2] - x[j-2]) * _coeff_of_divided_diff(x[j-2:j+3])\n",
    "\n",
    "E[:-1, -2] = -_coeff_of_divided_diff(x[-4:])\n",
    "E[:-2, -1] = _coeff_of_divided_diff(x[-3:])\n",
    "E *= 6"
   ],
   "id": "176d813c40428022",
   "outputs": [],
   "execution_count": 6
  },
  {
   "metadata": {
    "ExecuteTime": {
     "end_time": "2025-05-13T15:20:09.905849Z",
     "start_time": "2025-05-13T15:20:09.891850Z"
    }
   },
   "cell_type": "code",
   "source": [
    "import scipy\n",
    "c_erm = scipy.linalg.solve_banded((2, 2), X + 10 * E, y)\n",
    "# move back to B-spline basis using equations (2.2.10) [4]\n",
    "c_ = np.r_[c_erm[0] * (t[5] + t[4] - 2 * t[3]) + c_erm[1],\n",
    "           c_erm[0] * (t[5] - t[3]) + c_erm[1],\n",
    "           c_erm[1: -1],\n",
    "           c_erm[-1] * (t[-4] - t[-6]) + c_erm[-2],\n",
    "           c_erm[-1] * (2 * t[-4] - t[-5] - t[-6]) + c_erm[-2]]"
   ],
   "id": "e824792b7162bc50",
   "outputs": [],
   "execution_count": 7
  },
  {
   "metadata": {
    "ExecuteTime": {
     "end_time": "2025-05-13T15:20:11.265731Z",
     "start_time": "2025-05-13T15:20:11.252730Z"
    }
   },
   "cell_type": "code",
   "source": [
    "n = E.shape[1]\n",
    "l = u = 2\n",
    "E_full = np.zeros((n, n))\n",
    "for j in range(n):\n",
    "    for d in range(-u, l+1):\n",
    "        i = j + d\n",
    "        if 0 <= i < n:\n",
    "            k = u + d\n",
    "            E_full[i, j] = E[k, j]"
   ],
   "id": "1f0041a6a1d53b35",
   "outputs": [],
   "execution_count": 8
  },
  {
   "metadata": {
    "ExecuteTime": {
     "end_time": "2025-05-13T15:20:11.608359Z",
     "start_time": "2025-05-13T15:20:11.594361Z"
    }
   },
   "cell_type": "code",
   "source": [
    "n = X.shape[1]\n",
    "l = u = 2\n",
    "X_full = np.zeros((n, n))\n",
    "for j in range(n):\n",
    "    for d in range(-u, l+1):\n",
    "        i = j + d\n",
    "        if 0 <= i < n:\n",
    "            k = u + d\n",
    "            X_full[i, j] = X[k, j]"
   ],
   "id": "8402c4be372e433b",
   "outputs": [],
   "execution_count": 9
  },
  {
   "metadata": {},
   "cell_type": "code",
   "source": [
    "# import cvxpy as cp\n",
    "#\n",
    "#\n",
    "# lam = 10\n",
    "# c = cp.Variable(n)\n",
    "# t_var = cp.Variable(nonneg=True)\n",
    "#\n",
    "# mask_0 = e_tr == 0\n",
    "# mask_1 = e_tr == 1\n",
    "# mask_2 = e_tr == 2\n",
    "#\n",
    "# n0, n1, n2 = np.sum(mask_0), np.sum(mask_1), np.sum(mask_2)\n",
    "#\n",
    "# x_0 = X_full[mask_0,:]\n",
    "# x_1 = X_full[mask_1,:]\n",
    "# x_2 = X_full[mask_2,:]\n",
    "#\n",
    "# y_0 = y[mask_0]\n",
    "# y_1 = y[mask_1]\n",
    "# y_2 = y[mask_2]\n",
    "#\n",
    "# constraints = []\n",
    "# constraints.append(cp.norm(x_0 @ c - y_0, 2)**2 / n0 <= t_var)\n",
    "# constraints.append(cp.norm(x_1 @ c - y_1, 2)**2 / n1 <= t_var)\n",
    "# constraints.append(cp.norm(x_2 @ c - y_2, 2)**2 / n2 <= t_var)\n",
    "#\n",
    "# K = X_full.T @ E_full\n",
    "# K = 0.5*(K + K.T)\n",
    "# eigvals, Q = np.linalg.eigh(K)\n",
    "# eigvals[eigvals < 0] = 0\n",
    "# K_psd = (Q * eigvals) @ Q.T\n",
    "# K_psd = 0.5*(K_psd + K_psd.T)\n",
    "# K_trusted = cp.psd_wrap(K_psd)\n",
    "# roughness = cp.quad_form(c, K_psd)\n",
    "# objective = cp.Minimize(t_var + lam * roughness)\n",
    "#\n",
    "# prob = cp.Problem(objective)\n",
    "# prob.solve(solver=cp.MOSEK)\n",
    "#\n",
    "# c_opt = c.value"
   ],
   "id": "1f5f99470bc2e33d",
   "outputs": [],
   "execution_count": null
  },
  {
   "metadata": {
    "ExecuteTime": {
     "end_time": "2025-05-13T15:18:36.870356Z",
     "start_time": "2025-05-13T15:18:36.857354Z"
    }
   },
   "cell_type": "code",
   "source": [
    "# c_ = np.r_[c_opt[0] * (t[5] + t[4] - 2 * t[3]) + c_opt[1],\n",
    "#            c_opt[0] * (t[5] - t[3]) + c_opt[1],\n",
    "#            c_opt[1: -1],\n",
    "#            c_opt[-1] * (t[-4] - t[-6]) + c_opt[-2],\n",
    "#            c_opt[-1] * (2 * t[-4] - t[-5] - t[-6]) + c_opt[-2]]\n",
    "#\n",
    "# spline_minmax = BSpline.construct_fast(t, c_, 3)"
   ],
   "id": "fd389ef7b7b3b866",
   "outputs": [],
   "execution_count": 11
  },
  {
   "metadata": {
    "ExecuteTime": {
     "end_time": "2025-05-13T15:20:29.908333Z",
     "start_time": "2025-05-13T15:20:29.895345Z"
    }
   },
   "cell_type": "code",
   "source": [
    "# preds_erm = spline(x_grid)\n",
    "# preds_cvxpy = spline_minmax(x_grid)\n",
    "#\n",
    "# plot_dtr(dtr, x_grid, preds_erm, preds_cvxpy)"
   ],
   "id": "6f6559c7fd121e74",
   "outputs": [],
   "execution_count": 10
  },
  {
   "metadata": {
    "ExecuteTime": {
     "end_time": "2025-05-13T15:22:03.189146Z",
     "start_time": "2025-05-13T15:22:03.145576Z"
    }
   },
   "cell_type": "code",
   "source": [
    "K = X_full.T @ E_full\n",
    "kappa = np.linalg.svd(K, compute_uv=False)[0]"
   ],
   "id": "3b1b7448c003ce1",
   "outputs": [],
   "execution_count": 11
  },
  {
   "metadata": {
    "ExecuteTime": {
     "end_time": "2025-05-12T15:15:39.673305Z",
     "start_time": "2025-05-12T15:15:39.661250Z"
    }
   },
   "cell_type": "code",
   "source": [
    "import numpy as np\n",
    "\n",
    "def project_onto_simplex(v: np.ndarray) -> np.ndarray:\n",
    "    original_shape = v.shape\n",
    "\n",
    "    v_flat = v.reshape(-1)\n",
    "    D = v_flat.shape[0]\n",
    "\n",
    "    # Step 1: Sort v in descending order\n",
    "    u = np.sort(v_flat)[::-1]\n",
    "\n",
    "    # Step 2: Find ρ (rho)\n",
    "    cumsum = np.cumsum(u)\n",
    "    j_range = np.arange(1, D + 1, dtype=float)\n",
    "\n",
    "    # Calculate the term: u_j + (1/j) * (1 - sum(u_i from i=1 to j))\n",
    "    term = u + (1 / j_range) * (1 - cumsum)\n",
    "\n",
    "    # Find the largest j such that term[j-1] > 0\n",
    "    rho = np.sum(term > 0)\n",
    "\n",
    "    # If rho is 0, that's a special case - return zeros\n",
    "    if rho == 0:\n",
    "        return np.zeros_like(v)\n",
    "\n",
    "    # Step 3: Compute λ (lambda)\n",
    "    lambda_val = (1 / rho) * (1 - np.sum(u[:rho]))\n",
    "\n",
    "    # Step 4: Compute the projection\n",
    "    x = np.maximum(v_flat + lambda_val, 0)\n",
    "\n",
    "    # Ensure the output sums to 1 (handle numerical precision issues)\n",
    "    x = x / np.sum(x)\n",
    "\n",
    "    # Reshape back to the original shape\n",
    "    return x.reshape(original_shape)\n",
    "\n",
    "def train_spline_extragradient(\n",
    "    X_full: np.ndarray,\n",
    "    Y: np.ndarray,\n",
    "    E_full: np.ndarray,\n",
    "    E: np.ndarray,\n",
    "    init = np.ndarray,\n",
    "    alpha_loss: float = 1e-3,\n",
    "    alpha_reg: float = 1e-3,\n",
    "    lam: float = 0.01,\n",
    "    epochs: int = 500,\n",
    "    seed: int = 0,\n",
    "    verbose: bool = False,\n",
    "):\n",
    "    np.random.seed(seed)\n",
    "\n",
    "    envs, inv = np.unique(E, return_inverse=True)\n",
    "    num_env = len(envs)\n",
    "    n = len(Y)\n",
    "\n",
    "    K = X_full.T @ E_full\n",
    "\n",
    "    #c = np.zeros(n, dtype=np.float32)\n",
    "    c = init\n",
    "    p = np.ones(num_env, dtype=np.float32) / num_env\n",
    "\n",
    "    def compute_losses_and_grad(c_vec: np.ndarray, p_vec: np.ndarray):\n",
    "        losses = []\n",
    "        grad_loss = np.zeros_like(c_vec)\n",
    "        for e in range(num_env):\n",
    "            idx = np.where(inv == e)[0]\n",
    "            if len(idx) == 0:\n",
    "                losses.append(0.0)\n",
    "                continue\n",
    "            y_e = Y[idx]\n",
    "            X_full_e = X_full[idx, :]\n",
    "\n",
    "            pred_e = X_full_e @ c_vec\n",
    "            resid = pred_e - y_e\n",
    "            loss_e = np.mean(resid**2)\n",
    "            losses.append(loss_e)\n",
    "\n",
    "            # gradient w.r.t c: (2/n_e) * X_full_e.T @ (pred_e - y_e)\n",
    "            grad_e = (2.0 / len(idx)) * X_full_e.T @ resid\n",
    "            grad_loss += p_vec[e] * grad_e\n",
    "\n",
    "        losses = np.array(losses)\n",
    "        # add reg grad\n",
    "        grad_reg = 2 * lam * (K @ c_vec)\n",
    "        return losses, grad_loss, grad_reg\n",
    "\n",
    "    # extragradient loop\n",
    "    for t in range(epochs):\n",
    "        # step 1: compute at current (c, p)\n",
    "        losses, grad_loss, grad_reg = compute_losses_and_grad(c, p)\n",
    "        c_half = c - alpha_loss * grad_loss - alpha_reg * grad_reg\n",
    "        p_half = project_onto_simplex(p + alpha_loss * losses)\n",
    "\n",
    "        # step 2: compute at (c_half, p_half)\n",
    "        losses_h, grad_loss_h, grad_loss_reg = compute_losses_and_grad(c_half, p_half)\n",
    "        c = c - alpha_loss * grad_loss_h - alpha_reg * grad_loss_reg\n",
    "        p = project_onto_simplex(p + alpha_loss * losses_h)\n",
    "\n",
    "        #print('.........................')\n",
    "        #print(p_half, losses)\n",
    "        #print(p, losses_h)\n",
    "        #losses_new, _, _ = compute_losses_and_grad(c, p)\n",
    "        #print(losses_new)\n",
    "        #obj = np.sum(p * losses_new) + lam * (c.T @ (K @ c))\n",
    "        #print(obj)\n",
    "\n",
    "        if verbose and (t % max(1, epochs // 10) == 0):\n",
    "            losses_new, _, _ = compute_losses_and_grad(c, p)\n",
    "            obj = np.sum(p * losses_new) + lam * (c.T @ (K @ c))\n",
    "            print(f\"Iter {t}/{epochs}: obj={obj:.6f}\")\n",
    "\n",
    "    return c, p"
   ],
   "id": "223e620fe3155915",
   "outputs": [],
   "execution_count": 426
  },
  {
   "metadata": {
    "ExecuteTime": {
     "end_time": "2025-05-12T15:21:57.015849Z",
     "start_time": "2025-05-12T15:21:47.302878Z"
    }
   },
   "cell_type": "code",
   "source": [
    "c, p = train_spline_extragradient(X_full, y, E_full, e_tr, init=c_erm,\n",
    "                                  alpha_loss=0.1, alpha_reg=0.01/kappa, lam=10, epochs=500, verbose=True)"
   ],
   "id": "c5c04b4584b84492",
   "outputs": [
    {
     "name": "stdout",
     "output_type": "stream",
     "text": [
      "Iter 0/500: obj=2107422.962845\n",
      "Iter 50/500: obj=4936324865.468598\n",
      "Iter 100/500: obj=18612776827.768475\n",
      "Iter 150/500: obj=39824326417.908524\n",
      "Iter 200/500: obj=67511707322.821823\n",
      "Iter 250/500: obj=88997300102.797638\n",
      "Iter 300/500: obj=99716703789.614166\n",
      "Iter 350/500: obj=128239823292.718430\n",
      "Iter 400/500: obj=159256384724.643402\n",
      "Iter 450/500: obj=183248929084.398346\n"
     ]
    }
   ],
   "execution_count": 444
  },
  {
   "metadata": {
    "ExecuteTime": {
     "end_time": "2025-05-12T15:48:03.294326Z",
     "start_time": "2025-05-12T15:48:03.267841Z"
    }
   },
   "cell_type": "code",
   "source": [
    "import torch\n",
    "import torch.nn.functional as F\n",
    "\n",
    "def train_spline_GDRO(\n",
    "    X_full: np.ndarray,\n",
    "    Y: np.ndarray,\n",
    "    E_full: np.ndarray,\n",
    "    E: np.ndarray,\n",
    "    init: np.ndarray,\n",
    "    lr: float = 1e-3,\n",
    "    eta: float = 0.1,\n",
    "    lam: float = 0.01,\n",
    "    epochs: int = 500,\n",
    "    seed: int = 0,\n",
    "    verbose: bool = False,\n",
    "):\n",
    "    torch.manual_seed(seed)\n",
    "\n",
    "    # convert data to torch tensors\n",
    "    X = torch.from_numpy(X_full).float()\n",
    "    y = torch.from_numpy(Y).float()\n",
    "    E_tensor = torch.from_numpy(E_full).float()\n",
    "    env_labels = torch.from_numpy(E).long()\n",
    "    num_env = torch.unique(env_labels).numel()\n",
    "\n",
    "    # penalty matrix\n",
    "    K = X.t() @ E_tensor\n",
    "\n",
    "    # initialize c (requires_grad=True for Adam) and optimizer\n",
    "    c = torch.from_numpy(init).float()\n",
    "    c = torch.nn.Parameter(c)\n",
    "    optimizer = torch.optim.Adam([c], lr=lr)\n",
    "\n",
    "    # initialize p on simplex\n",
    "    p = torch.ones(num_env) / num_env\n",
    "\n",
    "    for t in range(1, epochs+1):\n",
    "        # compute per-env MSE losses\n",
    "        losses = []\n",
    "        for e in range(num_env):\n",
    "            idx = (env_labels == e).nonzero(as_tuple=True)[0]\n",
    "            if idx.numel() == 0:\n",
    "                losses.append(torch.tensor(0.0))\n",
    "                continue\n",
    "            X_e = X[idx]\n",
    "            y_e = y[idx]\n",
    "            pred = X_e @ c\n",
    "            loss_e = F.mse_loss(pred, y_e, reduction='mean')\n",
    "            losses.append(loss_e)\n",
    "        losses = torch.stack(losses)\n",
    "\n",
    "        # mirror-ascent update on p using same lr\n",
    "        with torch.no_grad():\n",
    "            p = p * torch.exp(eta * losses)\n",
    "            p = p / p.sum()\n",
    "\n",
    "        # weighted loss and penalty\n",
    "        weighted_loss = torch.dot(p, losses)\n",
    "        reg = lam * (c.T @ (K @ c))\n",
    "        obj = weighted_loss + reg\n",
    "\n",
    "        # descent on loss+reg via Adam\n",
    "        optimizer.zero_grad()\n",
    "        obj.backward()\n",
    "        optimizer.step()\n",
    "\n",
    "        if verbose and t % (epochs // 10 or 1) == 0:\n",
    "            print(f\"Epoch {t}/{epochs}: obj={obj.item():.6f}\")\n",
    "\n",
    "    return c.detach().cpu().numpy(), p.detach().cpu().numpy()\n"
   ],
   "id": "b1edbd9db0b54a0d",
   "outputs": [],
   "execution_count": 457
  },
  {
   "metadata": {
    "ExecuteTime": {
     "end_time": "2025-05-12T15:51:50.200589Z",
     "start_time": "2025-05-12T15:51:47.091665Z"
    }
   },
   "cell_type": "code",
   "source": [
    "c, p = train_spline_GDRO(X_full, y, E_full, e_tr, init=c_erm,\n",
    "                         lr=1, lam=100, epochs=1000, verbose=True)"
   ],
   "id": "77ae780fbb121631",
   "outputs": [
    {
     "name": "stdout",
     "output_type": "stream",
     "text": [
      "Epoch 100/1000: obj=37153021952.000000\n",
      "Epoch 200/1000: obj=3602907904.000000\n",
      "Epoch 300/1000: obj=2859280896.000000\n",
      "Epoch 400/1000: obj=1959308800.000000\n",
      "Epoch 500/1000: obj=2644780800.000000\n",
      "Epoch 600/1000: obj=1883656832.000000\n",
      "Epoch 700/1000: obj=5169874944.000000\n",
      "Epoch 800/1000: obj=3347454464.000000\n",
      "Epoch 900/1000: obj=6338396672.000000\n",
      "Epoch 1000/1000: obj=10264448000.000000\n"
     ]
    }
   ],
   "execution_count": 472
  },
  {
   "metadata": {
    "ExecuteTime": {
     "end_time": "2025-05-12T15:51:52.189012Z",
     "start_time": "2025-05-12T15:51:52.175487Z"
    }
   },
   "cell_type": "code",
   "source": [
    "c_ = np.r_[c[0] * (t[5] + t[4] - 2 * t[3]) + c[1],\n",
    "           c[0] * (t[5] - t[3]) + c[1],\n",
    "           c[1: -1],\n",
    "           c[-1] * (t[-4] - t[-6]) + c[-2],\n",
    "           c[-1] * (2 * t[-4] - t[-5] - t[-6]) + c[-2]]"
   ],
   "id": "e11335b5529464ad",
   "outputs": [],
   "execution_count": 473
  },
  {
   "metadata": {
    "ExecuteTime": {
     "end_time": "2025-05-12T15:51:57.978391Z",
     "start_time": "2025-05-12T15:51:57.964868Z"
    }
   },
   "cell_type": "code",
   "source": "spline_minmax = BSpline.construct_fast(t, c_, 3)",
   "id": "cc129dbaddc14f",
   "outputs": [],
   "execution_count": 474
  },
  {
   "metadata": {
    "ExecuteTime": {
     "end_time": "2025-05-12T15:48:43.597951Z",
     "start_time": "2025-05-12T15:48:43.583902Z"
    }
   },
   "cell_type": "code",
   "source": [
    "def plot_dtr(dtr, x_grid, preds_erm, preds_maximin, preds_magging=None, optfun=None,\n",
    "             saveplot=False, nameplot='setting5'):\n",
    "    line_colors = [\"lightskyblue\", \"orange\", \"mediumpurple\"]\n",
    "    data_colors = [\"black\", \"grey\", \"silver\"]\n",
    "    environments = sorted(dtr[\"E\"].unique())\n",
    "\n",
    "    fig, ax = plt.subplots(figsize=(8, 5))\n",
    "    for idx, env in enumerate(environments):\n",
    "        marker_style = \"o\"\n",
    "        ax.scatter(\n",
    "            dtr[dtr[\"E\"] == env][\"X\"],\n",
    "            dtr[dtr[\"E\"] == env][\"Y\"],\n",
    "            color=data_colors[idx],\n",
    "            marker=marker_style,\n",
    "            alpha=0.5,\n",
    "            s=30,\n",
    "            label=f\"Env {env + 1}\",\n",
    "        )\n",
    "\n",
    "    ax.plot(x_grid, preds_erm, color=line_colors[0], linewidth=2, label=\"SS\")\n",
    "    ax.plot(\n",
    "        x_grid,\n",
    "        preds_maximin,\n",
    "        color=line_colors[1],\n",
    "        linewidth=2,\n",
    "        label=\"MaximinSS\",\n",
    "    )\n",
    "    if preds_magging is not None:\n",
    "        ax.plot(\n",
    "            x_grid,\n",
    "            preds_magging,\n",
    "            color=line_colors[2],\n",
    "            linewidth=2,\n",
    "            label=\"MaggingSS\",\n",
    "        )\n",
    "\n",
    "    if optfun == 1:\n",
    "        y_opt = 0.8 * np.sin(x_grid / 2) ** 2 + 3\n",
    "        ax.plot(x_grid, y_opt, color=\"orangered\", linewidth=2, linestyle=\"--\", label=\"Optimal\")\n",
    "    elif optfun == 2:\n",
    "        y_opt = np.where(x_grid > 0, 2.4 * x_grid, -2.4 * x_grid)\n",
    "        ax.plot(x_grid, y_opt, color=\"orangered\", linewidth=2, linestyle=\"--\", label=\"Optimal\")\n",
    "    elif optfun == 3:\n",
    "        y_opt = np.where(x_grid > 0, 1.86 * x_grid, 1.63 * x_grid)\n",
    "        ax.plot(x_grid, y_opt, color=\"orangered\", linewidth=2, linestyle=\"--\", label=\"Optimal\")\n",
    "\n",
    "    ax.set_xlabel(\"$X$\")\n",
    "    ax.set_ylabel(\"$Y$\")\n",
    "    ax.grid(True, linewidth=0.2)\n",
    "\n",
    "    handles, labels = ax.get_legend_handles_labels()\n",
    "    ax.legend(handles=handles, loc=\"upper left\")\n",
    "\n",
    "    plt.tight_layout()\n",
    "    if saveplot:\n",
    "        plt.savefig(f\"{nameplot}.png\", dpi=300, bbox_inches=\"tight\")\n",
    "    plt.show()"
   ],
   "id": "81bd26d5295d1c87",
   "outputs": [],
   "execution_count": 466
  },
  {
   "metadata": {
    "ExecuteTime": {
     "end_time": "2025-05-12T15:52:01.636843Z",
     "start_time": "2025-05-12T15:52:00.791142Z"
    }
   },
   "cell_type": "code",
   "source": [
    "preds_erm = spline(x_grid)\n",
    "preds_gdro = spline_minmax(x_grid)\n",
    "\n",
    "plot_dtr(dtr, x_grid, preds_erm, preds_gdro)"
   ],
   "id": "f3d272a65c379afb",
   "outputs": [
    {
     "data": {
      "text/plain": [
       "<Figure size 800x500 with 1 Axes>"
      ],
      "image/png": "[encoded data removed]"
     },
     "metadata": {},
     "output_type": "display_data"
    }
   ],
   "execution_count": 475
  },
  {
   "metadata": {},
   "cell_type": "markdown",
   "source": "## IML",
   "id": "19f404f9dbfa67a3"
  },
  {
   "metadata": {
    "ExecuteTime": {
     "end_time": "2025-05-19T08:11:03.151263Z",
     "start_time": "2025-05-19T08:11:03.126666Z"
    }
   },
   "cell_type": "code",
   "source": [
    "import numpy as np\n",
    "from scipy.special import factorial\n",
    "\n",
    "x1 = np.array([1, 2])\n",
    "x2 = np.array([3, 4])\n",
    "x3 = np.array([3, 4, 4])\n",
    "x4 = np.array([1, 1])\n",
    "\n",
    "pi1, pi2 = 0.5, 0.5\n",
    "l1, l2 = 1.5, 3.5\n",
    "\n",
    "gamma_11 = ((pi1 * np.prod(np.exp(-l1) * (l1**x1) / factorial(x1))) /\n",
    "            (pi1 * np.prod(np.exp(-l1) * (l1**x1) / factorial(x1)) +\n",
    "             pi2 * np.prod(np.exp(-l2) * (l2**x1) / factorial(x1))))\n",
    "gamma_12 = 1-gamma_11\n",
    "gamma_11, gamma_12"
   ],
   "id": "75a999357bfd7c4f",
   "outputs": [
    {
     "data": {
      "text/plain": [
       "(np.float64(0.8112428856213154), np.float64(0.1887571143786846))"
      ]
     },
     "execution_count": 22,
     "metadata": {},
     "output_type": "execute_result"
    }
   ],
   "execution_count": 22
  },
  {
   "metadata": {
    "ExecuteTime": {
     "end_time": "2025-05-19T08:11:03.665267Z",
     "start_time": "2025-05-19T08:11:03.643739Z"
    }
   },
   "cell_type": "code",
   "source": [
    "gamma_21 = ((pi1 * np.prod(np.exp(-l1) * (l1**x2) / factorial(x2))) /\n",
    "            (pi1 * np.prod(np.exp(-l1) * (l1**x2) / factorial(x2)) +\n",
    "             pi2 * np.prod(np.exp(-l2) * (l2**x2) / factorial(x2))))\n",
    "gamma_22 = 1-gamma_21\n",
    "gamma_21, gamma_22"
   ],
   "id": "701482dde81596d",
   "outputs": [
    {
     "data": {
      "text/plain": [
       "(np.float64(0.12663053315277262), np.float64(0.8733694668472274))"
      ]
     },
     "execution_count": 23,
     "metadata": {},
     "output_type": "execute_result"
    }
   ],
   "execution_count": 23
  },
  {
   "metadata": {
    "ExecuteTime": {
     "end_time": "2025-05-19T08:11:49.194189Z",
     "start_time": "2025-05-19T08:11:49.171203Z"
    }
   },
   "cell_type": "code",
   "source": [
    "gamma_31 = ((pi1 * np.prod(np.exp(-l1) * (l1**x3) / factorial(x3))) /\n",
    "            (pi1 * np.prod(np.exp(-l1) * (l1**x3) / factorial(x3)) +\n",
    "             pi2 * np.prod(np.exp(-l2) * (l2**x3) / factorial(x3))))\n",
    "gamma_32 = 1-gamma_31\n",
    "gamma_31, gamma_32"
   ],
   "id": "43caa325078c0125",
   "outputs": [
    {
     "data": {
      "text/plain": [
       "(np.float64(0.03488210007178075), np.float64(0.9651178999282193))"
      ]
     },
     "execution_count": 25,
     "metadata": {},
     "output_type": "execute_result"
    }
   ],
   "execution_count": 25
  },
  {
   "metadata": {
    "ExecuteTime": {
     "end_time": "2025-05-19T08:11:49.931970Z",
     "start_time": "2025-05-19T08:11:49.907553Z"
    }
   },
   "cell_type": "code",
   "source": [
    "gamma_41 = ((pi1 * np.prod(np.exp(-l1) * (l1**x4) / factorial(x4))) /\n",
    "            (pi1 * np.prod(np.exp(-l1) * (l1**x4) / factorial(x4)) +\n",
    "             pi2 * np.prod(np.exp(-l2) * (l2**x4) / factorial(x4))))\n",
    "gamma_42 = 1-gamma_41\n",
    "gamma_41, gamma_42"
   ],
   "id": "9b07f65e7f0ee3fc",
   "outputs": [
    {
     "data": {
      "text/plain": [
       "(np.float64(0.9093236311352831), np.float64(0.09067636886471686))"
      ]
     },
     "execution_count": 26,
     "metadata": {},
     "output_type": "execute_result"
    }
   ],
   "execution_count": 26
  },
  {
   "metadata": {
    "ExecuteTime": {
     "end_time": "2025-05-19T08:11:52.371321Z",
     "start_time": "2025-05-19T08:11:52.349499Z"
    }
   },
   "cell_type": "code",
   "source": [
    "x_12 = gamma_11 * l1 + gamma_12 * l2\n",
    "x_12"
   ],
   "id": "a6b91badde923cf3",
   "outputs": [
    {
     "data": {
      "text/plain": [
       "np.float64(1.8775142287573692)"
      ]
     },
     "execution_count": 27,
     "metadata": {},
     "output_type": "execute_result"
    }
   ],
   "execution_count": 27
  },
  {
   "metadata": {
    "ExecuteTime": {
     "end_time": "2025-05-19T08:11:52.762830Z",
     "start_time": "2025-05-19T08:11:52.739339Z"
    }
   },
   "cell_type": "code",
   "source": [
    "x_23 = gamma_21 * l1 + gamma_22 * l2\n",
    "x_23"
   ],
   "id": "4fc04d4ce2bc7e41",
   "outputs": [
    {
     "data": {
      "text/plain": [
       "np.float64(3.2467389336944548)"
      ]
     },
     "execution_count": 28,
     "metadata": {},
     "output_type": "execute_result"
    }
   ],
   "execution_count": 28
  },
  {
   "metadata": {
    "ExecuteTime": {
     "end_time": "2025-05-19T08:11:53.278343Z",
     "start_time": "2025-05-19T08:11:53.255563Z"
    }
   },
   "cell_type": "code",
   "source": [
    "x_41 = gamma_41 * l1 + gamma_42 * l2\n",
    "x_41"
   ],
   "id": "d5978597d6be6ff1",
   "outputs": [
    {
     "data": {
      "text/plain": [
       "np.float64(1.6813527377294337)"
      ]
     },
     "execution_count": 29,
     "metadata": {},
     "output_type": "execute_result"
    }
   ],
   "execution_count": 29
  },
  {
   "metadata": {
    "ExecuteTime": {
     "end_time": "2025-05-19T08:11:53.887010Z",
     "start_time": "2025-05-19T08:11:53.876271Z"
    }
   },
   "cell_type": "code",
   "source": "(gamma_11 + gamma_21 + gamma_31 + gamma_41) / 4",
   "id": "13a0d11f79e6f9f8",
   "outputs": [
    {
     "data": {
      "text/plain": [
       "np.float64(0.470519787495288)"
      ]
     },
     "execution_count": 30,
     "metadata": {},
     "output_type": "execute_result"
    }
   ],
   "execution_count": 30
  },
  {
   "metadata": {
    "ExecuteTime": {
     "end_time": "2025-05-19T08:11:54.572949Z",
     "start_time": "2025-05-19T08:11:54.563413Z"
    }
   },
   "cell_type": "code",
   "source": "(gamma_12 + gamma_22 + gamma_32 + gamma_42) / 4",
   "id": "a13c7c0fb47aa252",
   "outputs": [
    {
     "data": {
      "text/plain": [
       "np.float64(0.529480212504712)"
      ]
     },
     "execution_count": 31,
     "metadata": {},
     "output_type": "execute_result"
    }
   ],
   "execution_count": 31
  },
  {
   "metadata": {
    "ExecuteTime": {
     "end_time": "2025-05-19T08:11:55.856817Z",
     "start_time": "2025-05-19T08:11:55.848363Z"
    }
   },
   "cell_type": "code",
   "source": [
    "((gamma_11 * (np.sum(x1) + x_12) + gamma_21 * (np.sum(x2) + x_23) + gamma_31 * np.sum(x3) + gamma_41 * (np.sum(x4) + x_41))\n",
    " / (3 * (gamma_11 + gamma_21 + gamma_31 + gamma_41)))"
   ],
   "id": "f86c65a7ed4418cc",
   "outputs": [
    {
     "data": {
      "text/plain": [
       "np.float64(1.591439069160769)"
      ]
     },
     "execution_count": 32,
     "metadata": {},
     "output_type": "execute_result"
    }
   ],
   "execution_count": 32
  },
  {
   "metadata": {
    "ExecuteTime": {
     "end_time": "2025-05-19T08:11:57.658529Z",
     "start_time": "2025-05-19T08:11:57.647108Z"
    }
   },
   "cell_type": "code",
   "source": [
    "((gamma_12 * (np.sum(x1) + x_12) + gamma_22 * (np.sum(x2) + x_23) + gamma_32 * np.sum(x3) + gamma_42 * (np.sum(x4) + x_41))\n",
    " / (3 * (gamma_12 + gamma_22 + gamma_32 + gamma_42)))"
   ],
   "id": "b454c528a3f9d150",
   "outputs": [
    {
     "data": {
      "text/plain": [
       "np.float64(3.276792745173848)"
      ]
     },
     "execution_count": 33,
     "metadata": {},
     "output_type": "execute_result"
    }
   ],
   "execution_count": 33
  },
  {
   "metadata": {
    "ExecuteTime": {
     "end_time": "2025-05-16T07:28:27.215692Z",
     "start_time": "2025-05-16T07:28:27.020692Z"
    }
   },
   "cell_type": "code",
   "source": [
    "import seaborn as sns\n",
    "import matplotlib.pyplot as plt\n",
    "import pandas as pd\n",
    "import numpy as np\n",
    "\n",
    "# Example data\n",
    "np.random.seed(0)\n",
    "data = {\n",
    "    'Method': ['A'] * 10 + ['B'] * 10 + ['C'] * 10,\n",
    "    'MSE': np.concatenate([\n",
    "        np.random.normal(0.25, 0.01, 10),\n",
    "        np.random.normal(0.23, 0.015, 10),\n",
    "        np.random.normal(0.22, 0.012, 10)\n",
    "    ])\n",
    "}\n",
    "df = pd.DataFrame(data)\n",
    "\n",
    "plt.figure(figsize=(10, 5))\n",
    "sns.violinplot(x='Method', y='MSE', data=df, inner='point', linewidth=1.2)\n",
    "sns.pointplot(\n",
    "    x='Method', y='MSE', data=df, color='black',\n",
    "    errorbar=('ci', 95),  # updated ci parameter\n",
    "    linestyle='none',     # updated join parameter\n",
    "    capsize=0.2\n",
    ")\n",
    "plt.title('MSE Distribution with Mean and 95% CI')\n",
    "plt.grid(True, axis='y', linestyle='--', alpha=0.5)\n",
    "plt.show()\n"
   ],
   "id": "1b842d99d900c873",
   "outputs": [
    {
     "data": {
      "text/plain": [
       "<Figure size 1000x500 with 1 Axes>"
      ],
      "image/png": "[encoded data removed]"
     },
     "metadata": {},
     "output_type": "display_data"
    }
   ],
   "execution_count": 112
  }
 ],
 "metadata": {
  "kernelspec": {
   "display_name": "Python 3",
   "language": "python",
   "name": "python3"
  },
  "language_info": {
   "codemirror_mode": {
    "name": "ipython",
    "version": 2
   },
   "file_extension": ".py",
   "mimetype": "text/x-python",
   "name": "python",
   "nbconvert_exporter": "python",
   "pygments_lexer": "ipython2",
   "version": "2.7.6"
  }
 },
 "nbformat": 4,
 "nbformat_minor": 5
}
