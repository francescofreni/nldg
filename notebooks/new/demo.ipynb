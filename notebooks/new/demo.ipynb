{
 "cells": [
  {
   "cell_type": "code",
   "id": "initial_id",
   "metadata": {
    "collapsed": true,
    "ExecuteTime": {
     "end_time": "2025-04-05T07:09:03.414622Z",
     "start_time": "2025-04-05T07:08:58.653279Z"
    }
   },
   "source": [
    "import numpy as np\n",
    "from sklearn.ensemble import RandomForestRegressor\n",
    "from sklearn.metrics import mean_squared_error\n",
    "from nldg.new.utils import gen_data, max_mse, min_xplvar\n",
    "from nldg.new.rf import RF4DG, MaggingRF_PB\n",
    "from adaXT.random_forest import RandomForest"
   ],
   "outputs": [],
   "execution_count": 2
  },
  {
   "metadata": {
    "ExecuteTime": {
     "end_time": "2025-04-05T07:09:04.771247Z",
     "start_time": "2025-04-05T07:09:04.625117Z"
    }
   },
   "cell_type": "code",
   "source": [
    "dtr, dts1, dts2 = gen_data(n_train=1000, n_test=500)\n",
    "Xtr, Xts1, Xts2 = (np.array(dtr.drop(columns=['E', 'Y'])),\n",
    "                   np.array(dts1.drop(columns=['E', 'Y'])),\n",
    "                   np.array(dts2.drop(columns=['E', 'Y'])))\n",
    "Ytr, Yts1, Yts2 = np.array(dtr['Y']), np.array(dts1['Y']), np.array(dts2['Y'])\n",
    "Etr = np.array(dtr['E'])\n",
    "min_samples_leaf = 10\n",
    "n_estimators = 50\n",
    "random_state = 42\n",
    "# Switch to Xts1 and Yts1 to be in the convex hull\n",
    "X_test = Xts2\n",
    "Y_test = Yts2"
   ],
   "id": "3cba31d74ed9a7d7",
   "outputs": [],
   "execution_count": 3
  },
  {
   "metadata": {},
   "cell_type": "markdown",
   "source": "### Default",
   "id": "f7555fdf52e2d7b7"
  },
  {
   "metadata": {
    "ExecuteTime": {
     "end_time": "2025-04-05T07:09:07.567095Z",
     "start_time": "2025-04-05T07:09:07.337164Z"
    }
   },
   "cell_type": "code",
   "source": [
    "rf = RandomForestRegressor(n_estimators=n_estimators,\n",
    "                           min_samples_leaf=min_samples_leaf,\n",
    "                           random_state=random_state)\n",
    "rf.fit(Xtr, Ytr)\n",
    "fitted = rf.predict(Xtr)"
   ],
   "id": "abb1064e14304012",
   "outputs": [],
   "execution_count": 4
  },
  {
   "metadata": {
    "ExecuteTime": {
     "end_time": "2025-04-05T07:09:07.693165Z",
     "start_time": "2025-04-05T07:09:07.671550Z"
    }
   },
   "cell_type": "code",
   "source": "rf.feature_importances_",
   "id": "d3804c89b720209",
   "outputs": [
    {
     "data": {
      "text/plain": [
       "array([0.44989299, 0.55010701])"
      ]
     },
     "execution_count": 5,
     "metadata": {},
     "output_type": "execute_result"
    }
   ],
   "execution_count": 5
  },
  {
   "metadata": {
    "ExecuteTime": {
     "end_time": "2025-04-05T07:09:08.732626Z",
     "start_time": "2025-04-05T07:09:08.709561Z"
    }
   },
   "cell_type": "code",
   "source": "max_mse(Ytr, fitted, Etr, verbose=True)",
   "id": "c498ab1c7d412499",
   "outputs": [
    {
     "name": "stdout",
     "output_type": "stream",
     "text": [
      "Environment 0 MSE: 6.0536531345197755\n",
      "Environment 1 MSE: 17.645077340239204\n",
      "Environment 2 MSE: 38.36054161024032\n"
     ]
    },
    {
     "data": {
      "text/plain": [
       "np.float64(38.36054161024032)"
      ]
     },
     "execution_count": 6,
     "metadata": {},
     "output_type": "execute_result"
    }
   ],
   "execution_count": 6
  },
  {
   "metadata": {
    "ExecuteTime": {
     "end_time": "2025-04-05T07:09:09.139143Z",
     "start_time": "2025-04-05T07:09:09.114826Z"
    }
   },
   "cell_type": "code",
   "source": "min_xplvar(Ytr, fitted, Etr, verbose=True)",
   "id": "71da49f7a2c1c7b4",
   "outputs": [
    {
     "name": "stdout",
     "output_type": "stream",
     "text": [
      "Environment 0 explained variance: 9.827856042660768\n",
      "Environment 1 explained variance: 17.959868197923008\n",
      "Environment 2 explained variance: -4.412149939505497\n"
     ]
    },
    {
     "data": {
      "text/plain": [
       "np.float64(-4.412149939505497)"
      ]
     },
     "execution_count": 7,
     "metadata": {},
     "output_type": "execute_result"
    }
   ],
   "execution_count": 7
  },
  {
   "metadata": {
    "ExecuteTime": {
     "end_time": "2025-04-05T07:09:16.282178Z",
     "start_time": "2025-04-05T07:09:16.237213Z"
    }
   },
   "cell_type": "code",
   "source": [
    "preds = rf.predict(X_test)\n",
    "mean_squared_error(Y_test, preds)"
   ],
   "id": "5ef1e6a1b14c18e",
   "outputs": [
    {
     "data": {
      "text/plain": [
       "8.021324716941832"
      ]
     },
     "execution_count": 9,
     "metadata": {},
     "output_type": "execute_result"
    }
   ],
   "execution_count": 9
  },
  {
   "metadata": {},
   "cell_type": "markdown",
   "source": "### Maximin",
   "id": "92657583bc950932"
  },
  {
   "metadata": {
    "ExecuteTime": {
     "end_time": "2025-04-05T06:09:38.900606Z",
     "start_time": "2025-04-05T06:09:32.855857Z"
    }
   },
   "cell_type": "code",
   "source": [
    "rf_maximin = RF4DG(criterion='maximin',\n",
    "                   n_estimators=n_estimators,\n",
    "                   min_samples_leaf=min_samples_leaf,\n",
    "                   parallel=True,\n",
    "                   random_state=random_state)\n",
    "rf_maximin.fit(Xtr, Ytr, Etr)\n",
    "fitted_maximin = rf_maximin.predict(Xtr)"
   ],
   "id": "74695e7e82efa52e",
   "outputs": [
    {
     "name": "stderr",
     "output_type": "stream",
     "text": [
      "100%|██████████| 50/50 [00:00<00:00, 53.21it/s]\n"
     ]
    }
   ],
   "execution_count": 19
  },
  {
   "metadata": {
    "ExecuteTime": {
     "end_time": "2025-04-05T06:09:38.994740Z",
     "start_time": "2025-04-05T06:09:38.969251Z"
    }
   },
   "cell_type": "code",
   "source": "max_mse(Ytr, fitted_maximin, Etr, verbose=True)",
   "id": "9b50596d25d2cd46",
   "outputs": [
    {
     "name": "stdout",
     "output_type": "stream",
     "text": [
      "Environment 0 MSE: 13.107976412951944\n",
      "Environment 1 MSE: 31.45390718213243\n",
      "Environment 2 MSE: 31.969858315979202\n"
     ]
    },
    {
     "data": {
      "text/plain": [
       "np.float64(31.969858315979202)"
      ]
     },
     "execution_count": 20,
     "metadata": {},
     "output_type": "execute_result"
    }
   ],
   "execution_count": 20
  },
  {
   "metadata": {
    "ExecuteTime": {
     "end_time": "2025-04-05T06:09:40.358238Z",
     "start_time": "2025-04-05T06:09:40.333930Z"
    }
   },
   "cell_type": "code",
   "source": "min_xplvar(Ytr, fitted_maximin, Etr, verbose=True)",
   "id": "8860e99193ca404d",
   "outputs": [
    {
     "name": "stdout",
     "output_type": "stream",
     "text": [
      "Environment 0 explained variance: 2.7735327642286\n",
      "Environment 1 explained variance: 4.151038356029783\n",
      "Environment 2 explained variance: 1.9785333547556192\n"
     ]
    },
    {
     "data": {
      "text/plain": [
       "np.float64(1.9785333547556192)"
      ]
     },
     "execution_count": 21,
     "metadata": {},
     "output_type": "execute_result"
    }
   ],
   "execution_count": 21
  },
  {
   "metadata": {
    "ExecuteTime": {
     "end_time": "2025-04-05T06:09:43.651229Z",
     "start_time": "2025-04-05T06:09:43.598269Z"
    }
   },
   "cell_type": "code",
   "source": [
    "preds_maximin = rf_maximin.predict(X_test)\n",
    "mean_squared_error(Y_test, preds_maximin)"
   ],
   "id": "af650d538e7278e2",
   "outputs": [
    {
     "data": {
      "text/plain": [
       "5.748851601657065"
      ]
     },
     "execution_count": 22,
     "metadata": {},
     "output_type": "execute_result"
    }
   ],
   "execution_count": 22
  },
  {
   "metadata": {},
   "cell_type": "markdown",
   "source": "### Maximin - adaXT",
   "id": "805d19171687f1a0"
  },
  {
   "metadata": {
    "ExecuteTime": {
     "end_time": "2025-04-05T06:09:51.432423Z",
     "start_time": "2025-04-05T06:09:45.035653Z"
    }
   },
   "cell_type": "code",
   "source": [
    "rf_adaxt = RandomForest(\"MaximinRegression\",\n",
    "                        n_estimators=n_estimators,\n",
    "                        min_samples_leaf=min_samples_leaf,\n",
    "                        seed=random_state)\n",
    "rf_adaxt.fit(Xtr, Ytr, Etr)\n",
    "fitted_adaxt = rf_adaxt.predict(Xtr)"
   ],
   "id": "4fb7944c5f8862c1",
   "outputs": [],
   "execution_count": 23
  },
  {
   "metadata": {
    "ExecuteTime": {
     "end_time": "2025-04-05T06:09:51.464144Z",
     "start_time": "2025-04-05T06:09:51.446081Z"
    }
   },
   "cell_type": "code",
   "source": "max_mse(Ytr, fitted_adaxt, Etr, verbose=True)",
   "id": "abd8aa412e286ee0",
   "outputs": [
    {
     "name": "stdout",
     "output_type": "stream",
     "text": [
      "Environment 0 MSE: 14.191454635911825\n",
      "Environment 1 MSE: 33.294863803020675\n",
      "Environment 2 MSE: 32.52241194004936\n"
     ]
    },
    {
     "data": {
      "text/plain": [
       "np.float64(33.294863803020675)"
      ]
     },
     "execution_count": 24,
     "metadata": {},
     "output_type": "execute_result"
    }
   ],
   "execution_count": 24
  },
  {
   "metadata": {
    "ExecuteTime": {
     "end_time": "2025-04-05T06:09:53.194381Z",
     "start_time": "2025-04-05T06:09:53.172642Z"
    }
   },
   "cell_type": "code",
   "source": "min_xplvar(Ytr, fitted_adaxt, Etr, verbose=True)",
   "id": "20edf9336163b47c",
   "outputs": [
    {
     "name": "stdout",
     "output_type": "stream",
     "text": [
      "Environment 0 explained variance: 1.6900545412687187\n",
      "Environment 1 explained variance: 2.3100817351415373\n",
      "Environment 2 explained variance: 1.4259797306854622\n"
     ]
    },
    {
     "data": {
      "text/plain": [
       "np.float64(1.4259797306854622)"
      ]
     },
     "execution_count": 25,
     "metadata": {},
     "output_type": "execute_result"
    }
   ],
   "execution_count": 25
  },
  {
   "metadata": {
    "ExecuteTime": {
     "end_time": "2025-04-05T06:09:54.162616Z",
     "start_time": "2025-04-05T06:09:54.121809Z"
    }
   },
   "cell_type": "code",
   "source": [
    "preds_adaxt = rf_adaxt.predict(X_test)\n",
    "mean_squared_error(Y_test, preds_adaxt)"
   ],
   "id": "d127d0ca5c32b329",
   "outputs": [
    {
     "data": {
      "text/plain": [
       "5.865319125629842"
      ]
     },
     "execution_count": 26,
     "metadata": {},
     "output_type": "execute_result"
    }
   ],
   "execution_count": 26
  },
  {
   "metadata": {},
   "cell_type": "markdown",
   "source": "### Maximin - Global - adaXT",
   "id": "9b5e3c5ed908c346"
  },
  {
   "metadata": {
    "ExecuteTime": {
     "end_time": "2025-04-05T06:10:02.080925Z",
     "start_time": "2025-04-05T06:09:55.381814Z"
    }
   },
   "cell_type": "code",
   "source": [
    "rf_adaxt_global = RandomForest(\"MaximinRegression_Global\",\n",
    "                               n_estimators=n_estimators,\n",
    "                               min_samples_leaf=min_samples_leaf,\n",
    "                               seed=random_state)\n",
    "rf_adaxt_global.fit(Xtr, Ytr, Etr)\n",
    "fitted_adaxt_global = rf_adaxt_global.predict(Xtr)"
   ],
   "id": "2c41636a0e2f7ac",
   "outputs": [],
   "execution_count": 27
  },
  {
   "metadata": {
    "ExecuteTime": {
     "end_time": "2025-04-05T06:10:02.111640Z",
     "start_time": "2025-04-05T06:10:02.091456Z"
    }
   },
   "cell_type": "code",
   "source": "max_mse(Ytr, fitted_adaxt_global, Etr, verbose=True)",
   "id": "4d01e59896fc9128",
   "outputs": [
    {
     "name": "stdout",
     "output_type": "stream",
     "text": [
      "Environment 0 MSE: 14.365651340868284\n",
      "Environment 1 MSE: 33.07413714886074\n",
      "Environment 2 MSE: 32.809451026864686\n"
     ]
    },
    {
     "data": {
      "text/plain": [
       "np.float64(33.07413714886074)"
      ]
     },
     "execution_count": 28,
     "metadata": {},
     "output_type": "execute_result"
    }
   ],
   "execution_count": 28
  },
  {
   "metadata": {
    "ExecuteTime": {
     "end_time": "2025-04-05T06:10:02.971087Z",
     "start_time": "2025-04-05T06:10:02.946226Z"
    }
   },
   "cell_type": "code",
   "source": "min_xplvar(Ytr, fitted_adaxt_global, Etr, verbose=True)",
   "id": "65eb548870513d81",
   "outputs": [
    {
     "name": "stdout",
     "output_type": "stream",
     "text": [
      "Environment 0 explained variance: 1.515857836312259\n",
      "Environment 1 explained variance: 2.5308083893014697\n",
      "Environment 2 explained variance: 1.1389406438701357\n"
     ]
    },
    {
     "data": {
      "text/plain": [
       "np.float64(1.1389406438701357)"
      ]
     },
     "execution_count": 29,
     "metadata": {},
     "output_type": "execute_result"
    }
   ],
   "execution_count": 29
  },
  {
   "metadata": {
    "ExecuteTime": {
     "end_time": "2025-04-05T06:10:04.047152Z",
     "start_time": "2025-04-05T06:10:04.023042Z"
    }
   },
   "cell_type": "code",
   "source": [
    "preds_adaxt_global = rf_adaxt_global.predict(X_test)\n",
    "mean_squared_error(Y_test, preds_adaxt_global)"
   ],
   "id": "e2e25835fec1eeaf",
   "outputs": [
    {
     "data": {
      "text/plain": [
       "5.921439033128586"
      ]
     },
     "execution_count": 30,
     "metadata": {},
     "output_type": "execute_result"
    }
   ],
   "execution_count": 30
  },
  {
   "metadata": {},
   "cell_type": "markdown",
   "source": "### Magging",
   "id": "c03a9bb1dbfc2e15"
  },
  {
   "metadata": {
    "ExecuteTime": {
     "end_time": "2025-04-05T06:10:06.037174Z",
     "start_time": "2025-04-05T06:10:05.678357Z"
    }
   },
   "cell_type": "code",
   "source": [
    "rf_magging = MaggingRF_PB(n_estimators=n_estimators,\n",
    "                          min_samples_leaf=min_samples_leaf,\n",
    "                          random_state=random_state,\n",
    "                          backend='sklearn')\n",
    "fitted_magging, preds_magging = rf_magging.fit_predict_magging(Xtr, Ytr, Etr, X_test)\n",
    "wmag = rf_magging.get_weights()"
   ],
   "id": "d4ed5d856f29b62f",
   "outputs": [],
   "execution_count": 31
  },
  {
   "metadata": {
    "ExecuteTime": {
     "end_time": "2025-04-05T06:10:06.130696Z",
     "start_time": "2025-04-05T06:10:06.105782Z"
    }
   },
   "cell_type": "code",
   "source": "max_mse(Ytr, fitted_magging, Etr, verbose=True)",
   "id": "c482106814bd7857",
   "outputs": [
    {
     "name": "stdout",
     "output_type": "stream",
     "text": [
      "Environment 0 MSE: 14.735047423507314\n",
      "Environment 1 MSE: 34.59357589558412\n",
      "Environment 2 MSE: 32.63989748823563\n"
     ]
    },
    {
     "data": {
      "text/plain": [
       "np.float64(34.59357589558412)"
      ]
     },
     "execution_count": 32,
     "metadata": {},
     "output_type": "execute_result"
    }
   ],
   "execution_count": 32
  },
  {
   "metadata": {
    "ExecuteTime": {
     "end_time": "2025-04-05T06:10:07.209508Z",
     "start_time": "2025-04-05T06:10:07.186451Z"
    }
   },
   "cell_type": "code",
   "source": "min_xplvar(Ytr, fitted_magging, Etr, verbose=True)",
   "id": "dc1211215bf5cbcb",
   "outputs": [
    {
     "name": "stdout",
     "output_type": "stream",
     "text": [
      "Environment 0 explained variance: 1.1464617536732291\n",
      "Environment 1 explained variance: 1.0113696425780958\n",
      "Environment 2 explained variance: 1.3084941824991887\n"
     ]
    },
    {
     "data": {
      "text/plain": [
       "np.float64(1.0113696425780958)"
      ]
     },
     "execution_count": 33,
     "metadata": {},
     "output_type": "execute_result"
    }
   ],
   "execution_count": 33
  },
  {
   "metadata": {
    "ExecuteTime": {
     "end_time": "2025-04-05T06:54:07.348987Z",
     "start_time": "2025-04-05T06:54:07.188152Z"
    }
   },
   "cell_type": "code",
   "source": "mean_squared_error(Y_test, preds_magging)",
   "id": "7694ca10f47c4d9f",
   "outputs": [
    {
     "data": {
      "text/plain": [
       "6.470894602826004"
      ]
     },
     "execution_count": 36,
     "metadata": {},
     "output_type": "execute_result"
    }
   ],
   "execution_count": 36
  },
  {
   "metadata": {
    "ExecuteTime": {
     "end_time": "2025-04-05T06:10:09.661358Z",
     "start_time": "2025-04-05T06:10:09.646755Z"
    }
   },
   "cell_type": "code",
   "source": "wmag",
   "id": "7d0d393448374abe",
   "outputs": [
    {
     "data": {
      "text/plain": [
       "array([2.81683987e-18, 4.93589477e-01, 5.06410523e-01])"
      ]
     },
     "execution_count": 35,
     "metadata": {},
     "output_type": "execute_result"
    }
   ],
   "execution_count": 35
  },
  {
   "metadata": {},
   "cell_type": "markdown",
   "source": "### RF on each environment + equal weights",
   "id": "2645e6354e259192"
  },
  {
   "metadata": {
    "ExecuteTime": {
     "end_time": "2025-04-05T06:55:10.152359Z",
     "start_time": "2025-04-05T06:55:09.667948Z"
    }
   },
   "cell_type": "code",
   "source": [
    "n_envs = len(np.unique(Etr))\n",
    "winit = np.array([1 / n_envs] * n_envs)\n",
    "preds_envs = []\n",
    "fitted_envs = []\n",
    "for env in np.unique(Etr):\n",
    "    Xtr_e = Xtr[Etr == env]\n",
    "    Ytr_e = Ytr[Etr == env]\n",
    "    Etr_e = Etr[Etr == env]\n",
    "    rfm = RandomForestRegressor(\n",
    "        n_estimators=n_estimators,\n",
    "        min_samples_leaf=min_samples_leaf,\n",
    "        random_state=random_state,\n",
    "    )\n",
    "    rfm.fit(Xtr_e, Ytr_e)\n",
    "    preds_envs.append(rfm.predict(X_test))\n",
    "    fitted_envs.append(rfm.predict(Xtr))\n",
    "preds_envs = np.column_stack(preds_envs)\n",
    "fitted_envs = np.column_stack(fitted_envs)\n",
    "\n",
    "preds_magging_wdef = np.dot(winit, preds_envs.T)\n",
    "fitted_magging_wdef = np.dot(winit, fitted_envs.T)"
   ],
   "id": "9193f2388a50ba45",
   "outputs": [],
   "execution_count": 41
  },
  {
   "metadata": {
    "ExecuteTime": {
     "end_time": "2025-04-05T06:55:10.730867Z",
     "start_time": "2025-04-05T06:55:10.709821Z"
    }
   },
   "cell_type": "code",
   "source": "max_mse(Ytr, fitted_magging_wdef, Etr, verbose=True)",
   "id": "1e89059e11a358f0",
   "outputs": [
    {
     "name": "stdout",
     "output_type": "stream",
     "text": [
      "Environment 0 MSE: 6.974183806082349\n",
      "Environment 1 MSE: 21.07533639413647\n",
      "Environment 2 MSE: 49.25600111353233\n"
     ]
    },
    {
     "data": {
      "text/plain": [
       "np.float64(49.25600111353233)"
      ]
     },
     "execution_count": 42,
     "metadata": {},
     "output_type": "execute_result"
    }
   ],
   "execution_count": 42
  },
  {
   "metadata": {
    "ExecuteTime": {
     "end_time": "2025-04-05T06:55:12.775719Z",
     "start_time": "2025-04-05T06:55:12.765532Z"
    }
   },
   "cell_type": "code",
   "source": "min_xplvar(Ytr, fitted_magging_wdef, Etr, verbose=True)",
   "id": "c64d91ccea0a82d6",
   "outputs": [
    {
     "name": "stdout",
     "output_type": "stream",
     "text": [
      "Environment 0 explained variance: 8.907325371098194\n",
      "Environment 1 explained variance: 14.529609144025741\n",
      "Environment 2 explained variance: -15.307609442797506\n"
     ]
    },
    {
     "data": {
      "text/plain": [
       "np.float64(-15.307609442797506)"
      ]
     },
     "execution_count": 43,
     "metadata": {},
     "output_type": "execute_result"
    }
   ],
   "execution_count": 43
  },
  {
   "metadata": {
    "ExecuteTime": {
     "end_time": "2025-04-05T06:55:14.553694Z",
     "start_time": "2025-04-05T06:55:14.540633Z"
    }
   },
   "cell_type": "code",
   "source": "mean_squared_error(Y_test, preds_magging_wdef)",
   "id": "85b7a79d39e778e8",
   "outputs": [
    {
     "data": {
      "text/plain": [
       "7.55324796247885"
      ]
     },
     "execution_count": 44,
     "metadata": {},
     "output_type": "execute_result"
    }
   ],
   "execution_count": 44
  }
 ],
 "metadata": {
  "kernelspec": {
   "display_name": "Python 3",
   "language": "python",
   "name": "python3"
  },
  "language_info": {
   "codemirror_mode": {
    "name": "ipython",
    "version": 2
   },
   "file_extension": ".py",
   "mimetype": "text/x-python",
   "name": "python",
   "nbconvert_exporter": "python",
   "pygments_lexer": "ipython2",
   "version": "2.7.6"
  }
 },
 "nbformat": 4,
 "nbformat_minor": 5
}
