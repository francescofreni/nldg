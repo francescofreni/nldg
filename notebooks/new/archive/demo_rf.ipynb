{
 "cells": [
  {
   "cell_type": "code",
   "id": "initial_id",
   "metadata": {
    "collapsed": true,
    "ExecuteTime": {
     "end_time": "2025-04-02T17:14:35.845167Z",
     "start_time": "2025-04-02T17:14:31.678560Z"
    }
   },
   "source": [
    "import numpy as np\n",
    "from sklearn.metrics import r2_score, mean_squared_error\n",
    "from nldg.new.archive.utils import gen_data_v3, max_mse, min_xplvar\n",
    "from nldg.new.archive.rf import MaggingRF, RF4DG, MaggingRF_PB\n",
    "from sklearn.ensemble import RandomForestRegressor\n",
    "from adaXT.random_forest import RandomForest\n"
   ],
   "outputs": [],
   "execution_count": 1
  },
  {
   "metadata": {
    "ExecuteTime": {
     "end_time": "2025-04-02T17:14:35.986129Z",
     "start_time": "2025-04-02T17:14:35.851621Z"
    }
   },
   "cell_type": "code",
   "source": [
    "dtr, dts = gen_data_v3(n_train=1000, n_test=500, train_setting=2, test_setting=2)\n",
    "Xtr, Xts = np.array(dtr.drop(columns=['E', 'Y'])), np.array(dts.drop(columns=['E', 'Y']))\n",
    "Ytr, Yts = np.array(dtr['Y']), np.array(dts['Y'])\n",
    "Etr = np.array(dtr['E'])\n",
    "min_samples_leaf = 10\n",
    "n_estimators = 50\n",
    "random_state = 42"
   ],
   "id": "9559390aabc1bd3a",
   "outputs": [],
   "execution_count": 2
  },
  {
   "metadata": {},
   "cell_type": "markdown",
   "source": "## Inefficient, but easy to understand",
   "id": "18cf2a76e24ebf1"
  },
  {
   "metadata": {},
   "cell_type": "markdown",
   "source": "### Maximin",
   "id": "349542ea11d3e0e8"
  },
  {
   "metadata": {
    "ExecuteTime": {
     "end_time": "2025-04-02T17:14:43.143631Z",
     "start_time": "2025-04-02T17:14:37.035860Z"
    }
   },
   "cell_type": "code",
   "source": [
    "mrf = RF4DG(criterion='maximin', n_estimators=n_estimators, min_samples_leaf=min_samples_leaf, parallel=True, random_state=random_state)\n",
    "mrf.fit(Xtr, Ytr, Etr)\n",
    "mpreds = mrf.predict(Xts)\n",
    "mfitted = mrf.predict(Xtr)"
   ],
   "id": "873d4089b9c29f9c",
   "outputs": [
    {
     "name": "stderr",
     "output_type": "stream",
     "text": [
      "100%|██████████| 50/50 [00:03<00:00, 13.87it/s]\n"
     ]
    }
   ],
   "execution_count": 3
  },
  {
   "metadata": {
    "ExecuteTime": {
     "end_time": "2025-04-02T17:14:43.174871Z",
     "start_time": "2025-04-02T17:14:43.152136Z"
    }
   },
   "cell_type": "code",
   "source": "mean_squared_error(Ytr, mfitted), r2_score(Ytr, mfitted)",
   "id": "d56182fa8dd51185",
   "outputs": [
    {
     "data": {
      "text/plain": [
       "(40.16657491488834, 0.12867487134496736)"
      ]
     },
     "execution_count": 4,
     "metadata": {},
     "output_type": "execute_result"
    }
   ],
   "execution_count": 4
  },
  {
   "metadata": {
    "ExecuteTime": {
     "end_time": "2025-04-02T17:14:43.628737Z",
     "start_time": "2025-04-02T17:14:43.620220Z"
    }
   },
   "cell_type": "code",
   "source": "mean_squared_error(Yts, mpreds), r2_score(Yts, mpreds)",
   "id": "76ad8d4b9a61363f",
   "outputs": [
    {
     "data": {
      "text/plain": [
       "(9.787894340420301, 0.38303258218237624)"
      ]
     },
     "execution_count": 5,
     "metadata": {},
     "output_type": "execute_result"
    }
   ],
   "execution_count": 5
  },
  {
   "metadata": {
    "ExecuteTime": {
     "end_time": "2025-04-02T17:14:44.003098Z",
     "start_time": "2025-04-02T17:14:43.992568Z"
    }
   },
   "cell_type": "code",
   "source": "max_mse(Ytr, mfitted, Etr, verbose=True)",
   "id": "4cbec870d0548e2b",
   "outputs": [
    {
     "name": "stdout",
     "output_type": "stream",
     "text": [
      "Environment 0 MSE: 37.479799544632584\n",
      "Environment 1 MSE: 39.27866772107278\n",
      "Environment 2 MSE: 43.741257478959675\n"
     ]
    },
    {
     "data": {
      "text/plain": [
       "np.float64(43.741257478959675)"
      ]
     },
     "execution_count": 6,
     "metadata": {},
     "output_type": "execute_result"
    }
   ],
   "execution_count": 6
  },
  {
   "metadata": {
    "ExecuteTime": {
     "end_time": "2025-04-02T17:14:44.976181Z",
     "start_time": "2025-04-02T17:14:44.950914Z"
    }
   },
   "cell_type": "code",
   "source": "min_xplvar(Ytr, mfitted, Etr, verbose=True)",
   "id": "26f3de2c8fb938af",
   "outputs": [
    {
     "name": "stdout",
     "output_type": "stream",
     "text": [
      "Environment 0 explained variance: -1.049480802108583\n",
      "Environment 1 explained variance: -3.274301869009143\n",
      "Environment 2 explained variance: 28.133423192169154\n"
     ]
    },
    {
     "data": {
      "text/plain": [
       "np.float64(-3.274301869009143)"
      ]
     },
     "execution_count": 7,
     "metadata": {},
     "output_type": "execute_result"
    }
   ],
   "execution_count": 7
  },
  {
   "metadata": {},
   "cell_type": "markdown",
   "source": "### Default",
   "id": "792876e38a9e1fb5"
  },
  {
   "metadata": {
    "ExecuteTime": {
     "end_time": "2025-04-02T17:14:48.170860Z",
     "start_time": "2025-04-02T17:14:45.750804Z"
    }
   },
   "cell_type": "code",
   "source": [
    "rf = RF4DG(criterion='mse', n_estimators=n_estimators, min_samples_leaf=min_samples_leaf, parallel=True, random_state=random_state)\n",
    "rf.fit(Xtr, Ytr, Etr)\n",
    "preds = rf.predict(Xts)\n",
    "fitted = rf.predict(Xtr)"
   ],
   "id": "126665c906423584",
   "outputs": [
    {
     "name": "stderr",
     "output_type": "stream",
     "text": [
      "100%|██████████| 50/50 [00:00<00:00, 80.33it/s]\n"
     ]
    }
   ],
   "execution_count": 8
  },
  {
   "metadata": {
    "ExecuteTime": {
     "end_time": "2025-04-02T17:14:48.964562Z",
     "start_time": "2025-04-02T17:14:48.939603Z"
    }
   },
   "cell_type": "code",
   "source": "mean_squared_error(Ytr, fitted), r2_score(Ytr, fitted)",
   "id": "f97f45c5323b0aa4",
   "outputs": [
    {
     "data": {
      "text/plain": [
       "(25.11030796060338, 0.45528732881253553)"
      ]
     },
     "execution_count": 9,
     "metadata": {},
     "output_type": "execute_result"
    }
   ],
   "execution_count": 9
  },
  {
   "metadata": {
    "ExecuteTime": {
     "end_time": "2025-04-02T17:14:49.579020Z",
     "start_time": "2025-04-02T17:14:49.569472Z"
    }
   },
   "cell_type": "code",
   "source": "mean_squared_error(Yts, preds), r2_score(Yts, preds)",
   "id": "8fa6134766abaf6e",
   "outputs": [
    {
     "data": {
      "text/plain": [
       "(28.310778442036522, -0.7845337581607037)"
      ]
     },
     "execution_count": 10,
     "metadata": {},
     "output_type": "execute_result"
    }
   ],
   "execution_count": 10
  },
  {
   "metadata": {
    "ExecuteTime": {
     "end_time": "2025-04-02T17:14:51.673649Z",
     "start_time": "2025-04-02T17:14:51.649058Z"
    }
   },
   "cell_type": "code",
   "source": "max_mse(Ytr, fitted, Etr, verbose=True)",
   "id": "64b11324e8777816",
   "outputs": [
    {
     "name": "stdout",
     "output_type": "stream",
     "text": [
      "Environment 0 MSE: 25.42306864859348\n",
      "Environment 1 MSE: 25.76697543942067\n",
      "Environment 2 MSE: 24.14087979379599\n"
     ]
    },
    {
     "data": {
      "text/plain": [
       "np.float64(25.76697543942067)"
      ]
     },
     "execution_count": 11,
     "metadata": {},
     "output_type": "execute_result"
    }
   ],
   "execution_count": 11
  },
  {
   "metadata": {
    "ExecuteTime": {
     "end_time": "2025-04-02T17:14:52.502583Z",
     "start_time": "2025-04-02T17:14:52.479529Z"
    }
   },
   "cell_type": "code",
   "source": "min_xplvar(Ytr, fitted, Etr, verbose=True)",
   "id": "2a9759cdcda8ebce",
   "outputs": [
    {
     "name": "stdout",
     "output_type": "stream",
     "text": [
      "Environment 0 explained variance: 11.007250093930523\n",
      "Environment 1 explained variance: 10.237390412642966\n",
      "Environment 2 explained variance: 47.73380087733284\n"
     ]
    },
    {
     "data": {
      "text/plain": [
       "np.float64(10.237390412642966)"
      ]
     },
     "execution_count": 12,
     "metadata": {},
     "output_type": "execute_result"
    }
   ],
   "execution_count": 12
  },
  {
   "metadata": {},
   "cell_type": "markdown",
   "source": "### Magging - Forest",
   "id": "cdd6db0da7a3e17b"
  },
  {
   "metadata": {
    "ExecuteTime": {
     "end_time": "2025-04-02T17:14:55.935038Z",
     "start_time": "2025-04-02T17:14:54.060734Z"
    }
   },
   "cell_type": "code",
   "source": [
    "rfm = MaggingRF_PB(n_estimators=n_estimators, min_samples_leaf=min_samples_leaf, parallel=True, random_state=random_state)\n",
    "wfitted, wpreds = rfm.fit_predict_magging(Xtr, Ytr, Etr, Xts)\n",
    "wmag = rfm.get_weights()"
   ],
   "id": "329ef34aaab12414",
   "outputs": [
    {
     "name": "stderr",
     "output_type": "stream",
     "text": [
      "100%|██████████| 50/50 [00:00<00:00, 419.01it/s]\n",
      "100%|██████████| 50/50 [00:00<00:00, 537.50it/s]\n",
      "100%|██████████| 50/50 [00:00<00:00, 360.15it/s]\n"
     ]
    }
   ],
   "execution_count": 13
  },
  {
   "metadata": {
    "ExecuteTime": {
     "end_time": "2025-04-02T17:14:56.667499Z",
     "start_time": "2025-04-02T17:14:56.642863Z"
    }
   },
   "cell_type": "code",
   "source": "mean_squared_error(Ytr, wfitted), r2_score(Ytr, wfitted)",
   "id": "d94f111922d446cf",
   "outputs": [
    {
     "data": {
      "text/plain": [
       "(37.77141298353625, 0.18063261935826447)"
      ]
     },
     "execution_count": 14,
     "metadata": {},
     "output_type": "execute_result"
    }
   ],
   "execution_count": 14
  },
  {
   "metadata": {
    "ExecuteTime": {
     "end_time": "2025-04-02T17:14:57.242771Z",
     "start_time": "2025-04-02T17:14:57.218053Z"
    }
   },
   "cell_type": "code",
   "source": "mean_squared_error(Yts, wpreds), r2_score(Yts, wpreds)",
   "id": "2331c890f8ed9570",
   "outputs": [
    {
     "data": {
      "text/plain": [
       "(23.342130197163915, -0.47134136242510727)"
      ]
     },
     "execution_count": 15,
     "metadata": {},
     "output_type": "execute_result"
    }
   ],
   "execution_count": 15
  },
  {
   "metadata": {
    "ExecuteTime": {
     "end_time": "2025-04-02T17:15:06.494655Z",
     "start_time": "2025-04-02T17:15:06.469153Z"
    }
   },
   "cell_type": "code",
   "source": "max_mse(Ytr, wfitted, Etr, verbose=True)",
   "id": "bfbc960e45bf3b05",
   "outputs": [
    {
     "name": "stdout",
     "output_type": "stream",
     "text": [
      "Environment 0 MSE: 25.580746973937888\n",
      "Environment 1 MSE: 26.19074647489119\n",
      "Environment 2 MSE: 61.542745501779685\n"
     ]
    },
    {
     "data": {
      "text/plain": [
       "np.float64(61.542745501779685)"
      ]
     },
     "execution_count": 16,
     "metadata": {},
     "output_type": "execute_result"
    }
   ],
   "execution_count": 16
  },
  {
   "metadata": {
    "ExecuteTime": {
     "end_time": "2025-04-02T17:15:10.774922Z",
     "start_time": "2025-04-02T17:15:10.765356Z"
    }
   },
   "cell_type": "code",
   "source": "wmag",
   "id": "9c3bd160644e8dc1",
   "outputs": [
    {
     "data": {
      "text/plain": [
       "array([0.46634621, 0.48050911, 0.05314468])"
      ]
     },
     "execution_count": 17,
     "metadata": {},
     "output_type": "execute_result"
    }
   ],
   "execution_count": 17
  },
  {
   "metadata": {
    "ExecuteTime": {
     "end_time": "2025-04-02T17:15:13.492597Z",
     "start_time": "2025-04-02T17:15:13.466312Z"
    }
   },
   "cell_type": "code",
   "source": "min_xplvar(Ytr, wfitted, Etr, verbose=True)",
   "id": "b4822ba7bbc9527c",
   "outputs": [
    {
     "name": "stdout",
     "output_type": "stream",
     "text": [
      "Environment 0 explained variance: 10.849571768586113\n",
      "Environment 1 explained variance: 9.813619377172447\n",
      "Environment 2 explained variance: 10.331935169349144\n"
     ]
    },
    {
     "data": {
      "text/plain": [
       "np.float64(9.813619377172447)"
      ]
     },
     "execution_count": 18,
     "metadata": {},
     "output_type": "execute_result"
    }
   ],
   "execution_count": 18
  },
  {
   "metadata": {},
   "cell_type": "markdown",
   "source": "### Magging - Trees",
   "id": "acdfeb2fb250e4ca"
  },
  {
   "metadata": {
    "ExecuteTime": {
     "end_time": "2025-04-02T17:15:20.020879Z",
     "start_time": "2025-04-02T17:15:19.391994Z"
    }
   },
   "cell_type": "code",
   "source": [
    "rfm2 = MaggingRF(n_estimators=n_estimators, min_samples_leaf=min_samples_leaf, random_state=random_state)\n",
    "rfm2.fit(Xtr, Ytr)\n",
    "wpreds2, _ = rfm2.predict_maximin(Xtr, Xts)\n",
    "wfitted2, _ = rfm2.predict_maximin(Xtr, Xtr)"
   ],
   "id": "7548cd49821e8c8",
   "outputs": [],
   "execution_count": 19
  },
  {
   "metadata": {
    "ExecuteTime": {
     "end_time": "2025-04-02T17:15:24.191586Z",
     "start_time": "2025-04-02T17:15:24.166012Z"
    }
   },
   "cell_type": "code",
   "source": "mean_squared_error(Ytr, wfitted2), r2_score(Ytr, wfitted2)",
   "id": "e22f3aa6fd2e04d5",
   "outputs": [
    {
     "data": {
      "text/plain": [
       "(29.370510828841766, 0.36287163690626756)"
      ]
     },
     "execution_count": 20,
     "metadata": {},
     "output_type": "execute_result"
    }
   ],
   "execution_count": 20
  },
  {
   "metadata": {
    "ExecuteTime": {
     "end_time": "2025-04-02T17:15:25.442026Z",
     "start_time": "2025-04-02T17:15:25.432003Z"
    }
   },
   "cell_type": "code",
   "source": "mean_squared_error(Yts, wpreds2), r2_score(Yts, wpreds2)",
   "id": "5abcbad6bf055894",
   "outputs": [
    {
     "data": {
      "text/plain": [
       "(25.597681149048274, -0.6135171356957061)"
      ]
     },
     "execution_count": 21,
     "metadata": {},
     "output_type": "execute_result"
    }
   ],
   "execution_count": 21
  },
  {
   "metadata": {
    "ExecuteTime": {
     "end_time": "2025-04-02T17:15:27.129585Z",
     "start_time": "2025-04-02T17:15:27.104024Z"
    }
   },
   "cell_type": "code",
   "source": "max_mse(Ytr, wfitted2, Etr, verbose=True)",
   "id": "b3de922f815f28bf",
   "outputs": [
    {
     "name": "stdout",
     "output_type": "stream",
     "text": [
      "Environment 0 MSE: 28.084572676792458\n",
      "Environment 1 MSE: 25.95257406198103\n",
      "Environment 2 MSE: 34.074385747751805\n"
     ]
    },
    {
     "data": {
      "text/plain": [
       "np.float64(34.074385747751805)"
      ]
     },
     "execution_count": 22,
     "metadata": {},
     "output_type": "execute_result"
    }
   ],
   "execution_count": 22
  },
  {
   "metadata": {
    "ExecuteTime": {
     "end_time": "2025-04-02T17:15:27.378741Z",
     "start_time": "2025-04-02T17:15:27.367710Z"
    }
   },
   "cell_type": "code",
   "source": "min_xplvar(Ytr, wfitted2, Etr, verbose=True)",
   "id": "660a59954f493383",
   "outputs": [
    {
     "name": "stdout",
     "output_type": "stream",
     "text": [
      "Environment 0 explained variance: 8.345746065731543\n",
      "Environment 1 explained variance: 10.051791790082607\n",
      "Environment 2 explained variance: 37.800294923377024\n"
     ]
    },
    {
     "data": {
      "text/plain": [
       "np.float64(8.345746065731543)"
      ]
     },
     "execution_count": 23,
     "metadata": {},
     "output_type": "execute_result"
    }
   ],
   "execution_count": 23
  },
  {
   "metadata": {},
   "cell_type": "markdown",
   "source": "## Efficient solution: adaXT",
   "id": "ff7e213c9046ef5a"
  },
  {
   "metadata": {},
   "cell_type": "markdown",
   "source": "### Maximin",
   "id": "fb3cd7a6ef076ac9"
  },
  {
   "metadata": {
    "ExecuteTime": {
     "end_time": "2025-04-02T17:15:36.734479Z",
     "start_time": "2025-04-02T17:15:33.163701Z"
    }
   },
   "cell_type": "code",
   "source": [
    "mrf_adaxt = RandomForest(\"MaximinRegression\", n_estimators=n_estimators, min_samples_leaf=min_samples_leaf, seed=random_state)\n",
    "mrf_adaxt.fit(Xtr, Ytr, Etr)\n",
    "mpreds_adaxt = mrf_adaxt.predict(Xts)\n",
    "mfitted_adaxt = mrf_adaxt.predict(Xtr)"
   ],
   "id": "3933734066a01fea",
   "outputs": [],
   "execution_count": 24
  },
  {
   "metadata": {
    "ExecuteTime": {
     "end_time": "2025-04-02T17:15:37.467808Z",
     "start_time": "2025-04-02T17:15:37.442227Z"
    }
   },
   "cell_type": "code",
   "source": "mean_squared_error(Ytr, mfitted_adaxt), r2_score(Ytr, mfitted_adaxt)",
   "id": "a8e83ff5c3980601",
   "outputs": [
    {
     "data": {
      "text/plain": [
       "(39.97986666745992, 0.1327250943987438)"
      ]
     },
     "execution_count": 25,
     "metadata": {},
     "output_type": "execute_result"
    }
   ],
   "execution_count": 25
  },
  {
   "metadata": {
    "ExecuteTime": {
     "end_time": "2025-04-02T17:15:38.981538Z",
     "start_time": "2025-04-02T17:15:38.955440Z"
    }
   },
   "cell_type": "code",
   "source": "mean_squared_error(Yts, mpreds_adaxt), r2_score(Yts, mpreds_adaxt)",
   "id": "81018b0e7cdb6d1a",
   "outputs": [
    {
     "data": {
      "text/plain": [
       "(12.878348244194116, 0.1882297677484548)"
      ]
     },
     "execution_count": 26,
     "metadata": {},
     "output_type": "execute_result"
    }
   ],
   "execution_count": 26
  },
  {
   "metadata": {
    "ExecuteTime": {
     "end_time": "2025-04-02T17:15:39.386369Z",
     "start_time": "2025-04-02T17:15:39.362848Z"
    }
   },
   "cell_type": "code",
   "source": "max_mse(Ytr, mfitted_adaxt, Etr, verbose=True)",
   "id": "a587f1f94f97f232",
   "outputs": [
    {
     "name": "stdout",
     "output_type": "stream",
     "text": [
      "Environment 0 MSE: 31.94937215571709\n",
      "Environment 1 MSE: 34.856003040483685\n",
      "Environment 2 MSE: 53.13422480617896\n"
     ]
    },
    {
     "data": {
      "text/plain": [
       "np.float64(53.13422480617896)"
      ]
     },
     "execution_count": 27,
     "metadata": {},
     "output_type": "execute_result"
    }
   ],
   "execution_count": 27
  },
  {
   "metadata": {
    "ExecuteTime": {
     "end_time": "2025-04-02T17:15:39.983008Z",
     "start_time": "2025-04-02T17:15:39.972828Z"
    }
   },
   "cell_type": "code",
   "source": "min_xplvar(Ytr, mfitted_adaxt, Etr, verbose=True)",
   "id": "7573607910ba3a72",
   "outputs": [
    {
     "name": "stdout",
     "output_type": "stream",
     "text": [
      "Environment 0 explained variance: 4.480946586806912\n",
      "Environment 1 explained variance: 1.1483628115799505\n",
      "Environment 2 explained variance: 18.740455864949865\n"
     ]
    },
    {
     "data": {
      "text/plain": [
       "np.float64(1.1483628115799505)"
      ]
     },
     "execution_count": 28,
     "metadata": {},
     "output_type": "execute_result"
    }
   ],
   "execution_count": 28
  },
  {
   "metadata": {},
   "cell_type": "markdown",
   "source": "### Default",
   "id": "26377d755793faf8"
  },
  {
   "metadata": {
    "ExecuteTime": {
     "end_time": "2025-04-02T17:15:41.236510Z",
     "start_time": "2025-04-02T17:15:41.052484Z"
    }
   },
   "cell_type": "code",
   "source": [
    "rf_skl = RandomForestRegressor(n_estimators=n_estimators, min_samples_leaf=min_samples_leaf, random_state=random_state)\n",
    "rf_skl.fit(Xtr, Ytr)\n",
    "preds_skl = rf_skl.predict(Xts)\n",
    "fitted_skl = rf_skl.predict(Xtr)\n",
    "#rf_adaxt = RandomForest(\"Regression\", n_estimators=n_estimators, min_samples_leaf=min_samples_leaf, seed=random_state)\n",
    "#rf_adaxt.fit(Xtr, Ytr)\n",
    "#preds_adaxt = rf_adaxt.predict(Xts)\n",
    "#fitted_adaxt = rf_adaxt.predict(Xtr)"
   ],
   "id": "67585fbe42ba5e6c",
   "outputs": [],
   "execution_count": 29
  },
  {
   "metadata": {
    "ExecuteTime": {
     "end_time": "2025-04-02T17:15:42.051273Z",
     "start_time": "2025-04-02T17:15:42.038746Z"
    }
   },
   "cell_type": "code",
   "source": "mean_squared_error(Ytr, fitted_skl), r2_score(Ytr, fitted_skl)",
   "id": "15049b23c24258e8",
   "outputs": [
    {
     "data": {
      "text/plain": [
       "(27.648368385616326, 0.4002297135927988)"
      ]
     },
     "execution_count": 30,
     "metadata": {},
     "output_type": "execute_result"
    }
   ],
   "execution_count": 30
  },
  {
   "metadata": {
    "ExecuteTime": {
     "end_time": "2025-04-02T17:15:42.832811Z",
     "start_time": "2025-04-02T17:15:42.822600Z"
    }
   },
   "cell_type": "code",
   "source": "mean_squared_error(Yts, preds_skl), r2_score(Yts, preds_skl)",
   "id": "3fc7b08d9c04d088",
   "outputs": [
    {
     "data": {
      "text/plain": [
       "(27.166602536243637, -0.7124120913777883)"
      ]
     },
     "execution_count": 31,
     "metadata": {},
     "output_type": "execute_result"
    }
   ],
   "execution_count": 31
  },
  {
   "metadata": {
    "ExecuteTime": {
     "end_time": "2025-04-02T17:15:45.067983Z",
     "start_time": "2025-04-02T17:15:45.056756Z"
    }
   },
   "cell_type": "code",
   "source": "max_mse(Ytr, fitted_skl, Etr, verbose=True)",
   "id": "f1922372a1b58b46",
   "outputs": [
    {
     "name": "stdout",
     "output_type": "stream",
     "text": [
      "Environment 0 MSE: 27.866480350270987\n",
      "Environment 1 MSE: 28.192826525990945\n",
      "Environment 2 MSE: 26.885798280587043\n"
     ]
    },
    {
     "data": {
      "text/plain": [
       "np.float64(28.192826525990945)"
      ]
     },
     "execution_count": 32,
     "metadata": {},
     "output_type": "execute_result"
    }
   ],
   "execution_count": 32
  },
  {
   "metadata": {
    "ExecuteTime": {
     "end_time": "2025-04-02T17:15:45.412Z",
     "start_time": "2025-04-02T17:15:45.401504Z"
    }
   },
   "cell_type": "code",
   "source": "min_xplvar(Ytr, fitted_skl, Etr, verbose=True)",
   "id": "a2de6d2a61ca6b1e",
   "outputs": [
    {
     "name": "stdout",
     "output_type": "stream",
     "text": [
      "Environment 0 explained variance: 8.563838392253015\n",
      "Environment 1 explained variance: 7.81153932607269\n",
      "Environment 2 explained variance: 44.98888239054179\n"
     ]
    },
    {
     "data": {
      "text/plain": [
       "np.float64(7.81153932607269)"
      ]
     },
     "execution_count": 33,
     "metadata": {},
     "output_type": "execute_result"
    }
   ],
   "execution_count": 33
  },
  {
   "metadata": {},
   "cell_type": "markdown",
   "source": "### Magging - Forest",
   "id": "ffa4c6182ea443b8"
  },
  {
   "metadata": {
    "ExecuteTime": {
     "end_time": "2025-04-02T17:15:46.579668Z",
     "start_time": "2025-04-02T17:15:46.297680Z"
    }
   },
   "cell_type": "code",
   "source": [
    "rfm_skl = MaggingRF_PB(n_estimators=n_estimators, min_samples_leaf=min_samples_leaf, backend=\"sklearn\", random_state=random_state)\n",
    "wfitted_skl, wpreds_skl = rfm_skl.fit_predict_magging(Xtr, Ytr, Etr, Xts)\n",
    "wmag_skl = rfm_skl.get_weights()"
   ],
   "id": "c5bb0d5fc7bb1453",
   "outputs": [],
   "execution_count": 34
  },
  {
   "metadata": {
    "ExecuteTime": {
     "end_time": "2025-04-02T17:15:47.095575Z",
     "start_time": "2025-04-02T17:15:47.071491Z"
    }
   },
   "cell_type": "code",
   "source": "mean_squared_error(Ytr, wfitted_skl), r2_score(Ytr, wfitted_skl)",
   "id": "445496b58b51055b",
   "outputs": [
    {
     "data": {
      "text/plain": [
       "(37.71578581602704, 0.18183932789613177)"
      ]
     },
     "execution_count": 35,
     "metadata": {},
     "output_type": "execute_result"
    }
   ],
   "execution_count": 35
  },
  {
   "metadata": {
    "ExecuteTime": {
     "end_time": "2025-04-02T17:15:47.734273Z",
     "start_time": "2025-04-02T17:15:47.723749Z"
    }
   },
   "cell_type": "code",
   "source": "mean_squared_error(Yts, wpreds_skl), r2_score(Yts, wpreds_skl)",
   "id": "91b14097ed82fce1",
   "outputs": [
    {
     "data": {
      "text/plain": [
       "(23.58922740380694, -0.486916819232291)"
      ]
     },
     "execution_count": 36,
     "metadata": {},
     "output_type": "execute_result"
    }
   ],
   "execution_count": 36
  },
  {
   "metadata": {
    "ExecuteTime": {
     "end_time": "2025-04-02T17:15:49.046598Z",
     "start_time": "2025-04-02T17:15:49.036077Z"
    }
   },
   "cell_type": "code",
   "source": "max_mse(Ytr, wfitted_skl, Etr, verbose=True)",
   "id": "5b6ce9032c23029d",
   "outputs": [
    {
     "name": "stdout",
     "output_type": "stream",
     "text": [
      "Environment 0 MSE: 25.58734194345175\n",
      "Environment 1 MSE: 26.54033729148976\n",
      "Environment 2 MSE: 61.01967821313962\n"
     ]
    },
    {
     "data": {
      "text/plain": [
       "np.float64(61.01967821313962)"
      ]
     },
     "execution_count": 37,
     "metadata": {},
     "output_type": "execute_result"
    }
   ],
   "execution_count": 37
  },
  {
   "metadata": {
    "ExecuteTime": {
     "end_time": "2025-04-02T17:15:59.207818Z",
     "start_time": "2025-04-02T17:15:59.184848Z"
    }
   },
   "cell_type": "code",
   "source": "wmag_skl",
   "id": "8e98235ab2aa8a45",
   "outputs": [
    {
     "data": {
      "text/plain": [
       "array([0.47020345, 0.4742219 , 0.05557465])"
      ]
     },
     "execution_count": 38,
     "metadata": {},
     "output_type": "execute_result"
    }
   ],
   "execution_count": 38
  },
  {
   "metadata": {
    "ExecuteTime": {
     "end_time": "2025-04-02T17:16:00.188075Z",
     "start_time": "2025-04-02T17:16:00.166197Z"
    }
   },
   "cell_type": "code",
   "source": "min_xplvar(Ytr, wfitted_skl, Etr, verbose=True)",
   "id": "ba60a06d88dcff3d",
   "outputs": [
    {
     "name": "stdout",
     "output_type": "stream",
     "text": [
      "Environment 0 explained variance: 10.84297679907225\n",
      "Environment 1 explained variance: 9.464028560573876\n",
      "Environment 2 explained variance: 10.855002457989208\n"
     ]
    },
    {
     "data": {
      "text/plain": [
       "np.float64(9.464028560573876)"
      ]
     },
     "execution_count": 39,
     "metadata": {},
     "output_type": "execute_result"
    }
   ],
   "execution_count": 39
  },
  {
   "metadata": {},
   "cell_type": "markdown",
   "source": "### Magging - Trees",
   "id": "8ee4a8d607ab2c03"
  },
  {
   "metadata": {
    "ExecuteTime": {
     "end_time": "2025-04-02T17:16:02.627482Z",
     "start_time": "2025-04-02T17:16:02.043998Z"
    }
   },
   "cell_type": "code",
   "source": [
    "rfm2 = MaggingRF(n_estimators=n_estimators, min_samples_leaf=min_samples_leaf, random_state=random_state)\n",
    "rfm2.fit(Xtr, Ytr)\n",
    "wpreds2, _ = rfm2.predict_maximin(Xtr, Xts)\n",
    "wfitted2, _ = rfm2.predict_maximin(Xtr, Xtr)"
   ],
   "id": "728b9f9657a0329e",
   "outputs": [],
   "execution_count": 40
  },
  {
   "metadata": {
    "ExecuteTime": {
     "end_time": "2025-04-02T17:16:02.658697Z",
     "start_time": "2025-04-02T17:16:02.643605Z"
    }
   },
   "cell_type": "code",
   "source": "mean_squared_error(Ytr, wfitted2), r2_score(Ytr, wfitted2)",
   "id": "129ae20520b4715e",
   "outputs": [
    {
     "data": {
      "text/plain": [
       "(29.370510828841766, 0.36287163690626756)"
      ]
     },
     "execution_count": 41,
     "metadata": {},
     "output_type": "execute_result"
    }
   ],
   "execution_count": 41
  },
  {
   "metadata": {
    "ExecuteTime": {
     "end_time": "2025-04-02T17:16:02.876584Z",
     "start_time": "2025-04-02T17:16:02.864064Z"
    }
   },
   "cell_type": "code",
   "source": "mean_squared_error(Yts, wpreds2), r2_score(Yts, wpreds2)",
   "id": "fafb9e05d21fca71",
   "outputs": [
    {
     "data": {
      "text/plain": [
       "(25.597681149048274, -0.6135171356957061)"
      ]
     },
     "execution_count": 42,
     "metadata": {},
     "output_type": "execute_result"
    }
   ],
   "execution_count": 42
  },
  {
   "metadata": {
    "ExecuteTime": {
     "end_time": "2025-04-02T17:16:05.183892Z",
     "start_time": "2025-04-02T17:16:05.159829Z"
    }
   },
   "cell_type": "code",
   "source": "max_mse(Ytr, wfitted2, Etr, verbose=True)",
   "id": "9e99123c643f0d30",
   "outputs": [
    {
     "name": "stdout",
     "output_type": "stream",
     "text": [
      "Environment 0 MSE: 28.084572676792458\n",
      "Environment 1 MSE: 25.95257406198103\n",
      "Environment 2 MSE: 34.074385747751805\n"
     ]
    },
    {
     "data": {
      "text/plain": [
       "np.float64(34.074385747751805)"
      ]
     },
     "execution_count": 43,
     "metadata": {},
     "output_type": "execute_result"
    }
   ],
   "execution_count": 43
  },
  {
   "metadata": {
    "ExecuteTime": {
     "end_time": "2025-04-02T17:16:06.141542Z",
     "start_time": "2025-04-02T17:16:06.130024Z"
    }
   },
   "cell_type": "code",
   "source": "min_xplvar(Ytr, wfitted2, Etr, verbose=True)",
   "id": "8ddacd4f87897ca",
   "outputs": [
    {
     "name": "stdout",
     "output_type": "stream",
     "text": [
      "Environment 0 explained variance: 8.345746065731543\n",
      "Environment 1 explained variance: 10.051791790082607\n",
      "Environment 2 explained variance: 37.800294923377024\n"
     ]
    },
    {
     "data": {
      "text/plain": [
       "np.float64(8.345746065731543)"
      ]
     },
     "execution_count": 44,
     "metadata": {},
     "output_type": "execute_result"
    }
   ],
   "execution_count": 44
  },
  {
   "metadata": {},
   "cell_type": "markdown",
   "source": "## Variable importance",
   "id": "a281e676100f6319"
  },
  {
   "metadata": {
    "ExecuteTime": {
     "end_time": "2025-04-02T17:16:09.108807Z",
     "start_time": "2025-04-02T17:16:08.928424Z"
    }
   },
   "cell_type": "code",
   "source": [
    "dtr, dts = gen_data_v3(n_train=1000, n_test=500, train_setting=1)\n",
    "Xtr = np.array(dtr.drop(columns=['E', 'Y']))\n",
    "Ytr = np.array(dtr['Y'])\n",
    "min_samples_leaf = 10\n",
    "n_estimators = 50\n",
    "random_state = 42\n",
    "\n",
    "rf = RandomForestRegressor(n_estimators=n_estimators, min_samples_leaf=min_samples_leaf, random_state=random_state)\n",
    "rf.fit(Xtr, Ytr)\n",
    "rf.feature_importances_"
   ],
   "id": "e622c214bd395165",
   "outputs": [
    {
     "data": {
      "text/plain": [
       "array([0.95341065, 0.04658935])"
      ]
     },
     "execution_count": 45,
     "metadata": {},
     "output_type": "execute_result"
    }
   ],
   "execution_count": 45
  },
  {
   "metadata": {
    "ExecuteTime": {
     "end_time": "2025-04-02T17:16:10.227839Z",
     "start_time": "2025-04-02T17:16:10.079616Z"
    }
   },
   "cell_type": "code",
   "source": [
    "dtr, dts = gen_data_v3(n_train=1000, n_test=500, train_setting=2)\n",
    "Xtr = np.array(dtr.drop(columns=['E', 'Y']))\n",
    "Ytr = np.array(dtr['Y'])\n",
    "\n",
    "rf = RandomForestRegressor(n_estimators=n_estimators, min_samples_leaf=min_samples_leaf, random_state=random_state)\n",
    "rf.fit(Xtr, Ytr)\n",
    "rf.feature_importances_"
   ],
   "id": "6f06b3dbfa431de0",
   "outputs": [
    {
     "data": {
      "text/plain": [
       "array([0.57477797, 0.42522203])"
      ]
     },
     "execution_count": 46,
     "metadata": {},
     "output_type": "execute_result"
    }
   ],
   "execution_count": 46
  }
 ],
 "metadata": {
  "kernelspec": {
   "display_name": "Python 3",
   "language": "python",
   "name": "python3"
  },
  "language_info": {
   "codemirror_mode": {
    "name": "ipython",
    "version": 2
   },
   "file_extension": ".py",
   "mimetype": "text/x-python",
   "name": "python",
   "nbconvert_exporter": "python",
   "pygments_lexer": "ipython2",
   "version": "2.7.6"
  }
 },
 "nbformat": 4,
 "nbformat_minor": 5
}
