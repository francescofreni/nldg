{
 "cells": [
  {
   "metadata": {
    "ExecuteTime": {
     "end_time": "2025-04-01T16:30:38.153505Z",
     "start_time": "2025-04-01T16:30:34.295843Z"
    }
   },
   "cell_type": "code",
   "source": [
    "import numpy as np\n",
    "\n",
    "from sklearn.metrics import r2_score, mean_squared_error\n",
    "from sklearn.preprocessing import StandardScaler\n",
    "import torch\n",
    "\n",
    "from nldg.new.archive.utils import gen_data_v3, max_mse\n",
    "from nldg.new.archive.train_nn import train_model, train_model_GDRO, predict_GDRO\n",
    "\n",
    "from scipy.optimize import minimize\n"
   ],
   "id": "1e77b00a1585f349",
   "outputs": [],
   "execution_count": 1
  },
  {
   "metadata": {
    "ExecuteTime": {
     "end_time": "2025-04-01T16:31:15.087632Z",
     "start_time": "2025-04-01T16:31:15.074383Z"
    }
   },
   "cell_type": "code",
   "source": [
    "dtr, dts = gen_data_v3(n_train=1000, n_test=500, train_setting=2, test_setting=1, random_state=42)\n",
    "Xtr, Xts = np.array(dtr.drop(columns=['E', 'Y'])), np.array(dts.drop(columns=['E', 'Y']))\n",
    "Ytr, Yts = np.array(dtr['Y']), np.array(dts['Y'])\n",
    "Etr = np.array(dtr['E'])"
   ],
   "id": "e9c29c5c3d9a50bd",
   "outputs": [],
   "execution_count": 21
  },
  {
   "metadata": {
    "ExecuteTime": {
     "end_time": "2025-04-01T16:31:15.430508Z",
     "start_time": "2025-04-01T16:31:15.416978Z"
    }
   },
   "cell_type": "code",
   "source": [
    "scaler = StandardScaler()\n",
    "X_train = scaler.fit_transform(Xtr)\n",
    "X_test = scaler.transform(Xts)\n",
    "X_train_tensor = torch.tensor(X_train, dtype=torch.float32)\n",
    "X_test_tensor = torch.tensor(X_test, dtype=torch.float32)"
   ],
   "id": "da19c93b4bc425b2",
   "outputs": [],
   "execution_count": 22
  },
  {
   "metadata": {},
   "cell_type": "markdown",
   "source": "### Maximin",
   "id": "d08e2b645226992c"
  },
  {
   "metadata": {
    "ExecuteTime": {
     "end_time": "2025-04-01T16:31:16.380267Z",
     "start_time": "2025-04-01T16:31:16.101161Z"
    }
   },
   "cell_type": "code",
   "source": [
    "model = train_model(X_train, Ytr, Etr, verbose=False)\n",
    "model.eval()\n",
    "with torch.no_grad():\n",
    "    mpreds = model(X_test_tensor).numpy()\n",
    "    mfitted = model(X_train_tensor).numpy()"
   ],
   "id": "c6b2935982322393",
   "outputs": [],
   "execution_count": 23
  },
  {
   "metadata": {
    "ExecuteTime": {
     "end_time": "2025-04-01T16:31:16.503306Z",
     "start_time": "2025-04-01T16:31:16.492158Z"
    }
   },
   "cell_type": "code",
   "source": "mean_squared_error(Ytr, mfitted), r2_score(Ytr, mfitted)",
   "id": "8ac66fe5724ed81e",
   "outputs": [
    {
     "data": {
      "text/plain": [
       "(33.76689425277214, 0.33103179360802615)"
      ]
     },
     "execution_count": 24,
     "metadata": {},
     "output_type": "execute_result"
    }
   ],
   "execution_count": 24
  },
  {
   "metadata": {
    "ExecuteTime": {
     "end_time": "2025-04-01T16:31:16.990676Z",
     "start_time": "2025-04-01T16:31:16.979155Z"
    }
   },
   "cell_type": "code",
   "source": "mean_squared_error(Yts, mpreds), r2_score(Yts, mpreds)",
   "id": "2709bb57670e6dc",
   "outputs": [
    {
     "data": {
      "text/plain": [
       "(11.338295102360032, 0.07453013900632988)"
      ]
     },
     "execution_count": 25,
     "metadata": {},
     "output_type": "execute_result"
    }
   ],
   "execution_count": 25
  },
  {
   "metadata": {
    "ExecuteTime": {
     "end_time": "2025-04-01T16:31:17.444943Z",
     "start_time": "2025-04-01T16:31:17.434416Z"
    }
   },
   "cell_type": "code",
   "source": "max_mse(Ytr, mfitted, Etr)",
   "id": "b8368c80ac704987",
   "outputs": [
    {
     "data": {
      "text/plain": [
       "np.float64(82.89055054669906)"
      ]
     },
     "execution_count": 26,
     "metadata": {},
     "output_type": "execute_result"
    }
   ],
   "execution_count": 26
  },
  {
   "metadata": {},
   "cell_type": "markdown",
   "source": "### Default",
   "id": "c6b74286c2fc3080"
  },
  {
   "metadata": {
    "ExecuteTime": {
     "end_time": "2025-04-01T16:31:18.991480Z",
     "start_time": "2025-04-01T16:31:18.790065Z"
    }
   },
   "cell_type": "code",
   "source": [
    "model = train_model(X_train, Ytr, Etr, verbose=False, default=True)\n",
    "model.eval()\n",
    "with torch.no_grad():\n",
    "    preds = model(X_test_tensor).numpy()\n",
    "    fitted = model(X_train_tensor).numpy()"
   ],
   "id": "156f7bba00e7358c",
   "outputs": [],
   "execution_count": 27
  },
  {
   "metadata": {
    "ExecuteTime": {
     "end_time": "2025-04-01T16:31:19.162430Z",
     "start_time": "2025-04-01T16:31:19.150340Z"
    }
   },
   "cell_type": "code",
   "source": "mean_squared_error(Ytr, fitted), r2_score(Ytr, fitted)",
   "id": "333400d026bea5c3",
   "outputs": [
    {
     "data": {
      "text/plain": [
       "(29.58461025066445, 0.41388854100587535)"
      ]
     },
     "execution_count": 28,
     "metadata": {},
     "output_type": "execute_result"
    }
   ],
   "execution_count": 28
  },
  {
   "metadata": {
    "ExecuteTime": {
     "end_time": "2025-04-01T16:31:19.588472Z",
     "start_time": "2025-04-01T16:31:19.575943Z"
    }
   },
   "cell_type": "code",
   "source": "mean_squared_error(Yts, preds), r2_score(Yts, preds)",
   "id": "e6049c0f86ccde48",
   "outputs": [
    {
     "data": {
      "text/plain": [
       "(9.615159876381016, 0.21517824382838224)"
      ]
     },
     "execution_count": 29,
     "metadata": {},
     "output_type": "execute_result"
    }
   ],
   "execution_count": 29
  },
  {
   "metadata": {
    "ExecuteTime": {
     "end_time": "2025-04-01T16:31:20.273896Z",
     "start_time": "2025-04-01T16:31:20.261181Z"
    }
   },
   "cell_type": "code",
   "source": "max_mse(Ytr, fitted, Etr)",
   "id": "2b1bda3c587f9ae9",
   "outputs": [
    {
     "data": {
      "text/plain": [
       "np.float64(90.02221080560959)"
      ]
     },
     "execution_count": 30,
     "metadata": {},
     "output_type": "execute_result"
    }
   ],
   "execution_count": 30
  },
  {
   "metadata": {},
   "cell_type": "markdown",
   "source": "### Group DRO",
   "id": "b612b43e44a0b226"
  },
  {
   "metadata": {
    "ExecuteTime": {
     "end_time": "2025-04-01T16:31:21.486522Z",
     "start_time": "2025-04-01T16:31:21.393813Z"
    }
   },
   "cell_type": "code",
   "source": [
    "model, bweights = train_model_GDRO(X_train, Ytr, Etr, lr_model=0.01)\n",
    "preds_gdro = predict_GDRO(model, X_test)\n",
    "fitted_gdro = predict_GDRO(model, X_train)"
   ],
   "id": "481a7544f3d3dec1",
   "outputs": [],
   "execution_count": 31
  },
  {
   "metadata": {
    "ExecuteTime": {
     "end_time": "2025-04-01T16:31:21.816032Z",
     "start_time": "2025-04-01T16:31:21.803519Z"
    }
   },
   "cell_type": "code",
   "source": "mean_squared_error(Ytr, fitted_gdro), r2_score(Ytr, fitted_gdro)",
   "id": "fd548770ffca08d2",
   "outputs": [
    {
     "data": {
      "text/plain": [
       "(39.764844164019216, 0.21220422942283468)"
      ]
     },
     "execution_count": 32,
     "metadata": {},
     "output_type": "execute_result"
    }
   ],
   "execution_count": 32
  },
  {
   "metadata": {
    "ExecuteTime": {
     "end_time": "2025-04-01T16:31:22.563383Z",
     "start_time": "2025-04-01T16:31:22.552334Z"
    }
   },
   "cell_type": "code",
   "source": "mean_squared_error(Yts, preds_gdro), r2_score(Yts, preds_gdro)",
   "id": "5b15c6450af6a49",
   "outputs": [
    {
     "data": {
      "text/plain": [
       "(6.087953233822545, 0.5030807381376967)"
      ]
     },
     "execution_count": 33,
     "metadata": {},
     "output_type": "execute_result"
    }
   ],
   "execution_count": 33
  },
  {
   "metadata": {
    "ExecuteTime": {
     "end_time": "2025-04-01T16:31:23.394837Z",
     "start_time": "2025-04-01T16:31:23.382337Z"
    }
   },
   "cell_type": "code",
   "source": "max_mse(Ytr, fitted_gdro, Etr)",
   "id": "5aa07656a1bf5709",
   "outputs": [
    {
     "data": {
      "text/plain": [
       "np.float64(60.78069394108514)"
      ]
     },
     "execution_count": 34,
     "metadata": {},
     "output_type": "execute_result"
    }
   ],
   "execution_count": 34
  },
  {
   "metadata": {},
   "cell_type": "markdown",
   "source": "### Magging",
   "id": "8c4e08d259bd42a3"
  },
  {
   "metadata": {
    "ExecuteTime": {
     "end_time": "2025-04-01T16:31:24.862433Z",
     "start_time": "2025-04-01T16:31:24.375425Z"
    }
   },
   "cell_type": "code",
   "source": [
    "def objective(w: np.ndarray, F: np.ndarray) -> float:\n",
    "    return np.dot(w.T, np.dot(F.T, F).dot(w))\n",
    "\n",
    "\n",
    "n_envs = len(np.unique(Etr))\n",
    "winit = np.array([1 / n_envs] * n_envs)\n",
    "constraints = {\"type\": \"eq\", \"fun\": lambda w: np.sum(w) - 1}\n",
    "bounds = [[0, 1] for _ in range(n_envs)]\n",
    "\n",
    "preds_envs = []\n",
    "fitted_envs = []\n",
    "for env in np.unique(Etr):\n",
    "    Xtr_e = X_train[Etr == env]\n",
    "    Ytr_e = Ytr[Etr == env]\n",
    "    model = train_model(Xtr_e, Ytr_e, Etr[Etr == env], verbose=False, default=True)\n",
    "    with torch.no_grad():\n",
    "        preds_envs.append(model(X_test_tensor).numpy())\n",
    "        fitted_envs.append(model(X_train_tensor).numpy())\n",
    "preds_envs = np.column_stack(preds_envs)\n",
    "fitted_envs = np.column_stack(fitted_envs)\n",
    "\n",
    "wmag = minimize(objective, winit, args=(fitted_envs,), bounds=bounds, constraints=constraints, ).x\n",
    "wpreds = np.dot(wmag, preds_envs.T)\n",
    "wfitted = np.dot(wmag, fitted_envs.T)"
   ],
   "id": "4bca983efae33d6c",
   "outputs": [],
   "execution_count": 35
  },
  {
   "metadata": {
    "ExecuteTime": {
     "end_time": "2025-04-01T16:31:25.252238Z",
     "start_time": "2025-04-01T16:31:25.240287Z"
    }
   },
   "cell_type": "code",
   "source": "mean_squared_error(Ytr, wfitted), r2_score(Ytr, wfitted)",
   "id": "d6fea6b14f3309a5",
   "outputs": [
    {
     "data": {
      "text/plain": [
       "(41.71906049748486, 0.17348853985677137)"
      ]
     },
     "execution_count": 36,
     "metadata": {},
     "output_type": "execute_result"
    }
   ],
   "execution_count": 36
  },
  {
   "metadata": {
    "ExecuteTime": {
     "end_time": "2025-04-01T16:31:25.831446Z",
     "start_time": "2025-04-01T16:31:25.819401Z"
    }
   },
   "cell_type": "code",
   "source": "mean_squared_error(Yts, wpreds), r2_score(Yts, wpreds)",
   "id": "c1be1c32910d55bb",
   "outputs": [
    {
     "data": {
      "text/plain": [
       "(1.1304455392662764, 0.9077292250165624)"
      ]
     },
     "execution_count": 37,
     "metadata": {},
     "output_type": "execute_result"
    }
   ],
   "execution_count": 37
  },
  {
   "metadata": {
    "ExecuteTime": {
     "end_time": "2025-04-01T16:31:29.759734Z",
     "start_time": "2025-04-01T16:31:29.748419Z"
    }
   },
   "cell_type": "code",
   "source": "max_mse(Ytr, wfitted, Etr)",
   "id": "5796296d0b37440f",
   "outputs": [
    {
     "data": {
      "text/plain": [
       "np.float64(74.87545876102443)"
      ]
     },
     "execution_count": 38,
     "metadata": {},
     "output_type": "execute_result"
    }
   ],
   "execution_count": 38
  },
  {
   "metadata": {
    "ExecuteTime": {
     "end_time": "2025-04-01T16:31:32.003363Z",
     "start_time": "2025-04-01T16:31:31.994838Z"
    }
   },
   "cell_type": "code",
   "source": "wmag",
   "id": "da4c767a9d0920ea",
   "outputs": [
    {
     "data": {
      "text/plain": [
       "array([0.47740634, 0.52105749, 0.00153617])"
      ]
     },
     "execution_count": 39,
     "metadata": {},
     "output_type": "execute_result"
    }
   ],
   "execution_count": 39
  }
 ],
 "metadata": {
  "kernelspec": {
   "display_name": "Python 3",
   "language": "python",
   "name": "python3"
  },
  "language_info": {
   "codemirror_mode": {
    "name": "ipython",
    "version": 2
   },
   "file_extension": ".py",
   "mimetype": "text/x-python",
   "name": "python",
   "nbconvert_exporter": "python",
   "pygments_lexer": "ipython2",
   "version": "2.7.6"
  }
 },
 "nbformat": 4,
 "nbformat_minor": 5
}
