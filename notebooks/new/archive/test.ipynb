{
 "cells": [
  {
   "cell_type": "code",
   "id": "initial_id",
   "metadata": {
    "collapsed": true,
    "ExecuteTime": {
     "end_time": "2025-03-20T06:50:17.737828Z",
     "start_time": "2025-03-20T06:50:17.712840Z"
    }
   },
   "source": [
    "import numpy as np\n",
    "\n",
    "from sklearn.ensemble import RandomForestRegressor\n",
    "from sklearn.metrics import r2_score, mean_squared_error\n",
    "\n",
    "from nldg.new.archive.utils import (gen_data_v3,\n",
    "                                    max_mse)\n",
    "from nldg.new.archive.rf import RF4DG, MaggingRF, IsdRF, MaggingRF_PB\n",
    "\n",
    "from scipy.optimize import minimize\n",
    "from tqdm import tqdm\n",
    "\n",
    "import matplotlib.pyplot as plt\n",
    "import os\n",
    "from nldg.utils.jbd import ajbd"
   ],
   "outputs": [],
   "execution_count": 13
  },
  {
   "metadata": {
    "ExecuteTime": {
     "end_time": "2025-03-18T18:08:08.327693Z",
     "start_time": "2025-03-18T18:08:08.299276Z"
    }
   },
   "cell_type": "code",
   "source": [
    "dtr, dts = gen_data_v3(n_train=1000, n_test=500)\n",
    "Xtr, Xts = np.array(dtr.drop(columns=['E', 'Y'])), np.array(dts.drop(columns=['E', 'Y']))\n",
    "Ytr, Yts = np.array(dtr['Y']), np.array(dts['Y'])\n",
    "Etr = np.array(dtr['E'])\n",
    "min_samples_leaf = 10"
   ],
   "id": "263b99dd155238e9",
   "outputs": [],
   "execution_count": 2
  },
  {
   "metadata": {
    "ExecuteTime": {
     "end_time": "2025-03-18T18:01:24.582182Z",
     "start_time": "2025-03-18T18:01:14.915490Z"
    }
   },
   "cell_type": "code",
   "source": [
    "def objective(w: np.ndarray, F: np.ndarray) -> float:\n",
    "    return np.dot(w.T, np.dot(F.T, F).dot(w))\n",
    "\n",
    "n_envs = len(np.unique(Etr))\n",
    "winit = np.array([1 / n_envs] * n_envs)\n",
    "constraints = {\"type\": \"eq\", \"fun\": lambda w: np.sum(w) - 1}\n",
    "bounds = [[0, 1] for _ in range(n_envs)]\n",
    "\n",
    "preds_envs = []\n",
    "fitted_envs = []\n",
    "for env in np.unique(Etr):\n",
    "    Xtr_e = Xtr[Etr == env]\n",
    "    Ytr_e = Ytr[Etr == env]\n",
    "    Etr_e = Etr[Etr == env]\n",
    "    rfm = RF4DG(criterion='mse', n_estimators=50, min_samples_leaf=min_samples_leaf)\n",
    "    rfm.fit(Xtr_e, Ytr_e, Etr_e)\n",
    "    preds_envs.append(rfm.predict(Xts))\n",
    "    fitted_envs.append(rfm.predict(Xtr))\n",
    "preds_envs = np.column_stack(preds_envs)\n",
    "fitted_envs = np.column_stack(fitted_envs)\n",
    "\n",
    "wmag = minimize(objective, winit, args=(fitted_envs,), bounds=bounds, constraints=constraints,).x\n",
    "wpreds = np.dot(wmag, preds_envs.T)\n",
    "wfitted = np.dot(wmag, fitted_envs.T)"
   ],
   "id": "7eb64e847a22b4e8",
   "outputs": [
    {
     "name": "stderr",
     "output_type": "stream",
     "text": [
      "100%|██████████| 50/50 [00:03<00:00, 15.54it/s]\n",
      "100%|██████████| 50/50 [00:02<00:00, 16.83it/s]\n",
      "100%|██████████| 50/50 [00:03<00:00, 16.17it/s]\n"
     ]
    }
   ],
   "execution_count": 4
  },
  {
   "metadata": {
    "ExecuteTime": {
     "end_time": "2025-03-18T18:02:36.541984Z",
     "start_time": "2025-03-18T18:02:36.520907Z"
    }
   },
   "cell_type": "code",
   "source": "mean_squared_error(Ytr, wfitted), r2_score(Ytr, wfitted)",
   "id": "9ce4c83e0d6cee6d",
   "outputs": [
    {
     "data": {
      "text/plain": [
       "(3.8049925648458554, 0.7316082604557905)"
      ]
     },
     "execution_count": 5,
     "metadata": {},
     "output_type": "execute_result"
    }
   ],
   "execution_count": 5
  },
  {
   "metadata": {
    "ExecuteTime": {
     "end_time": "2025-03-18T18:02:38.243905Z",
     "start_time": "2025-03-18T18:02:38.237396Z"
    }
   },
   "cell_type": "code",
   "source": "mean_squared_error(Yts, wpreds), r2_score(Yts, wpreds)",
   "id": "62afe399819e6f90",
   "outputs": [
    {
     "data": {
      "text/plain": [
       "(1.2742950426602282, 0.8942033875934601)"
      ]
     },
     "execution_count": 6,
     "metadata": {},
     "output_type": "execute_result"
    }
   ],
   "execution_count": 6
  },
  {
   "metadata": {
    "ExecuteTime": {
     "end_time": "2025-03-18T18:08:31.092260Z",
     "start_time": "2025-03-18T18:08:13.768365Z"
    }
   },
   "cell_type": "code",
   "source": [
    "maggrf = MaggingRF_PB(n_estimators=50, min_samples_leaf=min_samples_leaf)\n",
    "wfitted2, wpreds2 = maggrf.fit_predict_magging(Xtr, Ytr, Etr, Xts)"
   ],
   "id": "25d876b387e45ef9",
   "outputs": [
    {
     "name": "stderr",
     "output_type": "stream",
     "text": [
      "100%|██████████| 50/50 [00:05<00:00,  8.99it/s]\n",
      "100%|██████████| 50/50 [00:05<00:00,  9.16it/s]\n",
      "100%|██████████| 50/50 [00:05<00:00,  8.35it/s]\n"
     ]
    }
   ],
   "execution_count": 3
  },
  {
   "metadata": {
    "ExecuteTime": {
     "end_time": "2025-03-18T18:08:32.133465Z",
     "start_time": "2025-03-18T18:08:32.122401Z"
    }
   },
   "cell_type": "code",
   "source": "mean_squared_error(Ytr, wfitted2), r2_score(Ytr, wfitted2)",
   "id": "9fa9fb62e194007f",
   "outputs": [
    {
     "data": {
      "text/plain": [
       "(3.8049925648458554, 0.7316082604557905)"
      ]
     },
     "execution_count": 4,
     "metadata": {},
     "output_type": "execute_result"
    }
   ],
   "execution_count": 4
  },
  {
   "metadata": {
    "ExecuteTime": {
     "end_time": "2025-03-18T18:08:36.800644Z",
     "start_time": "2025-03-18T18:08:36.788124Z"
    }
   },
   "cell_type": "code",
   "source": "mean_squared_error(Yts, wpreds2), r2_score(Yts, wpreds2)",
   "id": "4f027ea3de08fdf8",
   "outputs": [
    {
     "data": {
      "text/plain": [
       "(1.2742950426602282, 0.8942033875934601)"
      ]
     },
     "execution_count": 5,
     "metadata": {},
     "output_type": "execute_result"
    }
   ],
   "execution_count": 5
  },
  {
   "metadata": {
    "ExecuteTime": {
     "end_time": "2025-03-18T16:09:06.870744Z",
     "start_time": "2025-03-18T16:09:06.400500Z"
    }
   },
   "cell_type": "code",
   "source": [
    "from nldg.new.archive.rf import DT4DG\n",
    "\n",
    "dt = DT4DG(min_samples_leaf=min_samples_leaf, random_state=42)\n",
    "dt.fit(Xtr, Ytr, Etr)\n",
    "preds = dt.predict(Xts)"
   ],
   "id": "ddc27d2419e45e54",
   "outputs": [],
   "execution_count": 3
  },
  {
   "metadata": {
    "ExecuteTime": {
     "end_time": "2025-03-18T16:09:08.241681Z",
     "start_time": "2025-03-18T16:09:08.229682Z"
    }
   },
   "cell_type": "code",
   "source": [
    "from sklearn.tree import DecisionTreeRegressor\n",
    "\n",
    "dt2 = DecisionTreeRegressor(min_samples_leaf=min_samples_leaf, random_state=42)\n",
    "dt2.fit(Xtr, Ytr)\n",
    "preds2 = dt2.predict(Xts)"
   ],
   "id": "20817737fad25bf8",
   "outputs": [],
   "execution_count": 4
  },
  {
   "metadata": {
    "ExecuteTime": {
     "end_time": "2025-03-18T16:09:09.478306Z",
     "start_time": "2025-03-18T16:09:09.468789Z"
    }
   },
   "cell_type": "code",
   "source": "preds[:5]",
   "id": "da912abafcd229c0",
   "outputs": [
    {
     "data": {
      "text/plain": [
       "array([-3.45017602, -3.04335665, -1.7532986 , -3.86410446, -5.17933792])"
      ]
     },
     "execution_count": 5,
     "metadata": {},
     "output_type": "execute_result"
    }
   ],
   "execution_count": 5
  },
  {
   "metadata": {
    "ExecuteTime": {
     "end_time": "2025-03-18T16:09:12.537588Z",
     "start_time": "2025-03-18T16:09:12.527033Z"
    }
   },
   "cell_type": "code",
   "source": "preds2[:5]",
   "id": "d05f18385d5a8579",
   "outputs": [
    {
     "data": {
      "text/plain": [
       "array([-3.45017602, -3.04335665, -1.7532986 , -3.86410446, -5.17933792])"
      ]
     },
     "execution_count": 6,
     "metadata": {},
     "output_type": "execute_result"
    }
   ],
   "execution_count": 6
  },
  {
   "metadata": {
    "ExecuteTime": {
     "end_time": "2025-03-18T16:09:13.930140Z",
     "start_time": "2025-03-18T16:09:13.307346Z"
    }
   },
   "cell_type": "code",
   "source": [
    "rf = RF4DG(criterion='mse', n_estimators=2, min_samples_leaf=min_samples_leaf)\n",
    "rf.fit(Xtr, Ytr, Etr)\n",
    "preds3 = rf.predict(Xts)\n",
    "fitted = rf.predict(Xtr)"
   ],
   "id": "3a89caea200620b1",
   "outputs": [
    {
     "name": "stderr",
     "output_type": "stream",
     "text": [
      "100%|██████████| 2/2 [00:00<00:00,  3.36it/s]\n"
     ]
    }
   ],
   "execution_count": 7
  },
  {
   "metadata": {
    "ExecuteTime": {
     "end_time": "2025-03-18T16:09:15.830919Z",
     "start_time": "2025-03-18T16:09:15.820405Z"
    }
   },
   "cell_type": "code",
   "source": [
    "for tree in rf.forest:\n",
    "    print(tree.predict(Xts)[:5])"
   ],
   "id": "f1757c512ba3ce19",
   "outputs": [
    {
     "name": "stdout",
     "output_type": "stream",
     "text": [
      "[-3.20639924 -3.29456965  0.16192075 -3.98535885 -5.15793365]\n",
      "[-4.5461763  -2.67481052 -2.33850525 -4.15187492 -4.51842142]\n"
     ]
    }
   ],
   "execution_count": 8
  },
  {
   "metadata": {
    "ExecuteTime": {
     "end_time": "2025-03-18T16:09:33.002412Z",
     "start_time": "2025-03-18T16:09:32.983334Z"
    }
   },
   "cell_type": "code",
   "source": [
    "rf2 = RandomForestRegressor(n_estimators=2, min_samples_leaf=min_samples_leaf, random_state=42)\n",
    "rf2.fit(Xtr, Ytr)\n",
    "preds4 = rf2.predict(Xts)"
   ],
   "id": "9f82728a7c62c5c7",
   "outputs": [],
   "execution_count": 12
  },
  {
   "metadata": {
    "ExecuteTime": {
     "end_time": "2025-03-18T16:09:34.994465Z",
     "start_time": "2025-03-18T16:09:34.988464Z"
    }
   },
   "cell_type": "code",
   "source": "preds4[:5]",
   "id": "cb4d24f446063f52",
   "outputs": [
    {
     "data": {
      "text/plain": [
       "array([-3.62680738, -3.2944734 ,  0.107157  , -3.46232931, -5.27528373])"
      ]
     },
     "execution_count": 13,
     "metadata": {},
     "output_type": "execute_result"
    }
   ],
   "execution_count": 13
  },
  {
   "metadata": {
    "ExecuteTime": {
     "end_time": "2025-03-18T16:09:43.107503Z",
     "start_time": "2025-03-18T16:09:43.098984Z"
    }
   },
   "cell_type": "code",
   "source": "preds3[:5]",
   "id": "77d090772212ae77",
   "outputs": [
    {
     "data": {
      "text/plain": [
       "array([-3.87628777, -2.98469009, -1.08829225, -4.06861688, -4.83817753])"
      ]
     },
     "execution_count": 14,
     "metadata": {},
     "output_type": "execute_result"
    }
   ],
   "execution_count": 14
  },
  {
   "metadata": {},
   "cell_type": "markdown",
   "source": "## Invariant Subspace Decomposition",
   "id": "1cce0d111624fafd"
  },
  {
   "metadata": {
    "ExecuteTime": {
     "end_time": "2025-03-20T08:39:40.511269Z",
     "start_time": "2025-03-20T08:39:40.484271Z"
    }
   },
   "cell_type": "code",
   "source": [
    "import numpy as np\n",
    "import pandas as pd\n",
    "from scipy.stats import ortho_group\n",
    "\n",
    "\n",
    "def gen_data_isd_v4(\n",
    "    n_train: int = 1500,\n",
    "    n_test: int = 500,\n",
    "    random_state: int = 0,\n",
    ") -> tuple[pd.DataFrame, pd.DataFrame]:\n",
    "    \"\"\"\n",
    "    Generates data from 3 environments with larger blocks.\n",
    "\n",
    "    Args:\n",
    "        n_train: Number of training samples.\n",
    "        n_test: Number of test samples.\n",
    "        random_state: Random seed.\n",
    "\n",
    "    Returns:\n",
    "        A tuple containing:\n",
    "        - df_train: DataFrame with training data.\n",
    "        - df_test: DataFrame with test data.\n",
    "    \"\"\"\n",
    "    sigma = 0.5\n",
    "    block_sizes = [2, 2]\n",
    "    p = np.sum(block_sizes)\n",
    "    rng = np.random.default_rng(random_state)\n",
    "    rng_sigma = np.random.default_rng(42)\n",
    "    OM = ortho_group.rvs(dim=p, random_state=rng)\n",
    "    n_envs = 5\n",
    "    n_e = n_train // n_envs\n",
    "    eps = sigma * rng.normal(0, 1, size=n_train)\n",
    "\n",
    "    X = np.zeros((n_train, p))\n",
    "    E = np.zeros((n_train,))\n",
    "    for e in range(n_envs):\n",
    "        A = block_diag(*[rng_sigma.random((bs, bs)) for bs in block_sizes])\n",
    "        Sigma_e = OM.T @ (A @ A.T + 0.0 * np.eye(p)) @ OM\n",
    "        X_e = rng.multivariate_normal(mean=np.zeros(p), cov=Sigma_e, size=n_e)\n",
    "        X[(e * n_e) : ((e + 1) * n_e)] = X_e\n",
    "        E[(e * n_e) : ((e + 1) * n_e)] = e\n",
    "\n",
    "    X_rot = X @ OM.T\n",
    "\n",
    "    Y = 5 * np.sin(X_rot[:, 0]) + 2 * np.cos(X_rot[:, 1])\n",
    "    for e in range(n_envs):\n",
    "        idxs = np.arange((e * n_e), ((e + 1) * n_e))\n",
    "        Y[idxs] += eps[idxs]\n",
    "\n",
    "        # Environment-dependent contribution from the last 3 variables\n",
    "        if e == 0:\n",
    "            Y[idxs] += 2*(X_rot[idxs, 3] - 6) - 4 * X_rot[idxs, 2]\n",
    "        elif e == 1:\n",
    "            Y[idxs] += 2*(-X_rot[idxs, 3] - 2) + X_rot[idxs, 2]**2\n",
    "        elif e == 2:\n",
    "            Y[idxs] += -(X_rot[idxs, 3])**2 - 2 - X_rot[idxs, 3]/X_rot[idxs, 2]\n",
    "        elif e == 3:\n",
    "            Y[idxs] += np.tanh(X_rot[idxs, 3]) - 1\n",
    "        else:\n",
    "            Y[idxs] += np.exp(X_rot[idxs, 3]/2) - X_rot[idxs, 3] - X_rot[idxs, 2]**3\n",
    "\n",
    "    df_train = pd.DataFrame(\n",
    "        {f\"X{i+1}\": X[:, i] for i in range(p)} | {\"Y\": Y, \"E\": E}\n",
    "    )\n",
    "\n",
    "    # Generate test set only using invariant variables\n",
    "    eps = sigma * rng.normal(0, 1, size=n_test)\n",
    "    A = block_diag(*[rng_sigma.random((bs, bs)) for bs in block_sizes])\n",
    "    Sigma_e = OM.T @ (A @ A.T + 0.0 * np.eye(p)) @ OM\n",
    "    X = rng.multivariate_normal(mean=np.zeros(p), cov=Sigma_e, size=n_test)\n",
    "    X_rot = X @ OM.T\n",
    "    Y = 5 * np.sin(X_rot[:, 0]) + 2 * np.cos(X_rot[:, 1]) - 4 * np.sin(X_rot[:, 2]) + eps\n",
    "\n",
    "    df_test = pd.DataFrame(\n",
    "        {f\"X{i+1}\": X[:, i] for i in range(p)} | {\"Y\": Y, \"E\": -1}\n",
    "    )\n",
    "\n",
    "    return df_train, df_test\n"
   ],
   "id": "aad5b81b3aabbf61",
   "outputs": [],
   "execution_count": 79
  },
  {
   "metadata": {},
   "cell_type": "code",
   "source": [
    "min_samples_leaf = 10\n",
    "for i in range(3):\n",
    "    dtr, dts = gen_data_isd_v4(n_train=5000, random_state=i)\n",
    "    Xtr, Xts = np.array(dtr.drop(columns=['E', 'Y'])), np.array(dts.drop(columns=['E', 'Y']))\n",
    "    Ytr, Yts = np.array(dtr['Y']), np.array(dts['Y'])\n",
    "    Etr = np.array(dtr['E'])\n",
    "    isdrf = IsdRF(n_estimators=50, min_samples_leaf=min_samples_leaf)\n",
    "    isdrf.find_invariant(Xtr, Ytr, Etr)\n",
    "    print(isdrf.const_idxs)"
   ],
   "id": "a067fa47728fe30c",
   "outputs": [],
   "execution_count": null
  },
  {
   "metadata": {
    "ExecuteTime": {
     "end_time": "2025-03-20T08:39:46.606679Z",
     "start_time": "2025-03-20T08:39:42.332598Z"
    }
   },
   "cell_type": "code",
   "source": [
    "for i in range(20):\n",
    "    dtr, dts = gen_data_isd_v4(random_state=i)\n",
    "    Xtr, Xts = np.array(dtr.drop(columns=['E', 'Y'])), np.array(dts.drop(columns=['E', 'Y']))\n",
    "    Ytr, Yts = np.array(dtr['Y']), np.array(dts['Y'])\n",
    "    Etr = np.array(dtr['E'])\n",
    "    n_envs = len(np.unique(Etr))\n",
    "    p = Xtr.shape[1]\n",
    "    Sigma = np.zeros((n_envs, p, p))\n",
    "    for i, e in enumerate(np.unique(Etr)):\n",
    "        n_e = np.sum(Etr == e)\n",
    "        X_e = Xtr[(i * n_e) : ((i + 1) * n_e)]\n",
    "        Sigma[i, :, :] = np.cov(X_e, rowvar=False)\n",
    "    U, blocks_shape, Sigma_diag, _, _ = ajbd(Sigma)\n",
    "    print(blocks_shape)"
   ],
   "id": "5727e6f345e6af2c",
   "outputs": [
    {
     "name": "stdout",
     "output_type": "stream",
     "text": [
      "[2, 2]\n",
      "[2, 2]\n",
      "[2, 2]\n",
      "[2, 2]\n",
      "[2, 2]\n",
      "[2, 2]\n",
      "[2, 2]\n",
      "[2, 2]\n",
      "[2, 2]\n",
      "[2, 2]\n",
      "[2, 2]\n",
      "[2, 2]\n",
      "[2, 2]\n",
      "[2, 2]\n",
      "[2, 2]\n",
      "[2, 2]\n",
      "[2, 2]\n",
      "[2, 2]\n",
      "[2, 2]\n",
      "[2, 2]\n"
     ]
    }
   ],
   "execution_count": 80
  },
  {
   "metadata": {
    "ExecuteTime": {
     "end_time": "2025-03-20T08:39:55.687419Z",
     "start_time": "2025-03-20T08:39:55.668421Z"
    }
   },
   "cell_type": "code",
   "source": [
    "random_state = 1\n",
    "min_samples_leaf = 10\n",
    "dtr, dts = gen_data_isd_v4(n_train=1500, random_state=random_state)\n",
    "Xtr, Xts = np.array(dtr.drop(columns=['E', 'Y'])), np.array(dts.drop(columns=['E', 'Y']))\n",
    "Ytr, Yts = np.array(dtr['Y']), np.array(dts['Y'])\n",
    "Etr = np.array(dtr['E'])"
   ],
   "id": "da200656320172ad",
   "outputs": [],
   "execution_count": 82
  },
  {
   "metadata": {
    "ExecuteTime": {
     "end_time": "2025-03-20T08:41:06.363109Z",
     "start_time": "2025-03-20T08:39:57.305048Z"
    }
   },
   "cell_type": "code",
   "source": [
    "isdrf = IsdRF(n_estimators=50, min_samples_leaf=min_samples_leaf)\n",
    "isdrf.find_invariant(Xtr, Ytr, Etr)"
   ],
   "id": "6e4e79b7f1a1f77e",
   "outputs": [],
   "execution_count": 83
  },
  {
   "metadata": {
    "ExecuteTime": {
     "end_time": "2025-03-20T08:41:09.115693Z",
     "start_time": "2025-03-20T08:41:09.093822Z"
    }
   },
   "cell_type": "code",
   "source": "isdrf.const_idxs",
   "id": "84cd93e9d927ac58",
   "outputs": [
    {
     "data": {
      "text/plain": [
       "[]"
      ]
     },
     "execution_count": 84,
     "metadata": {},
     "output_type": "execute_result"
    }
   ],
   "execution_count": 84
  },
  {
   "metadata": {
    "ExecuteTime": {
     "end_time": "2025-03-20T08:41:10.657851Z",
     "start_time": "2025-03-20T08:41:10.636550Z"
    }
   },
   "cell_type": "code",
   "source": [
    "fitted_isd = isdrf.predict_zeroshot(Xtr)\n",
    "OM = ortho_group.rvs(dim=4, random_state=np.random.default_rng(random_state))\n",
    "X_rot = Xtr @ OM.T\n",
    "Y_compare = 5 * np.sin(X_rot[:, 0]) + 2 * np.cos(X_rot[:, 1])\n",
    "mean_squared_error(Y_compare, fitted_isd)"
   ],
   "id": "53ee9e1ee1c53667",
   "outputs": [
    {
     "data": {
      "text/plain": [
       "9.369266227877507"
      ]
     },
     "execution_count": 85,
     "metadata": {},
     "output_type": "execute_result"
    }
   ],
   "execution_count": 85
  },
  {
   "metadata": {
    "ExecuteTime": {
     "end_time": "2025-03-20T08:41:17.414476Z",
     "start_time": "2025-03-20T08:41:16.619287Z"
    }
   },
   "cell_type": "code",
   "source": [
    "rf = RandomForestRegressor(n_estimators=50, min_samples_leaf=min_samples_leaf, random_state=random_state, max_features=4)\n",
    "X = Xtr @ isdrf.U.T\n",
    "rf.fit(X, Ytr)\n",
    "fitted = rf.predict(X)\n",
    "preds = rf.predict(Xts @ isdrf.U.T)\n",
    "mean_squared_error(Y_compare, fitted)"
   ],
   "id": "4cf6084cbba790e7",
   "outputs": [
    {
     "data": {
      "text/plain": [
       "24.04089482335713"
      ]
     },
     "execution_count": 86,
     "metadata": {},
     "output_type": "execute_result"
    }
   ],
   "execution_count": 86
  },
  {
   "metadata": {
    "ExecuteTime": {
     "end_time": "2025-03-20T08:41:19.708659Z",
     "start_time": "2025-03-20T08:41:19.689703Z"
    }
   },
   "cell_type": "code",
   "source": "mean_squared_error(Yts, preds)",
   "id": "c95fa98b4501e125",
   "outputs": [
    {
     "data": {
      "text/plain": [
       "23.56342307162738"
      ]
     },
     "execution_count": 87,
     "metadata": {},
     "output_type": "execute_result"
    }
   ],
   "execution_count": 87
  },
  {
   "metadata": {
    "ExecuteTime": {
     "end_time": "2025-03-20T08:42:15.713854Z",
     "start_time": "2025-03-20T08:42:14.968434Z"
    }
   },
   "cell_type": "code",
   "source": [
    "rf2 = RandomForestRegressor(n_estimators=50, min_samples_leaf=min_samples_leaf, random_state=random_state, max_features=1.0)\n",
    "rf2.fit(X, Ytr)\n",
    "fitted = rf2.predict(Xtr)\n",
    "preds = rf2.predict(Xts)\n",
    "mean_squared_error(Y_compare, fitted)"
   ],
   "id": "7ad3546fd22abb32",
   "outputs": [
    {
     "data": {
      "text/plain": [
       "23.15821775087191"
      ]
     },
     "execution_count": 90,
     "metadata": {},
     "output_type": "execute_result"
    }
   ],
   "execution_count": 90
  },
  {
   "metadata": {
    "ExecuteTime": {
     "end_time": "2025-03-20T08:42:32.581656Z",
     "start_time": "2025-03-20T08:42:32.574633Z"
    }
   },
   "cell_type": "code",
   "source": "mean_squared_error(Yts, preds)",
   "id": "d9bbd19440adc72f",
   "outputs": [
    {
     "data": {
      "text/plain": [
       "27.828229950044197"
      ]
     },
     "execution_count": 91,
     "metadata": {},
     "output_type": "execute_result"
    }
   ],
   "execution_count": 91
  },
  {
   "metadata": {
    "ExecuteTime": {
     "end_time": "2025-03-20T08:03:32.228524Z",
     "start_time": "2025-03-20T07:58:51.715906Z"
    }
   },
   "cell_type": "code",
   "source": [
    "rf = RF4DG(criterion='mse', n_estimators=50, min_samples_leaf=min_samples_leaf, parallel=True)\n",
    "rf.fit(Xtr, Ytr, Etr)\n",
    "fitted_rf = rf.predict(Xtr)\n",
    "mean_squared_error(Y_compare, fitted_rf)"
   ],
   "id": "9c23c4ce6c4acdd",
   "outputs": [
    {
     "name": "stderr",
     "output_type": "stream",
     "text": [
      "100%|██████████| 50/50 [01:49<00:00,  2.19s/it]\n"
     ]
    },
    {
     "data": {
      "text/plain": [
       "6.444521883599911"
      ]
     },
     "execution_count": 38,
     "metadata": {},
     "output_type": "execute_result"
    }
   ],
   "execution_count": 38
  },
  {
   "metadata": {
    "ExecuteTime": {
     "end_time": "2025-03-20T08:03:51.055778Z",
     "start_time": "2025-03-20T08:03:50.833654Z"
    }
   },
   "cell_type": "code",
   "source": [
    "preds_isd = isdrf.predict_zeroshot(Xts)\n",
    "preds_rf = rf.predict(Xts)\n",
    "mean_squared_error(Yts, preds_isd)"
   ],
   "id": "f9046b8fa26ecb64",
   "outputs": [
    {
     "data": {
      "text/plain": [
       "13.108563195300698"
      ]
     },
     "execution_count": 39,
     "metadata": {},
     "output_type": "execute_result"
    }
   ],
   "execution_count": 39
  },
  {
   "metadata": {
    "ExecuteTime": {
     "end_time": "2025-03-20T08:03:57.461184Z",
     "start_time": "2025-03-20T08:03:57.443068Z"
    }
   },
   "cell_type": "code",
   "source": "mean_squared_error(Yts, preds_rf)",
   "id": "cdf2341fca9c2263",
   "outputs": [
    {
     "data": {
      "text/plain": [
       "2.6119914811685567"
      ]
     },
     "execution_count": 40,
     "metadata": {},
     "output_type": "execute_result"
    }
   ],
   "execution_count": 40
  },
  {
   "metadata": {
    "ExecuteTime": {
     "end_time": "2025-03-20T08:28:58.578808Z",
     "start_time": "2025-03-20T08:28:58.071301Z"
    }
   },
   "cell_type": "code",
   "source": "plt.scatter((Xtr @ isdrf.U.T)[:,3], Ytr)",
   "id": "53a95710afec211d",
   "outputs": [
    {
     "data": {
      "text/plain": [
       "<matplotlib.collections.PathCollection at 0x19013605b10>"
      ]
     },
     "execution_count": 69,
     "metadata": {},
     "output_type": "execute_result"
    },
    {
     "data": {
      "text/plain": [
       "<Figure size 640x480 with 1 Axes>"
      ],
      "image/png": "[encoded data removed]"
     },
     "metadata": {},
     "output_type": "display_data"
    }
   ],
   "execution_count": 69
  },
  {
   "metadata": {
    "ExecuteTime": {
     "end_time": "2025-03-20T07:52:41.795123Z",
     "start_time": "2025-03-20T07:52:41.784125Z"
    }
   },
   "cell_type": "code",
   "source": [
    "def check_const(blocks_shape, th_const, th):\n",
    "    const_blocks = np.zeros(len(blocks_shape), dtype=bool)\n",
    "    const_idxs = []\n",
    "    v_idxs = []\n",
    "    for b, bs in enumerate(blocks_shape):\n",
    "        if b == 0:\n",
    "            block_idxs = list(range(bs))\n",
    "        else:\n",
    "            block_idxs = [j + sum(blocks_shape[:b]) for j in range(bs)]\n",
    "        if th_const[b] < th:\n",
    "            const_blocks[b] = True\n",
    "            for idx in block_idxs:\n",
    "                const_idxs.append(idx)\n",
    "        else:\n",
    "            for idx in block_idxs:\n",
    "                v_idxs.append(idx)\n",
    "    return const_blocks, const_idxs, v_idxs"
   ],
   "id": "4d7d0dc6e09b2d",
   "outputs": [],
   "execution_count": 27
  },
  {
   "metadata": {
    "ExecuteTime": {
     "end_time": "2025-03-19T17:02:26.706508Z",
     "start_time": "2025-03-19T17:02:26.695509Z"
    }
   },
   "cell_type": "code",
   "source": "isdrf.th_const",
   "id": "a5471687374d7ba7",
   "outputs": [
    {
     "data": {
      "text/plain": [
       "[np.float64(0.3312126975227928), np.float64(0.15670254553918903)]"
      ]
     },
     "execution_count": 6,
     "metadata": {},
     "output_type": "execute_result"
    }
   ],
   "execution_count": 6
  },
  {
   "metadata": {
    "ExecuteTime": {
     "end_time": "2025-03-20T07:52:56.076218Z",
     "start_time": "2025-03-20T07:52:56.069220Z"
    }
   },
   "cell_type": "code",
   "source": "check_const(isdrf.blocks_shape, isdrf.th_const, isdrf.th_const[1])",
   "id": "7d7e4fc3ba5f5bde",
   "outputs": [
    {
     "data": {
      "text/plain": [
       "(array([False, False]), [], [0, 1, 2, 3])"
      ]
     },
     "execution_count": 32,
     "metadata": {},
     "output_type": "execute_result"
    }
   ],
   "execution_count": 32
  },
  {
   "metadata": {},
   "cell_type": "code",
   "outputs": [],
   "execution_count": null,
   "source": [
    "isdpreds = isdrf.predict_zeroshot(Xts)\n",
    "isdfitted = isdrf.predict_zeroshot(Xtr)"
   ],
   "id": "bce5ff69520c8bf7"
  },
  {
   "metadata": {
    "ExecuteTime": {
     "end_time": "2025-03-19T13:15:14.107269Z",
     "start_time": "2025-03-19T13:15:13.940358Z"
    }
   },
   "cell_type": "code",
   "source": [
    "from nldg.utils.jbd import ajbd\n",
    "\n",
    "n_envs = len(np.unique(Etr))\n",
    "p = Xtr.shape[1]\n",
    "Sigma = np.zeros((n_envs, p, p))\n",
    "for i, e in enumerate(np.unique(Etr)):\n",
    "    n_e = np.sum(Etr == e)\n",
    "    X_e = Xtr[(i * n_e) : ((i + 1) * n_e)]\n",
    "    Sigma[i, :, :] = np.cov(X_e, rowvar=False)\n",
    "U, blocks_shape, Sigma_diag, _, _ = ajbd(Sigma)"
   ],
   "id": "a1fde5127e959a6c",
   "outputs": [],
   "execution_count": 55
  },
  {
   "metadata": {
    "ExecuteTime": {
     "end_time": "2025-03-19T13:15:14.860075Z",
     "start_time": "2025-03-19T13:15:14.853566Z"
    }
   },
   "cell_type": "code",
   "source": "blocks_shape",
   "id": "d2a5ebb432be5d71",
   "outputs": [
    {
     "data": {
      "text/plain": [
       "[3, 1]"
      ]
     },
     "execution_count": 56,
     "metadata": {},
     "output_type": "execute_result"
    }
   ],
   "execution_count": 56
  },
  {
   "metadata": {
    "ExecuteTime": {
     "end_time": "2025-03-19T13:15:17.451842Z",
     "start_time": "2025-03-19T13:15:17.443316Z"
    }
   },
   "cell_type": "code",
   "source": "Sigma_diag[1,:,:]",
   "id": "53b42cb5dd3271eb",
   "outputs": [
    {
     "data": {
      "text/plain": [
       "array([[ 0.52385717,  0.48500252, -0.37745368, -0.04584472],\n",
       "       [ 0.48500252,  1.43271849, -1.01396564, -0.15418475],\n",
       "       [-0.37745368, -1.01396564,  1.24951887,  0.10577684],\n",
       "       [-0.04584472, -0.15418475,  0.10577684,  0.37862584]])"
      ]
     },
     "execution_count": 57,
     "metadata": {},
     "output_type": "execute_result"
    }
   ],
   "execution_count": 57
  },
  {
   "metadata": {
    "ExecuteTime": {
     "end_time": "2025-03-19T13:51:09.219726Z",
     "start_time": "2025-03-19T13:51:09.202600Z"
    }
   },
   "cell_type": "code",
   "source": [
    "OM = ortho_group.rvs(dim=p, random_state=np.random.default_rng(random_state))\n",
    "np.cov(Xtr[Etr==0] @ OM.T, rowvar=False)"
   ],
   "id": "954ac1cc014815ca",
   "outputs": [
    {
     "data": {
      "text/plain": [
       "array([[ 1.43801627,  1.35217754,  0.95649083, -0.03921033],\n",
       "       [ 1.35217754,  1.40682961,  0.64890345, -0.03299082],\n",
       "       [ 0.95649083,  0.64890345,  1.16328152, -0.03226403],\n",
       "       [-0.03921033, -0.03299082, -0.03226403,  0.22619758]])"
      ]
     },
     "execution_count": 66,
     "metadata": {},
     "output_type": "execute_result"
    }
   ],
   "execution_count": 66
  },
  {
   "metadata": {},
   "cell_type": "code",
   "outputs": [],
   "execution_count": null,
   "source": [
    "OM = ortho_group.rvs(dim=p, random_state=np.random.default_rng(random_state))\n",
    "#Xrot = Xtr @ OM.T\n",
    "Xrot = Xtr @ U.T\n",
    "plt.scatter(Xrot[:, 3], Ytr)"
   ],
   "id": "b4bace3db9964de9"
  },
  {
   "metadata": {},
   "cell_type": "code",
   "outputs": [],
   "execution_count": null,
   "source": [
    "isdrf = IsdRF(n_estimators=50, min_samples_leaf=min_samples_leaf)\n",
    "isdrf.find_invariant(Xtr, Ytr, Etr)"
   ],
   "id": "1db3a851da1d962a"
  },
  {
   "metadata": {},
   "cell_type": "code",
   "outputs": [],
   "execution_count": null,
   "source": "isdrf.const_idxs",
   "id": "63d7172eb87f6163"
  },
  {
   "metadata": {
    "ExecuteTime": {
     "end_time": "2025-03-19T14:04:36.904966Z",
     "start_time": "2025-03-19T14:04:36.877890Z"
    }
   },
   "cell_type": "code",
   "source": [
    "import numpy as np\n",
    "from scipy.stats import ortho_group\n",
    "from scipy.linalg import block_diag\n",
    "\n",
    "p = 4\n",
    "n_envs = 3\n",
    "rng = np.random.default_rng(42)\n",
    "\n",
    "# 1) Decide on the \"true\" basis for block diagonal\n",
    "U = ortho_group.rvs(dim=p, random_state=rng)\n",
    "block_sizes = [3, 1]  # same as your example\n",
    "\n",
    "Sigma_list = []\n",
    "rng_sigma = np.random.default_rng(42)\n",
    "for e in range(n_envs):\n",
    "    # For each environment, define block diag with dimension 3 and 1\n",
    "    # e.g. random diagonal blocks:\n",
    "    B1 = np.diag(rng.uniform(0.5, 2.0, size=3))\n",
    "    B2 = np.diag(rng.uniform(0.5, 2.0, size=1))\n",
    "    Block_e = block_diag(B1, B2)\n",
    "    A = block_diag(*[rng_sigma.random((bs, bs)) for bs in block_sizes])\n",
    "    print(A)\n",
    "\n",
    "    # Now rotate it back to the original coordinate system\n",
    "    Sigma_e = U.T @ Block_e @ U\n",
    "    Sigma_list.append(Sigma_e)"
   ],
   "id": "b94c481dee486385",
   "outputs": [
    {
     "name": "stdout",
     "output_type": "stream",
     "text": [
      "[[0.77395605 0.43887844 0.85859792 0.        ]\n",
      " [0.69736803 0.09417735 0.97562235 0.        ]\n",
      " [0.7611397  0.78606431 0.12811363 0.        ]\n",
      " [0.         0.         0.         0.45038594]]\n",
      "[[0.37079802 0.92676499 0.64386512 0.        ]\n",
      " [0.82276161 0.4434142  0.22723872 0.        ]\n",
      " [0.55458479 0.06381726 0.82763117 0.        ]\n",
      " [0.         0.         0.         0.6316644 ]]\n",
      "[[0.75808774 0.35452597 0.97069802 0.        ]\n",
      " [0.89312112 0.7783835  0.19463871 0.        ]\n",
      " [0.466721   0.04380377 0.15428949 0.        ]\n",
      " [0.         0.         0.         0.68304895]]\n"
     ]
    }
   ],
   "execution_count": 72
  },
  {
   "metadata": {
    "ExecuteTime": {
     "end_time": "2025-03-19T13:59:05.394337Z",
     "start_time": "2025-03-19T13:59:05.370796Z"
    }
   },
   "cell_type": "code",
   "source": "Sigma_list",
   "id": "fb272010b41a58a4",
   "outputs": [
    {
     "data": {
      "text/plain": [
       "[array([[ 0.61426842, -0.05384575,  0.05167139, -0.08877444],\n",
       "        [-0.05384575,  1.45290798, -0.04506158, -0.15327784],\n",
       "        [ 0.05167139, -0.04506158,  1.51994112,  0.14331542],\n",
       "        [-0.08877444, -0.15327784,  0.14331542,  1.52942891]]),\n",
       " array([[ 1.04715535, -0.0422295 ,  0.04536214, -0.07368054],\n",
       "        [-0.0422295 ,  1.77028837,  0.01661557, -0.13419703],\n",
       "        [ 0.04536214,  0.01661557,  1.8512839 ,  0.09269717],\n",
       "        [-0.07368054, -0.13419703,  0.09269717,  1.79592167]]),\n",
       " array([[ 0.81256034, -0.09217652,  0.03372149, -0.09080876],\n",
       "        [-0.09217652,  1.1814315 , -0.38322092,  0.28431325],\n",
       "        [ 0.03372149, -0.38322092,  0.85959442,  0.01560336],\n",
       "        [-0.09080876,  0.28431325,  0.01560336,  1.3717342 ]])]"
      ]
     },
     "execution_count": 68,
     "metadata": {},
     "output_type": "execute_result"
    }
   ],
   "execution_count": 68
  },
  {
   "metadata": {},
   "cell_type": "markdown",
   "source": "## Adjust - Results Magging",
   "id": "fa61f90b90957a93"
  },
  {
   "metadata": {
    "ExecuteTime": {
     "end_time": "2025-03-19T08:47:11.319079Z",
     "start_time": "2025-03-19T08:47:11.291976Z"
    }
   },
   "cell_type": "code",
   "source": [
    "mse_df_in = pd.read_csv('..\\\\..\\\\experiments\\\\new\\\\results_4\\\\mse_in.csv')\n",
    "r2_df_in = pd.read_csv('..\\\\..\\\\experiments\\\\new\\\\results_4\\\\r2_in.csv')\n",
    "mse_df_out = pd.read_csv('..\\\\..\\\\experiments\\\\new\\\\results_4\\\\mse_out.csv')\n",
    "r2_df_out = pd.read_csv('..\\\\..\\\\experiments\\\\new\\\\results_4\\\\r2_out.csv')\n",
    "max_mse_df = pd.read_csv('..\\\\..\\\\experiments\\\\new\\\\results_4\\\\maxmse.csv')"
   ],
   "id": "76586d219724e9a",
   "outputs": [],
   "execution_count": 2
  },
  {
   "metadata": {
    "ExecuteTime": {
     "end_time": "2025-03-19T08:48:07.679885Z",
     "start_time": "2025-03-19T08:47:12.303118Z"
    }
   },
   "cell_type": "code",
   "source": [
    "mse_in = np.zeros((50,))\n",
    "r2_in = np.zeros((50,))\n",
    "mse_out = np.zeros((50,))\n",
    "r2_out = np.zeros((50,))\n",
    "maxmse = np.zeros((50,))\n",
    "for i in tqdm(range(50)):\n",
    "    dtr, dts = gen_data_v3(n_train=1000, n_test=500, random_state=i)\n",
    "    Xtr, Xts = (\n",
    "            np.array(dtr.drop(columns=[\"E\", \"Y\"])),\n",
    "            np.array(dts.drop(columns=[\"E\", \"Y\"])),\n",
    "    )\n",
    "    Ytr, Yts = np.array(dtr[\"Y\"]), np.array(dts[\"Y\"])\n",
    "    Etr = np.array(dtr[\"E\"])\n",
    "    magging_rf_2 = MaggingRF(n_estimators=50, min_samples_leaf=10)\n",
    "    magging_rf_2.fit(Xtr, Ytr)\n",
    "    preds_magging_rf_2, _ = magging_rf_2.predict_maximin(Xtr, Xts)\n",
    "    fitted_magging_rf_2, _ = magging_rf_2.predict_maximin(Xtr, Xtr)\n",
    "    mse_in[i] = mean_squared_error(Ytr, fitted_magging_rf_2)\n",
    "    r2_in[i] = r2_score(Ytr, fitted_magging_rf_2)\n",
    "    mse_out[i] = mean_squared_error(Yts, preds_magging_rf_2)\n",
    "    r2_out[i] = r2_score(Yts, preds_magging_rf_2)\n",
    "    maxmse[i] = max_mse(Ytr, fitted_magging_rf_2, Etr)"
   ],
   "id": "942a2e51ce1d2163",
   "outputs": [
    {
     "name": "stderr",
     "output_type": "stream",
     "text": [
      "100%|██████████| 50/50 [00:55<00:00,  1.11s/it]\n"
     ]
    }
   ],
   "execution_count": 3
  },
  {
   "metadata": {
    "ExecuteTime": {
     "end_time": "2025-03-19T08:48:15.163600Z",
     "start_time": "2025-03-19T08:48:15.138599Z"
    }
   },
   "cell_type": "code",
   "source": [
    "mse_df_in['MaggingRF2'] = mse_in\n",
    "r2_df_in['MaggingRF2'] = r2_in\n",
    "mse_df_out['MaggingRF2'] = mse_out\n",
    "r2_df_out['MaggingRF2'] = r2_out\n",
    "max_mse_df['MaggingRF2'] = maxmse"
   ],
   "id": "f2078fab86b416b2",
   "outputs": [],
   "execution_count": 4
  },
  {
   "metadata": {
    "ExecuteTime": {
     "end_time": "2025-03-19T08:48:39.512971Z",
     "start_time": "2025-03-19T08:48:15.832874Z"
    }
   },
   "cell_type": "code",
   "source": [
    "from experiments.new.archive.utils import plot_mse_r2, plot_maxmse\n",
    "\n",
    "results_dir = os.path.join(os.getcwd(), 'results_3')\n",
    "isd=False\n",
    "os.makedirs(results_dir, exist_ok=True)\n",
    "plot_mse_r2(mse_df_in, r2_df_in, \"sim_mse_r2_in.pdf\", results_dir, out=False, isd=isd,)\n",
    "plot_mse_r2(mse_df_out, r2_df_out, \"sim_mse_r2_out.pdf\", results_dir, isd=isd)\n",
    "plot_maxmse(max_mse_df, \"sim_maxmse.pdf\", results_dir, isd=isd)"
   ],
   "id": "a535c78274304613",
   "outputs": [],
   "execution_count": 5
  },
  {
   "metadata": {
    "ExecuteTime": {
     "end_time": "2025-03-19T08:48:40.437511Z",
     "start_time": "2025-03-19T08:48:40.385468Z"
    }
   },
   "cell_type": "code",
   "source": [
    "mse_df_in.to_csv(os.path.join(results_dir, \"mse_in.csv\"), index=False)\n",
    "r2_df_in.to_csv(os.path.join(results_dir, \"r2_in.csv\"), index=False)\n",
    "mse_df_out.to_csv(os.path.join(results_dir, \"mse_out.csv\"), index=False)\n",
    "r2_df_out.to_csv(os.path.join(results_dir, \"r2_out.csv\"), index=False)\n",
    "max_mse_df.to_csv(os.path.join(results_dir, \"maxmse.csv\"), index=False)"
   ],
   "id": "4315ac1f4ad925d5",
   "outputs": [],
   "execution_count": 6
  },
  {
   "metadata": {},
   "cell_type": "markdown",
   "source": "### Plot no magging",
   "id": "746489ad0a5ef691"
  },
  {
   "metadata": {
    "ExecuteTime": {
     "end_time": "2025-03-19T09:53:40.094182Z",
     "start_time": "2025-03-19T09:53:40.066180Z"
    }
   },
   "cell_type": "code",
   "source": [
    "plt.rcParams.update(\n",
    "    {\n",
    "        \"text.usetex\": True,\n",
    "        \"font.family\": \"serif\",\n",
    "        \"font.serif\": [\"Computer Modern Roman\"],\n",
    "        \"text.latex.preamble\": r\"\\usepackage{amsmath}\\usepackage{amssymb}\",\n",
    "        \"axes.labelsize\": 22,\n",
    "        \"legend.fontsize\": 18,\n",
    "        \"xtick.labelsize\": 18,\n",
    "        \"ytick.labelsize\": 16,\n",
    "        \"axes.unicode_minus\": True,\n",
    "    }\n",
    ")\n",
    "WIDTH = 12.0\n",
    "HEIGHT = 6.0\n",
    "\n",
    "def plot_mse_r2_nomag(\n",
    "    mse_df: pd.DataFrame,\n",
    "    r2_df: pd.DataFrame,\n",
    "    name_plot: str,\n",
    "    plots_folder: str,\n",
    "    out: bool = True,\n",
    "    isd: bool = False,\n",
    ") -> None:\n",
    "    \"\"\"\n",
    "    Plots the MSE and R2 comparison between different methods.\n",
    "\n",
    "    Args:\n",
    "         mse_df: DataFrame containing the MSE values for the methods.\n",
    "         r2_df: DataFrame containing the R2 values for the methods.\n",
    "         name_plot: Name of the plot to save in the dedicated folder.\n",
    "         plots_folder: Folder where to save the plots.\n",
    "         out: If true, the results refer to the test data.\n",
    "         isd: If true, include the results of Invariant Subspace Decomposition.\n",
    "    \"\"\"\n",
    "    c = [\"tab:blue\", \"tab:orange\", \"tab:purple\", \"tab:red\"]\n",
    "    if isd:\n",
    "        n_methods = mse_df.shape[1]\n",
    "    else:\n",
    "        n_methods = 4\n",
    "\n",
    "    fig, ax = plt.subplots(1, 2, figsize=(WIDTH * 2, HEIGHT))\n",
    "    if out:\n",
    "        fig.suptitle(\n",
    "            r\"$\\mathsf{MSE}$ and $R^2$ comparison - Test data\",\n",
    "            fontsize=22,\n",
    "            fontweight=\"bold\",\n",
    "        )\n",
    "    else:\n",
    "        fig.suptitle(\n",
    "            r\"$\\mathsf{MSE}$ and $R^2$ comparison - Train data\",\n",
    "            fontsize=22,\n",
    "            fontweight=\"bold\",\n",
    "        )\n",
    "\n",
    "    # Create violin plots\n",
    "    vp_mse = ax[0].violinplot(\n",
    "        [mse_df.iloc[:, i] for i in range(n_methods)],\n",
    "        showmeans=True,\n",
    "        showextrema=False,\n",
    "        widths=0.4,\n",
    "        positions=range(n_methods),\n",
    "    )\n",
    "\n",
    "    vp_r2 = ax[1].violinplot(\n",
    "        [r2_df.iloc[:, i] for i in range(n_methods)],\n",
    "        showmeans=True,\n",
    "        showextrema=False,\n",
    "        widths=0.4,\n",
    "        positions=range(n_methods),\n",
    "    )\n",
    "\n",
    "    # Set colors for MSE violins\n",
    "    for i, vp in enumerate(vp_mse[\"bodies\"]):\n",
    "        vp.set_facecolor(c[i])\n",
    "        vp.set_edgecolor(c[i])\n",
    "        vp.set_alpha(0.7)\n",
    "\n",
    "    # Set colors for R² violins\n",
    "    for i, vp in enumerate(vp_r2[\"bodies\"]):\n",
    "        vp.set_facecolor(c[i])\n",
    "        vp.set_edgecolor(c[i])\n",
    "        vp.set_alpha(0.7)\n",
    "\n",
    "    # Set colors for mean lines\n",
    "    vp_mse[\"cmeans\"].set_color(c)\n",
    "    vp_mse[\"cmeans\"].set_linewidth(2.5)\n",
    "\n",
    "    vp_r2[\"cmeans\"].set_color(c)\n",
    "    vp_r2[\"cmeans\"].set_linewidth(2.5)\n",
    "\n",
    "    # Labels and formatting\n",
    "    ax[0].set_ylabel(r\"$\\mathsf{MSE}$\")\n",
    "    ax[1].set_ylabel(r\"$R^2$\")\n",
    "\n",
    "    ax[0].set_xticks(range(n_methods))\n",
    "    ax[1].set_xticks(range(n_methods))\n",
    "\n",
    "    if isd:\n",
    "        labels = [\n",
    "            r\"$\\mathsf{RF}$\",\n",
    "            r\"$\\mathsf{MaximinRF}$\",\n",
    "            r\"$\\mathsf{MaggingRF2}$\",\n",
    "            r\"$\\mathsf{IsdRF}$\",\n",
    "        ]\n",
    "    else:\n",
    "        labels = [\n",
    "            r\"$\\mathsf{RF}$\",\n",
    "            r\"$\\mathsf{MaximinRF}$\",\n",
    "            r\"$\\mathsf{MaggingRF}$\",\n",
    "            r\"$\\mathsf{MaggingRF2}$\",\n",
    "        ]\n",
    "    ax[0].set_xticklabels(labels)\n",
    "    ax[1].set_xticklabels(labels)\n",
    "\n",
    "    ax[0].grid(\n",
    "        True, which=\"both\", axis=\"y\", linestyle=\"--\", linewidth=0.3, alpha=0.3\n",
    "    )\n",
    "    ax[1].grid(\n",
    "        True, which=\"both\", axis=\"y\", linestyle=\"--\", linewidth=0.3, alpha=0.3\n",
    "    )\n",
    "\n",
    "    plt.tight_layout()\n",
    "\n",
    "    # Save plot\n",
    "    plot_path = os.path.join(plots_folder, name_plot)\n",
    "    plt.savefig(plot_path, bbox_inches=\"tight\", dpi=300)\n",
    "    plt.close()\n",
    "\n",
    "\n",
    "def plot_maxmse_nomag(\n",
    "    maxmse_df: pd.DataFrame,\n",
    "    name_plot: str,\n",
    "    plots_folder: str,\n",
    "    isd: bool = False,\n",
    ") -> None:\n",
    "    \"\"\"\n",
    "    Plots the maximum MSE across environments to compare different methods.\n",
    "\n",
    "    Args:\n",
    "         maxmse_df: DataFrame containing the maximum MSE values\n",
    "            for the methods.\n",
    "         name_plot: Name of the plot to save in the dedicated folder.\n",
    "         plots_folder: Folder where to save the plots.\n",
    "         isd: If true, include the results of Invariant Subspace Decomposition.\n",
    "    \"\"\"\n",
    "    c = [\"tab:blue\", \"tab:orange\", \"tab:purple\", \"tab:red\"]\n",
    "    if isd:\n",
    "        n_methods = 4\n",
    "    else:\n",
    "        n_methods = 4\n",
    "\n",
    "    fig, ax = plt.subplots(figsize=(WIDTH, HEIGHT))\n",
    "    fig.suptitle(\n",
    "        r\"Maximum $\\mathsf{MSE}$ across environments\",\n",
    "        fontsize=22,\n",
    "        fontweight=\"bold\",\n",
    "    )\n",
    "\n",
    "    vp_maxmse = ax.violinplot(\n",
    "        [maxmse_df.iloc[:, i] for i in range(n_methods)],\n",
    "        showmeans=True,\n",
    "        showextrema=False,\n",
    "        widths=0.4,\n",
    "        positions=range(n_methods),\n",
    "    )\n",
    "\n",
    "    # Set colors for the violins\n",
    "    for i, vp in enumerate(vp_maxmse[\"bodies\"]):\n",
    "        vp.set_facecolor(c[i])\n",
    "        vp.set_edgecolor(c[i])\n",
    "        vp.set_alpha(0.7)\n",
    "\n",
    "    # Customize the mean markers\n",
    "    vp_maxmse[\"cmeans\"].set_color(c)\n",
    "    vp_maxmse[\"cmeans\"].set_linewidth(2.5)\n",
    "\n",
    "    # Labels and formatting\n",
    "    ax.set_ylabel(r\"$\\mathsf{MSE}$\")\n",
    "    ax.set_xticks(range(n_methods))\n",
    "    if isd:\n",
    "        ax.set_xticklabels(\n",
    "            [\n",
    "                r\"$\\mathsf{RF}$\",\n",
    "                r\"$\\mathsf{MaximinRF}$\",\n",
    "                r\"$\\mathsf{MaggingRF2}$\",\n",
    "                r\"$\\mathsf{IsdRF}$\",\n",
    "            ]\n",
    "        )\n",
    "    else:\n",
    "        ax.set_xticklabels(\n",
    "            [\n",
    "                r\"$\\mathsf{RF}$\",\n",
    "                r\"$\\mathsf{MaximinRF}$\",\n",
    "                r\"$\\mathsf{MaggingRF}$\",\n",
    "                r\"$\\mathsf{MaggingRF2}$\",\n",
    "            ]\n",
    "        )\n",
    "\n",
    "    ax.grid(\n",
    "        True,\n",
    "        which=\"both\",\n",
    "        axis=\"y\",\n",
    "        color=\"grey\",\n",
    "        linestyle=\"--\",\n",
    "        linewidth=0.3,\n",
    "        alpha=0.3,\n",
    "    )\n",
    "\n",
    "    plt.tight_layout()\n",
    "\n",
    "    plot_path = os.path.join(plots_folder, name_plot)\n",
    "    plt.savefig(plot_path, bbox_inches=\"tight\", dpi=300)\n",
    "    plt.close()"
   ],
   "id": "e82dd5a5807e9d47",
   "outputs": [],
   "execution_count": 40
  },
  {
   "metadata": {
    "ExecuteTime": {
     "end_time": "2025-03-19T09:53:40.551827Z",
     "start_time": "2025-03-19T09:53:40.523636Z"
    }
   },
   "cell_type": "code",
   "source": [
    "mse_df_in = pd.read_csv('..\\\\..\\\\experiments\\\\new\\\\results_5\\\\mse_in.csv')\n",
    "r2_df_in = pd.read_csv('..\\\\..\\\\experiments\\\\new\\\\results_5\\\\r2_in.csv')\n",
    "mse_df_out = pd.read_csv('..\\\\..\\\\experiments\\\\new\\\\results_5\\\\mse_out.csv')\n",
    "r2_df_out = pd.read_csv('..\\\\..\\\\experiments\\\\new\\\\results_5\\\\r2_out.csv')\n",
    "max_mse_df = pd.read_csv('..\\\\..\\\\experiments\\\\new\\\\results_5\\\\maxmse.csv')"
   ],
   "id": "fe0b0b88d407027",
   "outputs": [],
   "execution_count": 41
  },
  {
   "metadata": {
    "ExecuteTime": {
     "end_time": "2025-03-19T09:53:41.308180Z",
     "start_time": "2025-03-19T09:53:41.284046Z"
    }
   },
   "cell_type": "code",
   "source": [
    "mse_df_in = mse_df_in.drop('MaggingRF', axis=1)\n",
    "r2_df_in = r2_df_in.drop('MaggingRF', axis=1)\n",
    "mse_df_out = mse_df_out.drop('MaggingRF', axis=1)\n",
    "r2_df_out = r2_df_out.drop('MaggingRF', axis=1)\n",
    "max_mse_df = max_mse_df.drop('MaggingRF', axis=1)"
   ],
   "id": "cc9a95683ea8385e",
   "outputs": [],
   "execution_count": 42
  },
  {
   "metadata": {
    "ExecuteTime": {
     "end_time": "2025-03-19T09:53:53.669135Z",
     "start_time": "2025-03-19T09:53:47.783887Z"
    }
   },
   "cell_type": "code",
   "source": [
    "results_dir = os.path.join(os.getcwd(), 'results_5')\n",
    "isd=True\n",
    "os.makedirs(results_dir, exist_ok=True)\n",
    "\n",
    "plot_mse_r2_nomag(mse_df_in, r2_df_in, \"sim_mse_r2_in_nomag.pdf\", results_dir, out=False, isd=isd,)\n",
    "plot_mse_r2_nomag(mse_df_out, r2_df_out, \"sim_mse_r2_out_nomag.pdf\", results_dir, isd=isd)\n",
    "plot_maxmse_nomag(max_mse_df, \"sim_maxmse_nomag.pdf\", results_dir, isd=isd)"
   ],
   "id": "f041cd711f1ece82",
   "outputs": [],
   "execution_count": 43
  },
  {
   "metadata": {},
   "cell_type": "markdown",
   "source": "## Parallel RF",
   "id": "34acb14ea96d6d73"
  },
  {
   "metadata": {
    "ExecuteTime": {
     "end_time": "2025-03-19T12:24:19.485095Z",
     "start_time": "2025-03-19T12:24:19.429101Z"
    }
   },
   "cell_type": "code",
   "source": [
    "dtr, dts = gen_data_v3(n_train=1000, n_test=500)\n",
    "Xtr, Xts = np.array(dtr.drop(columns=['E', 'Y'])), np.array(dts.drop(columns=['E', 'Y']))\n",
    "Ytr, Yts = np.array(dtr['Y']), np.array(dts['Y'])\n",
    "Etr = np.array(dtr['E'])\n",
    "min_samples_leaf = 10"
   ],
   "id": "3e22522c6ea0c99a",
   "outputs": [],
   "execution_count": 2
  },
  {
   "metadata": {
    "ExecuteTime": {
     "end_time": "2025-03-19T12:25:53.310992Z",
     "start_time": "2025-03-19T12:24:20.128652Z"
    }
   },
   "cell_type": "code",
   "source": [
    "mrf = RF4DG(criterion='maximin', n_estimators=50, min_samples_leaf=min_samples_leaf)\n",
    "mrf.fit(Xtr, Ytr, Etr)\n",
    "mpreds = mrf.predict(Xts)\n",
    "mfitted = mrf.predict(Xtr)"
   ],
   "id": "43cdea78525b4f2e",
   "outputs": [
    {
     "name": "stderr",
     "output_type": "stream",
     "text": [
      "100%|██████████| 50/50 [01:32<00:00,  1.86s/it]\n"
     ]
    }
   ],
   "execution_count": 3
  },
  {
   "metadata": {
    "ExecuteTime": {
     "end_time": "2025-03-19T12:26:03.463188Z",
     "start_time": "2025-03-19T12:26:03.432192Z"
    }
   },
   "cell_type": "code",
   "source": "mean_squared_error(Ytr, mfitted), r2_score(Ytr, mfitted)",
   "id": "4a1bcf112fa4b1e0",
   "outputs": [
    {
     "data": {
      "text/plain": [
       "(3.3146568897298128, 0.7661949363985621)"
      ]
     },
     "execution_count": 4,
     "metadata": {},
     "output_type": "execute_result"
    }
   ],
   "execution_count": 4
  },
  {
   "metadata": {
    "ExecuteTime": {
     "end_time": "2025-03-19T12:26:04.188619Z",
     "start_time": "2025-03-19T12:26:04.160623Z"
    }
   },
   "cell_type": "code",
   "source": "mean_squared_error(Yts, mpreds), r2_score(Yts, mpreds)",
   "id": "2e467b0dbdff7f6f",
   "outputs": [
    {
     "data": {
      "text/plain": [
       "(1.5027114915191073, 0.8752394226574021)"
      ]
     },
     "execution_count": 5,
     "metadata": {},
     "output_type": "execute_result"
    }
   ],
   "execution_count": 5
  },
  {
   "metadata": {
    "ExecuteTime": {
     "end_time": "2025-03-19T12:26:06.499393Z",
     "start_time": "2025-03-19T12:26:06.480388Z"
    }
   },
   "cell_type": "code",
   "source": "max_mse(Ytr, mfitted, Etr)",
   "id": "d2e1cc487c39b7f2",
   "outputs": [
    {
     "data": {
      "text/plain": [
       "np.float64(4.306904342015246)"
      ]
     },
     "execution_count": 6,
     "metadata": {},
     "output_type": "execute_result"
    }
   ],
   "execution_count": 6
  },
  {
   "metadata": {
    "ExecuteTime": {
     "end_time": "2025-03-19T12:26:25.980723Z",
     "start_time": "2025-03-19T12:26:07.931596Z"
    }
   },
   "cell_type": "code",
   "source": [
    "mrf2 = RF4DG(criterion='maximin', n_estimators=50, min_samples_leaf=min_samples_leaf, parallel=True)\n",
    "mrf2.fit(Xtr, Ytr, Etr)\n",
    "mpreds2 = mrf2.predict(Xts)\n",
    "mfitted2 = mrf2.predict(Xtr)"
   ],
   "id": "6a48ddadfb6978c9",
   "outputs": [
    {
     "name": "stderr",
     "output_type": "stream",
     "text": [
      "100%|██████████| 50/50 [00:08<00:00,  5.89it/s]\n"
     ]
    }
   ],
   "execution_count": 7
  },
  {
   "metadata": {
    "ExecuteTime": {
     "end_time": "2025-03-19T12:26:29.737151Z",
     "start_time": "2025-03-19T12:26:29.717620Z"
    }
   },
   "cell_type": "code",
   "source": "mean_squared_error(Ytr, mfitted2), r2_score(Ytr, mfitted2)",
   "id": "970a00a783e8e25a",
   "outputs": [
    {
     "data": {
      "text/plain": [
       "(3.3146568897298128, 0.7661949363985621)"
      ]
     },
     "execution_count": 8,
     "metadata": {},
     "output_type": "execute_result"
    }
   ],
   "execution_count": 8
  },
  {
   "metadata": {
    "ExecuteTime": {
     "end_time": "2025-03-19T12:26:31.625392Z",
     "start_time": "2025-03-19T12:26:31.606315Z"
    }
   },
   "cell_type": "code",
   "source": "mean_squared_error(Yts, mpreds2), r2_score(Yts, mpreds2)",
   "id": "715381f04d7e90f2",
   "outputs": [
    {
     "data": {
      "text/plain": [
       "(1.5027114915191073, 0.8752394226574021)"
      ]
     },
     "execution_count": 9,
     "metadata": {},
     "output_type": "execute_result"
    }
   ],
   "execution_count": 9
  },
  {
   "metadata": {
    "ExecuteTime": {
     "end_time": "2025-03-19T12:26:38.121082Z",
     "start_time": "2025-03-19T12:26:38.095083Z"
    }
   },
   "cell_type": "code",
   "source": "max_mse(Ytr, mfitted2, Etr)",
   "id": "41104881f6f5688c",
   "outputs": [
    {
     "data": {
      "text/plain": [
       "np.float64(4.306904342015246)"
      ]
     },
     "execution_count": 10,
     "metadata": {},
     "output_type": "execute_result"
    }
   ],
   "execution_count": 10
  }
 ],
 "metadata": {
  "kernelspec": {
   "display_name": "Python 3",
   "language": "python",
   "name": "python3"
  },
  "language_info": {
   "codemirror_mode": {
    "name": "ipython",
    "version": 2
   },
   "file_extension": ".py",
   "mimetype": "text/x-python",
   "name": "python",
   "nbconvert_exporter": "python",
   "pygments_lexer": "ipython2",
   "version": "2.7.6"
  }
 },
 "nbformat": 4,
 "nbformat_minor": 5
}
