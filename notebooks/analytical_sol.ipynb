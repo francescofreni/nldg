{
 "cells": [
  {
   "cell_type": "code",
   "id": "initial_id",
   "metadata": {
    "collapsed": true,
    "ExecuteTime": {
     "end_time": "2025-04-24T13:50:10.871867Z",
     "start_time": "2025-04-24T13:50:06.068916Z"
    }
   },
   "source": [
    "import numpy as np\n",
    "import cvxpy as cp\n",
    "from collections import Counter\n",
    "from numba import njit\n",
    "from scipy import optimize\n",
    "from nldg.utils import max_mse, min_xplvar, gen_data_v2, gen_data_v3\n",
    "import matplotlib.pyplot as plt\n",
    "import seaborn as sns\n",
    "from numpy.random import default_rng\n",
    "from scipy.optimize import root"
   ],
   "outputs": [],
   "execution_count": 1
  },
  {
   "metadata": {
    "ExecuteTime": {
     "end_time": "2025-04-25T10:15:55.395645Z",
     "start_time": "2025-04-25T10:15:55.275759Z"
    }
   },
   "cell_type": "code",
   "source": [
    "dtr = gen_data_v3(n=1000, setting=2)\n",
    "#dtr = gen_data_v2(n=1000)\n",
    "Xtr = np.array(dtr.drop(columns=['E', 'Y']))\n",
    "Ytr = np.array(dtr['Y'])\n",
    "Ytr = Ytr - np.mean(Ytr)\n",
    "dtr['Y'] = Ytr\n",
    "Etr = np.array(dtr['E'])\n",
    "Xtr_sorted = np.sort(Xtr, axis=0)\n",
    "all_idx = default_rng(0).choice(np.arange(0, Xtr.shape[0]), size=Ytr.shape[0], replace=True)\n",
    "\n",
    "Y_sample = Ytr[all_idx].flatten()\n",
    "X_sample = Xtr[all_idx].flatten()\n",
    "E_sample = Etr[all_idx].flatten()\n",
    "unique_envs = np.unique(E_sample)\n",
    "c_init = cp.Variable(1)\n",
    "t = cp.Variable(nonneg=True)\n",
    "constraints = []\n",
    "for env in unique_envs:\n",
    "    Y_e = Y_sample[E_sample == env]\n",
    "    constraints.append(cp.mean(cp.square(Y_e - c_init)) <= t)\n",
    "objective = cp.Minimize(t)\n",
    "problem = cp.Problem(objective, constraints)\n",
    "problem.solve()\n",
    "best_preds = np.array([c_init.value] * Y_sample.shape[0])\n",
    "alpha = 0.1 * objective.value"
   ],
   "id": "d653091755a3ef8b",
   "outputs": [],
   "execution_count": 54
  },
  {
   "metadata": {
    "ExecuteTime": {
     "end_time": "2025-04-25T10:15:56.102549Z",
     "start_time": "2025-04-25T10:15:55.898643Z"
    }
   },
   "cell_type": "code",
   "source": [
    "indices = all_idx\n",
    "\n",
    "# 1. Sort indices by the splitting feature\n",
    "order = np.argsort(Xtr[indices].flatten())\n",
    "sorted_indices = indices[order]\n",
    "sorted_X = Xtr[sorted_indices]\n",
    "sorted_Y = Ytr[sorted_indices]\n",
    "sorted_E = Etr[sorted_indices]\n",
    "\n",
    "# 2. Precompute per-env prefix sums & prefix squared-sums\n",
    "N = len(sorted_indices)\n",
    "n_envs = len(unique_envs)\n",
    "env_idx = np.arange(n_envs)[:, None]\n",
    "mask_mat = (sorted_E[None, :] == env_idx)\n",
    "\n",
    "prefix_count_mat = np.concatenate(\n",
    "    [np.zeros((n_envs,1),int), np.cumsum(mask_mat, axis=1)], axis=1\n",
    ")\n",
    "\n",
    "Y_mat = sorted_Y[None, :] * mask_mat\n",
    "prefix_sum_mat = np.concatenate(\n",
    "    [np.zeros((n_envs,1)), np.cumsum(Y_mat, axis=1)], axis=1\n",
    ")\n",
    "prefix_sq_mat = np.concatenate(\n",
    "    [np.zeros((n_envs,1)), np.cumsum((Y_mat * sorted_Y[None,:]), axis=1)], axis=1\n",
    ")\n",
    "\n",
    "suffix_count_mat = np.zeros((n_envs, N + 1))\n",
    "suffix_sum_mat = np.zeros((n_envs, N + 1))\n",
    "suffix_sq_mat = np.zeros((n_envs, N + 1))\n",
    "\n",
    "for e in range(n_envs):\n",
    "    suffix_count_mat[e, N] = 0\n",
    "    suffix_sum_mat[e, N] = 0.0\n",
    "    suffix_sq_mat[e, N] = 0.0\n",
    "\n",
    "for j in range(N - 1, -1, -1):\n",
    "    for e in range(n_envs):\n",
    "        m = 1 if sorted_E[j] == e else 0\n",
    "        suffix_count_mat[e, j] = suffix_count_mat[e, j + 1] + m\n",
    "        suffix_sum_mat[e, j] = suffix_sum_mat[e, j + 1] + m * sorted_Y[j]\n",
    "        suffix_sq_mat[e, j] = suffix_sq_mat[e, j + 1] + m * (sorted_Y[j] ** 2)\n",
    "\n",
    "total_count = np.zeros(n_envs)\n",
    "for e in range(n_envs):\n",
    "    total_count[e] = np.sum(Etr[all_idx] == e)\n",
    "\n",
    "# 4. Precompute \"remaining\" loss per env (here remaining = none if all_idx used)\n",
    "diff = Counter(all_idx) - Counter(indices)\n",
    "remaining = np.array(list(diff.elements()), dtype=np.intc)\n",
    "rem_loss_vec = np.zeros(n_envs)\n",
    "if remaining.size > 0:\n",
    "    mask_rem = (Etr[remaining][None, :] == env_idx)\n",
    "    Y_rem    = Ytr[remaining][None, :] * mask_rem\n",
    "    P_rem    = best_preds[remaining][None, :] * mask_rem\n",
    "    errs_sq  = (Y_rem - P_rem) ** 2\n",
    "    rem_loss_vec = errs_sq.sum(axis=1)\n",
    "\n",
    "# 5. Build the CVXPY problem once using Parameters\n",
    "cL = cp.Variable(1)\n",
    "cR = cp.Variable(1)\n",
    "t  = cp.Variable()\n",
    "#mean_diff_p = cp.Parameter(nonneg=True)\n",
    "max_diff = cp.Parameter(nonneg=True)\n",
    "\n",
    "# Parameters for left & right sums\n",
    "S0_L = cp.Parameter(n_envs, nonneg=True)\n",
    "S1_L = cp.Parameter(n_envs)\n",
    "n_L  = cp.Parameter(n_envs, nonneg=True)\n",
    "S0_R = cp.Parameter(n_envs, nonneg=True)\n",
    "S1_R = cp.Parameter(n_envs)\n",
    "n_R  = cp.Parameter(n_envs, nonneg=True)\n",
    "R    = cp.Parameter(n_envs, nonneg=True)\n",
    "\n",
    "def quad_term(c, S0, S1, n):\n",
    "    # S0 - 2 c * S1 + n * c^2\n",
    "    return S0 - 2 * c * S1 + n * c**2\n",
    "\n",
    "# elementwise env losses <= t\n",
    "loss_vec = (quad_term(cL, S0_L, S1_L, n_L)\n",
    "          + quad_term(cR, S0_R, S1_R, n_R)\n",
    "          + R) / total_count\n",
    "constraints = [loss_vec <= t]\n",
    "#objective   = cp.Minimize(t + alpha * mean_diff_p ** (-1))\n",
    "objective   = cp.Minimize(t + alpha * max_diff)\n",
    "problem     = cp.Problem(objective, constraints)\n",
    "\n",
    "# 6. Loop over splits, update parameters, solve\n",
    "best_score = np.inf\n",
    "best_split = None\n",
    "best_vals  = None\n",
    "\n",
    "#@njit\n",
    "#def compute_mean_diff(prefix_count, prefix_sum, suffix_count, suffix_sum, i):\n",
    "#    K = prefix_count.shape[0]\n",
    "#    s = 0.0\n",
    "#    c = 0\n",
    "#    for e in range(K):\n",
    "#        nL = prefix_count[e, i]\n",
    "#        nR = suffix_count[e, i]\n",
    "#        if nL > 0 and nR > 0:\n",
    "#            mL = prefix_sum[e, i] / nL\n",
    "#            mR = suffix_sum[e, i] / nR\n",
    "#            s += abs(mR - mL)\n",
    "#            c += 1\n",
    "#    return s / c if c > 0 else 0.0\n",
    "\n",
    "@njit\n",
    "def compute_max_prop_balance(prefix_count, suffix_count, total_count, i):\n",
    "    K = prefix_count.shape[0]\n",
    "    max_left_prop = 0.0\n",
    "    max_right_prop = 0.0\n",
    "\n",
    "    for e in range(K):\n",
    "        total = total_count[e]\n",
    "        if total > 0:\n",
    "            left_prop = prefix_count[e, i] / total\n",
    "            right_prop = suffix_count[e, i] / total\n",
    "\n",
    "            if left_prop > max_left_prop:\n",
    "                max_left_prop = left_prop\n",
    "\n",
    "            if right_prop > max_right_prop:\n",
    "                max_right_prop = right_prop\n",
    "\n",
    "    return abs(max_left_prop - max_right_prop)\n",
    "\n",
    "#for i in range(1, N):\n",
    "for i in [371]:\n",
    "    # mean-diff vectorized\n",
    "    #mean_diff_p.value = compute_mean_diff(\n",
    "    #    prefix_count_mat, prefix_sum_mat,\n",
    "    #    suffix_count_mat, suffix_sum_mat, i\n",
    "    #)\n",
    "    max_diff.value = compute_max_prop_balance(\n",
    "        prefix_count_mat, suffix_count_mat, total_count, i\n",
    "    )\n",
    "\n",
    "    # update S0, S1, n for left & right\n",
    "    S0_L.value = prefix_sq_mat[:, i]\n",
    "    S1_L.value = prefix_sum_mat[:, i]\n",
    "    n_L.value  = prefix_count_mat[:, i]\n",
    "\n",
    "    S0_R.value = suffix_sq_mat[:, i]\n",
    "    S1_R.value = suffix_sum_mat[:, i]\n",
    "    n_R.value  = suffix_count_mat[:, i]\n",
    "\n",
    "    R.value    = rem_loss_vec\n",
    "\n",
    "    problem.solve(warm_start=True)\n",
    "\n",
    "    if problem.value < best_score:\n",
    "        best_score = problem.value\n",
    "        best_split = i\n",
    "        best_vals  = (cL.value, cR.value, t.value)"
   ],
   "id": "543e6b7003615a7e",
   "outputs": [],
   "execution_count": 55
  },
  {
   "metadata": {
    "ExecuteTime": {
     "end_time": "2025-04-25T10:15:56.775255Z",
     "start_time": "2025-04-25T10:15:56.762272Z"
    }
   },
   "cell_type": "code",
   "source": "cL.value",
   "id": "2b1b658bb883875",
   "outputs": [
    {
     "data": {
      "text/plain": [
       "array([0.67837939])"
      ]
     },
     "execution_count": 56,
     "metadata": {},
     "output_type": "execute_result"
    }
   ],
   "execution_count": 56
  },
  {
   "metadata": {
    "ExecuteTime": {
     "end_time": "2025-04-25T10:15:57.318748Z",
     "start_time": "2025-04-25T10:15:57.306945Z"
    }
   },
   "cell_type": "code",
   "source": "cR.value",
   "id": "b9a74cd5fe8af6be",
   "outputs": [
    {
     "data": {
      "text/plain": [
       "array([1.06966161])"
      ]
     },
     "execution_count": 57,
     "metadata": {},
     "output_type": "execute_result"
    }
   ],
   "execution_count": 57
  },
  {
   "metadata": {
    "ExecuteTime": {
     "end_time": "2025-04-25T10:15:57.787976Z",
     "start_time": "2025-04-25T10:15:57.776964Z"
    }
   },
   "cell_type": "code",
   "source": "best_split",
   "id": "23354c6fa229a74b",
   "outputs": [
    {
     "data": {
      "text/plain": [
       "371"
      ]
     },
     "execution_count": 58,
     "metadata": {},
     "output_type": "execute_result"
    }
   ],
   "execution_count": 58
  },
  {
   "metadata": {
    "ExecuteTime": {
     "end_time": "2025-04-25T10:15:58.119572Z",
     "start_time": "2025-04-25T10:15:58.105588Z"
    }
   },
   "cell_type": "code",
   "source": [
    "n1 = np.sum(E_sample == 0)\n",
    "n2 = np.sum(E_sample == 1)\n",
    "n3 = np.sum(E_sample == 2)\n",
    "n1_L = n_L.value[0]\n",
    "n2_L = n_L.value[1]\n",
    "n3_L = n_L.value[2]\n",
    "n1_R = n_R.value[0]\n",
    "n2_R = n_R.value[1]\n",
    "n3_R = n_R.value[2]\n",
    "K1 = rem_loss_vec[0]\n",
    "K2 = rem_loss_vec[1]\n",
    "K3 = rem_loss_vec[2]\n",
    "sum_sq_1 = S0_L.value[0] + S0_R.value[0]\n",
    "sum_sq_2 = S0_L.value[1] + S0_R.value[1]\n",
    "sum_sq_3 = S0_L.value[2] + S0_R.value[2]\n",
    "mu1_L = S1_L.value[0] / n1_L\n",
    "mu2_L = S1_L.value[1] / n2_L\n",
    "mu3_L = S1_L.value[2] / n3_L\n",
    "mu1_R = S1_R.value[0] / n1_R\n",
    "mu2_R = S1_R.value[1] / n2_R\n",
    "mu3_R = S1_R.value[2] / n3_R"
   ],
   "id": "64129426c63012cc",
   "outputs": [],
   "execution_count": 59
  },
  {
   "metadata": {
    "ExecuteTime": {
     "end_time": "2025-04-25T10:15:58.511301Z",
     "start_time": "2025-04-25T10:15:58.498302Z"
    }
   },
   "cell_type": "code",
   "source": "t.value",
   "id": "8c1a995a2120ceef",
   "outputs": [
    {
     "data": {
      "text/plain": [
       "array(23.86100775)"
      ]
     },
     "execution_count": 60,
     "metadata": {},
     "output_type": "execute_result"
    }
   ],
   "execution_count": 60
  },
  {
   "metadata": {
    "ExecuteTime": {
     "end_time": "2025-04-25T10:15:58.978963Z",
     "start_time": "2025-04-25T10:15:58.965964Z"
    }
   },
   "cell_type": "code",
   "source": "1 / n1 * (sum_sq_1 + n1_L * cL.value ** 2 - 2 * n1_L * cL.value * mu1_L + n1_R * cR.value ** 2 - 2 * n1_R * cR.value * mu1_R + K1)",
   "id": "ac88ae9f1a3f60b3",
   "outputs": [
    {
     "data": {
      "text/plain": [
       "array([23.86100775])"
      ]
     },
     "execution_count": 61,
     "metadata": {},
     "output_type": "execute_result"
    }
   ],
   "execution_count": 61
  },
  {
   "metadata": {
    "ExecuteTime": {
     "end_time": "2025-04-25T10:15:59.431709Z",
     "start_time": "2025-04-25T10:15:59.418692Z"
    }
   },
   "cell_type": "code",
   "source": "1 / n2 * (sum_sq_2 + n2_L * cL.value ** 2 - 2 * n2_L * cL.value * mu2_L + n2_R * cR.value ** 2 - 2 * n2_R * cR.value * mu2_R + K2)",
   "id": "23b65ae7e0f0049c",
   "outputs": [
    {
     "data": {
      "text/plain": [
       "array([23.86100775])"
      ]
     },
     "execution_count": 62,
     "metadata": {},
     "output_type": "execute_result"
    }
   ],
   "execution_count": 62
  },
  {
   "metadata": {
    "ExecuteTime": {
     "end_time": "2025-04-25T10:16:00.000879Z",
     "start_time": "2025-04-25T10:15:59.987891Z"
    }
   },
   "cell_type": "code",
   "source": "1 / n3 * (sum_sq_3 + n3_L * cL.value ** 2 - 2 * n3_L * cL.value * mu3_L + n3_R * cR.value ** 2 - 2 * n3_R * cR.value * mu3_R + K3)",
   "id": "e2e4f538a15ae14f",
   "outputs": [
    {
     "data": {
      "text/plain": [
       "array([14.39344718])"
      ]
     },
     "execution_count": 63,
     "metadata": {},
     "output_type": "execute_result"
    }
   ],
   "execution_count": 63
  },
  {
   "metadata": {
    "ExecuteTime": {
     "end_time": "2025-04-25T10:16:00.346869Z",
     "start_time": "2025-04-25T10:16:00.316854Z"
    }
   },
   "cell_type": "code",
   "source": [
    "def triple_binding(lambdas):\n",
    "    li, lj = lambdas\n",
    "    lk = 1 - li - lj\n",
    "\n",
    "    # compute cL, cR\n",
    "    numL = li*n1_L*mu1_L + lj*n2_L*mu2_L + lk*n3_L*mu3_L\n",
    "    denL = li*n1_L        + lj*n2_L        + lk*n3_L\n",
    "    cL   = numL/denL\n",
    "\n",
    "    numR = li*n1_R*mu1_R + lj*n2_R*mu2_R + lk*n3_R*mu3_R\n",
    "    denR = li*n1_R        + lj*n2_R        + lk*n3_R\n",
    "    cR   = numR/denR\n",
    "\n",
    "    # evaluate the 3 losses at (cL,cR)\n",
    "    f_i = 1 / n1 * (sum_sq_1 + n1_L * cL ** 2 - 2 * n1_L * cL * mu1_L + n1_R * cR ** 2 - 2 * n1_R * cR * mu1_R + K1)\n",
    "    f_j = 1 / n2 * (sum_sq_2 + n2_L * cL ** 2 - 2 * n2_L * cL * mu2_L + n2_R * cR ** 2 - 2 * n2_R * cR * mu2_R + K2)\n",
    "    f_k = 1 / n3 * (sum_sq_3 + n3_L * cL ** 2 - 2 * n3_L * cL * mu3_L + n3_R * cR ** 2 - 2 * n3_R * cR * mu3_R + K3)\n",
    "\n",
    "    # our two binding equations:\n",
    "    return [f_i - f_j,\n",
    "            f_j - f_k]\n",
    "\n",
    "# initial guess, e.g. equally split:\n",
    "init = np.array([1/3, 1/3])\n",
    "\n",
    "sol = root(triple_binding, init, method='hybr')\n",
    "li, lj = sol.x\n",
    "lk     = 1 - li - lj"
   ],
   "id": "5758df4ba1210b7",
   "outputs": [],
   "execution_count": 64
  },
  {
   "metadata": {
    "ExecuteTime": {
     "end_time": "2025-04-25T10:16:01.129103Z",
     "start_time": "2025-04-25T10:16:01.116103Z"
    }
   },
   "cell_type": "code",
   "source": [
    "cL = (li*n1_L*mu1_L + lj*n2_L*mu2_L + lk*n3_L*mu3_L)/(li*n1_L + lj*n2_L + lk*n3_L)\n",
    "cR = (li*n1_R*mu1_R + lj*n2_R*mu2_R + lk*n3_R*mu3_R)/(li*n1_R + lj*n2_R + lk*n3_R)"
   ],
   "id": "dda1e8926c1efb49",
   "outputs": [],
   "execution_count": 65
  },
  {
   "metadata": {
    "ExecuteTime": {
     "end_time": "2025-04-25T10:16:01.642042Z",
     "start_time": "2025-04-25T10:16:01.629027Z"
    }
   },
   "cell_type": "code",
   "source": "1 / n1 * (sum_sq_1 + n1_L * cL ** 2 - 2 * n1_L * cL * mu1_L + n1_R * cR ** 2 - 2 * n1_R * cR * mu1_R + K1)",
   "id": "fd22f9a8382a012a",
   "outputs": [
    {
     "data": {
      "text/plain": [
       "np.float64(27.456302043683404)"
      ]
     },
     "execution_count": 66,
     "metadata": {},
     "output_type": "execute_result"
    }
   ],
   "execution_count": 66
  },
  {
   "metadata": {
    "ExecuteTime": {
     "end_time": "2025-04-25T10:16:02.189391Z",
     "start_time": "2025-04-25T10:16:02.163388Z"
    }
   },
   "cell_type": "code",
   "source": "1 / n2 * (sum_sq_2 + n2_L * cL ** 2 - 2 * n2_L * cL * mu2_L + n2_R * cR ** 2 - 2 * n2_R * cR * mu2_R + K2)",
   "id": "e333fe9510b8d8f4",
   "outputs": [
    {
     "data": {
      "text/plain": [
       "np.float64(27.456302043791595)"
      ]
     },
     "execution_count": 67,
     "metadata": {},
     "output_type": "execute_result"
    }
   ],
   "execution_count": 67
  },
  {
   "metadata": {
    "ExecuteTime": {
     "end_time": "2025-04-25T10:16:02.671396Z",
     "start_time": "2025-04-25T10:16:02.659382Z"
    }
   },
   "cell_type": "code",
   "source": "1 / n3 * (sum_sq_3 + n3_L * cL ** 2 - 2 * n3_L * cL * mu3_L + n3_R * cR ** 2 - 2 * n3_R * cR * mu3_R + K3)",
   "id": "9b835679d6185953",
   "outputs": [
    {
     "data": {
      "text/plain": [
       "np.float64(27.456302043919763)"
      ]
     },
     "execution_count": 68,
     "metadata": {},
     "output_type": "execute_result"
    }
   ],
   "execution_count": 68
  },
  {
   "metadata": {
    "ExecuteTime": {
     "end_time": "2025-04-25T10:18:33.733621Z",
     "start_time": "2025-04-25T10:18:32.595988Z"
    }
   },
   "cell_type": "code",
   "source": [
    "indices = all_idx\n",
    "\n",
    "# 1. Sort indices by the splitting feature\n",
    "order = np.argsort(Xtr[indices].flatten())\n",
    "sorted_indices = indices[order]\n",
    "sorted_X = Xtr[sorted_indices]\n",
    "sorted_Y = Ytr[sorted_indices]\n",
    "sorted_E = Etr[sorted_indices]\n",
    "\n",
    "# 2. Precompute per-env prefix sums & prefix squared-sums\n",
    "N = len(sorted_indices)\n",
    "n_envs = len(unique_envs)\n",
    "env_idx = np.arange(n_envs)[:, None]\n",
    "mask_mat = (sorted_E[None, :] == env_idx)\n",
    "\n",
    "prefix_count_mat = np.concatenate(\n",
    "    [np.zeros((n_envs,1),int), np.cumsum(mask_mat, axis=1)], axis=1\n",
    ")\n",
    "\n",
    "Y_mat = sorted_Y[None, :] * mask_mat\n",
    "prefix_sum_mat = np.concatenate(\n",
    "    [np.zeros((n_envs,1)), np.cumsum(Y_mat, axis=1)], axis=1\n",
    ")\n",
    "prefix_sq_mat = np.concatenate(\n",
    "    [np.zeros((n_envs,1)), np.cumsum((Y_mat * sorted_Y[None,:]), axis=1)], axis=1\n",
    ")\n",
    "\n",
    "suffix_count_mat = np.zeros((n_envs, N + 1))\n",
    "suffix_sum_mat = np.zeros((n_envs, N + 1))\n",
    "suffix_sq_mat = np.zeros((n_envs, N + 1))\n",
    "\n",
    "for e in range(n_envs):\n",
    "    suffix_count_mat[e, N] = 0\n",
    "    suffix_sum_mat[e, N] = 0.0\n",
    "    suffix_sq_mat[e, N] = 0.0\n",
    "\n",
    "for j in range(N - 1, -1, -1):\n",
    "    for e in range(n_envs):\n",
    "        m = 1 if sorted_E[j] == e else 0\n",
    "        suffix_count_mat[e, j] = suffix_count_mat[e, j + 1] + m\n",
    "        suffix_sum_mat[e, j] = suffix_sum_mat[e, j + 1] + m * sorted_Y[j]\n",
    "        suffix_sq_mat[e, j] = suffix_sq_mat[e, j + 1] + m * (sorted_Y[j] ** 2)\n",
    "\n",
    "total_count = np.zeros(n_envs)\n",
    "for e in range(n_envs):\n",
    "    total_count[e] = np.sum(Etr[all_idx] == e)\n",
    "\n",
    "# 4. Precompute \"remaining\" loss per env (here remaining = none if all_idx used)\n",
    "diff = Counter(all_idx) - Counter(indices)\n",
    "remaining = np.array(list(diff.elements()), dtype=np.intc)\n",
    "rem_loss_vec = np.zeros(n_envs)\n",
    "if remaining.size > 0:\n",
    "    mask_rem = (Etr[remaining][None, :] == env_idx)\n",
    "    Y_rem    = Ytr[remaining][None, :] * mask_rem\n",
    "    P_rem    = best_preds[remaining][None, :] * mask_rem\n",
    "    errs_sq  = (Y_rem - P_rem) ** 2\n",
    "    rem_loss_vec = errs_sq.sum(axis=1)\n",
    "\n",
    "# 6. Loop over splits, update parameters, solve\n",
    "best_score = np.inf\n",
    "best_split = None\n",
    "best_vals  = None\n",
    "\n",
    "@njit\n",
    "def compute_max_prop_balance(prefix_count, suffix_count, total_count, i):\n",
    "    K = prefix_count.shape[0]\n",
    "    max_left_prop = 0.0\n",
    "    max_right_prop = 0.0\n",
    "\n",
    "    for e in range(K):\n",
    "        total = total_count[e]\n",
    "        if total > 0:\n",
    "            left_prop = prefix_count[e, i] / total\n",
    "            right_prop = suffix_count[e, i] / total\n",
    "\n",
    "            if left_prop > max_left_prop:\n",
    "                max_left_prop = left_prop\n",
    "\n",
    "            if right_prop > max_right_prop:\n",
    "                max_right_prop = right_prop\n",
    "\n",
    "    return abs(max_left_prop - max_right_prop)\n",
    "\n",
    "def best_lam_pairs(lam):\n",
    "    denL = (lam * n_ei_L + (1 - lam) * n_ej_L)\n",
    "    if denL > 0:\n",
    "        cL = (lam * n_ei_L * mu_ei_L + (1 - lam) * n_ej_L * mu_ej_L) / denL\n",
    "    else:\n",
    "        cL = 0\n",
    "    denR = (lam * n_ei_R + (1 - lam) * n_ej_R)\n",
    "    if denR:\n",
    "        cR = (lam * n_ei_R * mu_ei_R + (1 - lam) * n_ej_R * mu_ej_R) / denR\n",
    "    else:\n",
    "        cR = 0\n",
    "\n",
    "    fi = 1/n_ei * (sum_sq_ei + n_ei_L * cL ** 2 - 2 * n_ei_L * cL * mu_ei_L +\n",
    "                   n_ei_R * cR ** 2 - 2 * n_ei_R * cR * mu_ei_R + K_ei)\n",
    "\n",
    "    fj = 1/n_ej * (sum_sq_ej + n_ej_L * cL ** 2 - 2 * n_ej_L * cL * mu_ej_L +\n",
    "                   n_ej_R * cR ** 2 - 2 * n_ej_R * cR * mu_ej_R + K_ej)\n",
    "\n",
    "    return fi - fj\n",
    "\n",
    "def best_lam_triplets(lam):\n",
    "    li, lj = lam\n",
    "    lk = 1 - li - lj\n",
    "\n",
    "    denL = li * n_ei_L + lj * n_ej_L + lk * n_ek_L\n",
    "    if denL > 0:\n",
    "        cL = (li * n_ei_L * mu_ei_L + lj * n_ej_L * mu_ej_L + lk * n_ek_L * mu_ek_L) / denL\n",
    "    else:\n",
    "        cL = 0\n",
    "    denR = li * n_ei_R + lj * n_ej_R + lk * n_ek_R\n",
    "    if denR > 0:\n",
    "        cR = (li * n_ei_R * mu_ei_R + lj * n_ej_R * mu_ej_R + lk * n_ek_R * mu_ek_R) / denR\n",
    "    else:\n",
    "        cR = 0\n",
    "\n",
    "    fi = 1/n_ei * (sum_sq_ei + n_ei_L * cL ** 2 - 2 * n_ei_L * cL * mu_ei_L +\n",
    "                   n_ei_R * cR ** 2 - 2 * n_ei_R * cR * mu_ei_R + K_ei)\n",
    "    fj = 1/n_ej * (sum_sq_ej + n_ej_L * cL ** 2 - 2 * n_ej_L * cL * mu_ej_L +\n",
    "                   n_ej_R * cR ** 2 - 2 * n_ej_R * cR * mu_ej_R + K_ej)\n",
    "    fk = 1/n_ek * (sum_sq_ek + n_ek_L * cL ** 2 - 2 * n_ek_L * cL * mu_ek_L +\n",
    "                   n_ek_R * cR ** 2 - 2 * n_ek_R * cR * mu_ek_R + K_ek)\n",
    "\n",
    "    return [fi - fj, fj - fk]\n",
    "\n",
    "for i in range(1, N):\n",
    "#for i in [371]:\n",
    "    max_diff = compute_max_prop_balance(\n",
    "        prefix_count_mat, suffix_count_mat, total_count, i\n",
    "    )\n",
    "\n",
    "    best_t_it = np.inf\n",
    "    best_vals_it = None\n",
    "\n",
    "    env_stats = []\n",
    "    for e in range(n_envs):\n",
    "        n_e = total_count[e]\n",
    "        n_e_L = prefix_count_mat[e, i]\n",
    "        n_e_R = suffix_count_mat[e, i]\n",
    "        sum_e_L = prefix_sum_mat[e, i]\n",
    "        sum_e_R = suffix_sum_mat[e, i]\n",
    "        mu_e_L = sum_e_L / n_e_L if n_e_L > 0 else 0.0\n",
    "        mu_e_R = sum_e_R / n_e_R if n_e_R > 0 else 0.0\n",
    "        sum_sq_e = prefix_sq_mat[e, i] + suffix_sq_mat[e, i]\n",
    "        K_e = rem_loss_vec[e]\n",
    "\n",
    "        env_stats.append((n_e, n_e_L, n_e_R, mu_e_L, mu_e_R, sum_sq_e, K_e))\n",
    "\n",
    "    # Singletons\n",
    "    min_t = np.inf\n",
    "    best_vals_singletons = None\n",
    "    #print('...............')\n",
    "    for ei in range(n_envs):\n",
    "        n_ei, n_ei_L, n_ei_R, mu_ei_L, mu_ei_R, sum_sq_ei, K_ei = env_stats[ei]\n",
    "        cL = mu_ei_L\n",
    "        cR = mu_ei_R\n",
    "        fi = 1/n_ei * (sum_sq_ei + n_ei_L * cL ** 2 - 2 * n_ei_L * cL * mu_ei_L + n_ei_R * cR ** 2 - 2 * n_ei_R * cR * mu_ei_R + K_ei)\n",
    "        #print(ei, fi)\n",
    "        valid = True\n",
    "        for ek in range(n_envs):\n",
    "            if ek != ei:\n",
    "                n_ek, n_ek_L, n_ek_R, mu_ek_L, mu_ek_R, sum_sq_ek, K_ek = env_stats[ek]\n",
    "                fk = 1/n_ek * (sum_sq_ek + n_ek_L * cL ** 2 - 2 * n_ek_L * cL * mu_ek_L +\n",
    "                               n_ek_R * cR ** 2 - 2 * n_ek_R * cR * mu_ek_R + K_ek)\n",
    "                #print(fk)\n",
    "                if fk > fi:\n",
    "                    valid = False\n",
    "                    break\n",
    "\n",
    "        if valid and fi < min_t:\n",
    "            min_t = fi\n",
    "            best_vals_singletons = [cL, cR]\n",
    "    if min_t < best_t_it:\n",
    "        best_t_it = min_t\n",
    "        best_vals_it = best_vals_singletons\n",
    "    #print('Best t singletons:', min_t)\n",
    "    #print('Best values singletons:', best_vals_singletons)\n",
    "    #print('...............')\n",
    "\n",
    "    # Pairs\n",
    "    if n_envs >= 2:\n",
    "        min_t = np.inf\n",
    "        best_vals_pairs = None\n",
    "        for ei in range(n_envs):\n",
    "            n_ei, n_ei_L, n_ei_R, mu_ei_L, mu_ei_R, sum_sq_ei, K_ei = env_stats[ei]\n",
    "            for ej in range(ei+1, n_envs):\n",
    "                n_ej, n_ej_L, n_ej_R, mu_ej_L, mu_ej_R, sum_sq_ej, K_ej = env_stats[ej]\n",
    "\n",
    "                fa = best_lam_pairs(0)\n",
    "                fb = best_lam_pairs(1)\n",
    "                if fa * fb < 0:\n",
    "                    l = optimize.root_scalar(best_lam_pairs, bracket=[0, 1], method='brentq').root\n",
    "\n",
    "                    denL = l * n_ei_L + (1 - l) * n_ej_L\n",
    "                    cL = (l * n_ei_L * mu_ei_L + (1 - l) * n_ej_L * mu_ej_L) / denL if denL > 0 else 0\n",
    "\n",
    "                    denR = l * n_ei_R + (1 - l) * n_ej_R\n",
    "                    cR = (l * n_ei_R * mu_ei_R + (1 - l) * n_ej_R * mu_ej_R) / denR if denR > 0 else 0\n",
    "\n",
    "                    fi = 1/n_ei * (sum_sq_ei + n_ei_L * cL ** 2 - 2 * n_ei_L * cL * mu_ei_L +\n",
    "                                   n_ei_R * cR ** 2 - 2 * n_ei_R * cR * mu_ei_R + K_ei)\n",
    "\n",
    "                    #print(ei, ej, fi)\n",
    "\n",
    "                    valid = True\n",
    "                    for ek in range(n_envs):\n",
    "                        if ek != ei and ek != ej:\n",
    "                            n_ek, n_ek_L, n_ek_R, mu_ek_L, mu_ek_R, sum_sq_ek, K_ek = env_stats[ek]\n",
    "\n",
    "                            fk = 1/n_ek * (sum_sq_ek + n_ek_L * cL ** 2 - 2 * n_ek_L * cL * mu_ek_L +\n",
    "                                           n_ek_R * cR ** 2 - 2 * n_ek_R * cR * mu_ek_R + K_ek)\n",
    "                            #print(fk)\n",
    "                            if fk > fi:\n",
    "                                valid = False\n",
    "                                break\n",
    "                    if valid and fi < min_t:\n",
    "                        min_t = fi\n",
    "                        best_vals_pairs = [cL, cR]\n",
    "        if min_t < best_t_it:\n",
    "            best_t_it = min_t\n",
    "            best_vals_it = best_vals_pairs\n",
    "        #print('Best t pairs:', min_t)\n",
    "        #print('Best values pairs:', best_vals_pairs)\n",
    "        #print('...............')\n",
    "\n",
    "    # Triplets\n",
    "    if n_envs >= 3:\n",
    "        min_t = np.inf\n",
    "        best_vals_triplets = None\n",
    "        for ei in range(n_envs):\n",
    "            n_ei, n_ei_L, n_ei_R, mu_ei_L, mu_ei_R, sum_sq_ei, K_ei = env_stats[ei]\n",
    "            for ej in range(ei+1, n_envs):\n",
    "                n_ej, n_ej_L, n_ej_R, mu_ej_L, mu_ej_R, sum_sq_ej, K_ej = env_stats[ej]\n",
    "                for ek in range(ej+1, n_envs):\n",
    "                    n_ek, n_ek_L, n_ek_R, mu_ek_L, mu_ek_R, sum_sq_ek, K_ek = env_stats[ek]\n",
    "\n",
    "                    init = np.array([1/3, 1/3])\n",
    "\n",
    "                    sol = root(best_lam_triplets, init, method='lm')\n",
    "                    if sol.success:\n",
    "                        li, lj = sol.x\n",
    "                        lk = 1 - li - lj\n",
    "\n",
    "                        denL = li * n_ei_L + lj * n_ej_L + lk * n_ek_L\n",
    "                        cL = (li * n_ei_L * mu_ei_L + lj * n_ej_L * mu_ej_L + lk * n_ek_L * mu_ek_L) / denL if denL > 0 else 0\n",
    "\n",
    "                        denR = li * n_ei_R + lj * n_ej_R + lk * n_ek_R\n",
    "                        cR = (li * n_ei_R * mu_ei_R + lj * n_ej_R * mu_ej_R + lk * n_ek_R * mu_ek_R) / denR if denR > 0 else 0\n",
    "\n",
    "                        fi = 1/n_ei * (sum_sq_ei + n_ei_L * cL ** 2 - 2 * n_ei_L * cL * mu_ei_L +\n",
    "                                       n_ei_R * cR ** 2 - 2 * n_ei_R * cR * mu_ei_R + K_ei)\n",
    "                        fj = 1/n_ej * (sum_sq_ej + n_ej_L * cL ** 2 - 2 * n_ej_L * cL * mu_ej_L +\n",
    "                                       n_ej_R * cR ** 2 - 2 * n_ej_R * cR * mu_ej_R + K_ej)\n",
    "                        fk = 1/n_ek * (sum_sq_ek + n_ek_L * cL ** 2 - 2 * n_ek_L * cL * mu_ek_L +\n",
    "                                       n_ek_R * cR ** 2 - 2 * n_ek_R * cR * mu_ek_R + K_ek)\n",
    "\n",
    "                        f_values = [fi, fj, fk]\n",
    "                        max_f = fi\n",
    "                        for h in range(3):\n",
    "                            if f_values[h] > max_f:\n",
    "                                max_f = f_values[h]\n",
    "\n",
    "                        #print(ei, ej, ek, fi, fj, fk)\n",
    "\n",
    "                        valid = True\n",
    "                        for eh in range(n_envs):\n",
    "                            if eh != ei and eh != ej and eh != ek:\n",
    "                                n_eh, n_eh_L, n_eh_R, mu_eh_L, mu_eh_R, sum_sq_eh, K_eh = env_stats[eh]\n",
    "                                fh = 1/n_eh * (sum_sq_eh + n_eh_L * cL ** 2 - 2 * n_eh_L * cL * mu_eh_L +\n",
    "                                               n_eh_R * cR ** 2 - 2 * n_eh_R * cR * mu_eh_R + K_eh)\n",
    "                                #print(fh)\n",
    "                                if fh > max_f:\n",
    "                                    valid = False\n",
    "                                    break\n",
    "\n",
    "                        if valid and max_f < min_t:\n",
    "                            min_t = max_f\n",
    "                            best_vals_triplets = [cL, cR]\n",
    "        if min_t < best_t_it:\n",
    "            best_t_it = min_t\n",
    "            best_vals_it = best_vals_triplets\n",
    "        #print('Best t triplets:', min_t)\n",
    "        #print('Best values triplets:', best_vals_triplets)\n",
    "        #print('...............')\n",
    "\n",
    "    score = best_t_it + alpha * max_diff\n",
    "\n",
    "    if score < best_score:\n",
    "        best_score = score\n",
    "        best_split = i\n",
    "        best_vals  = best_vals_it"
   ],
   "id": "89b8ca6ac6b2d88e",
   "outputs": [],
   "execution_count": 76
  },
  {
   "metadata": {
    "ExecuteTime": {
     "end_time": "2025-04-25T10:18:35.177285Z",
     "start_time": "2025-04-25T10:18:35.166271Z"
    }
   },
   "cell_type": "code",
   "source": "best_score",
   "id": "b39dcf967a31bd33",
   "outputs": [
    {
     "data": {
      "text/plain": [
       "np.float64(23.865290147840547)"
      ]
     },
     "execution_count": 77,
     "metadata": {},
     "output_type": "execute_result"
    }
   ],
   "execution_count": 77
  },
  {
   "metadata": {
    "ExecuteTime": {
     "end_time": "2025-04-25T10:16:06.999974Z",
     "start_time": "2025-04-25T10:16:06.987961Z"
    }
   },
   "cell_type": "code",
   "source": "best_vals",
   "id": "967cfe5a4a1784a0",
   "outputs": [
    {
     "data": {
      "text/plain": [
       "[np.float64(0.6783655413461), np.float64(1.0696434267365649)]"
      ]
     },
     "execution_count": 71,
     "metadata": {},
     "output_type": "execute_result"
    }
   ],
   "execution_count": 71
  },
  {
   "metadata": {
    "ExecuteTime": {
     "end_time": "2025-04-25T10:16:08.736472Z",
     "start_time": "2025-04-25T10:16:08.721463Z"
    }
   },
   "cell_type": "code",
   "source": "best_split",
   "id": "133093571201cfb7",
   "outputs": [
    {
     "data": {
      "text/plain": [
       "371"
      ]
     },
     "execution_count": 72,
     "metadata": {},
     "output_type": "execute_result"
    }
   ],
   "execution_count": 72
  }
 ],
 "metadata": {
  "kernelspec": {
   "display_name": "Python 3",
   "language": "python",
   "name": "python3"
  },
  "language_info": {
   "codemirror_mode": {
    "name": "ipython",
    "version": 2
   },
   "file_extension": ".py",
   "mimetype": "text/x-python",
   "name": "python",
   "nbconvert_exporter": "python",
   "pygments_lexer": "ipython2",
   "version": "2.7.6"
  }
 },
 "nbformat": 4,
 "nbformat_minor": 5
}
