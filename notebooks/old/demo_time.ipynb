{
 "cells": [
  {
   "cell_type": "markdown",
   "source": [
    "## Invariant Subspace Decomposition"
   ],
   "metadata": {
    "collapsed": false
   },
   "id": "51af2f7cc071c51"
  },
  {
   "cell_type": "code",
   "outputs": [],
   "source": [
    "import numpy as np\n",
    "import pandas as pd\n",
    "\n",
    "from sklearn.ensemble import RandomForestRegressor\n",
    "from sklearn.metrics import r2_score, mean_squared_error\n",
    "\n",
    "from nldg.old.time.utils import generate_nonlinear_data\n",
    "from nldg.old.time.isd import IsdRF, IsdRF2\n",
    "\n",
    "from scipy.linalg import block_diag\n",
    "from scipy.stats import ortho_group\n",
    "\n",
    "import matplotlib.pyplot as plt"
   ],
   "metadata": {
    "collapsed": false,
    "ExecuteTime": {
     "end_time": "2025-03-04T15:16:15.524936Z",
     "start_time": "2025-03-04T15:16:15.510419Z"
    }
   },
   "id": "6439304678d311b7",
   "execution_count": 72
  },
  {
   "cell_type": "code",
   "outputs": [],
   "source": [
    "n_train = 1000\n",
    "n_test = 250\n",
    "# p = 10\n",
    "p = 10\n",
    "m_train = 10\n",
    "m_test = 1\n",
    "# block_sizes = [2, 2, 2]\n",
    "block_sizes = [2, 4, 3, 1]\n",
    "# c_coeffs = [0, 1, 2]\n",
    "c_coeffs = list(range(2, 9))\n",
    "rng = np.random.default_rng(2001)\n",
    "OM = ortho_group.rvs(dim=p, random_state=rng)\n",
    "rng = np.random.default_rng(42)\n",
    "\n",
    "Xtr, Ytr, Sigma_list_tr = generate_nonlinear_data(n_train, p, m_train, block_sizes,\n",
    "                                                  c_coeffs, OM, rng)\n",
    "Xts, Yts, Sigma_list_ts = generate_nonlinear_data(n_test, p, m_test, block_sizes,\n",
    "                                                  c_coeffs, OM, rng, test=True)"
   ],
   "metadata": {
    "collapsed": false,
    "ExecuteTime": {
     "end_time": "2025-03-04T15:21:20.205406Z",
     "start_time": "2025-03-04T15:21:20.174845Z"
    }
   },
   "id": "64382f1a25a2c86b",
   "execution_count": 91
  },
  {
   "cell_type": "code",
   "outputs": [],
   "source": [
    "ws = int(n_train/8)\n",
    "n_rw = 25\n",
    "isd = IsdRF2(Xtr, Ytr, [ws]*n_rw)\n",
    "isd.find_invariant()"
   ],
   "metadata": {
    "collapsed": false,
    "ExecuteTime": {
     "end_time": "2025-03-04T15:28:08.247647Z",
     "start_time": "2025-03-04T15:21:22.351307Z"
    }
   },
   "id": "1d3a03dd345bae9a",
   "execution_count": 92
  },
  {
   "cell_type": "code",
   "outputs": [],
   "source": [
    "preds_isd_rf = isd.predict_zeroshot(Xts)"
   ],
   "metadata": {
    "collapsed": false,
    "ExecuteTime": {
     "end_time": "2025-03-04T15:30:16.010970Z",
     "start_time": "2025-03-04T15:30:15.997444Z"
    }
   },
   "id": "3f23dac29b32a770",
   "execution_count": 93
  },
  {
   "cell_type": "code",
   "outputs": [],
   "source": [
    "rf = RandomForestRegressor(n_estimators=50, random_state=42, max_features=1.0)\n",
    "rf.fit(Xtr, Ytr)\n",
    "preds_rf = rf.predict(Xts)"
   ],
   "metadata": {
    "collapsed": false,
    "ExecuteTime": {
     "end_time": "2025-03-04T15:30:18.998066Z",
     "start_time": "2025-03-04T15:30:17.474291Z"
    }
   },
   "id": "8ea400935287d31a",
   "execution_count": 94
  },
  {
   "cell_type": "code",
   "outputs": [
    {
     "data": {
      "text/plain": "(7.747453297249812, -0.6313269022665668)"
     },
     "execution_count": 95,
     "metadata": {},
     "output_type": "execute_result"
    }
   ],
   "source": [
    "mean_squared_error(Yts, preds_isd_rf), r2_score(Yts, preds_isd_rf)"
   ],
   "metadata": {
    "collapsed": false,
    "ExecuteTime": {
     "end_time": "2025-03-04T15:30:19.466774Z",
     "start_time": "2025-03-04T15:30:19.452701Z"
    }
   },
   "id": "d81f0b84d4d72a2f",
   "execution_count": 95
  },
  {
   "cell_type": "code",
   "outputs": [
    {
     "data": {
      "text/plain": "(9.271796426698117, -0.9522971437053833)"
     },
     "execution_count": 96,
     "metadata": {},
     "output_type": "execute_result"
    }
   ],
   "source": [
    "mean_squared_error(Yts, preds_rf), r2_score(Yts, preds_rf)"
   ],
   "metadata": {
    "collapsed": false,
    "ExecuteTime": {
     "end_time": "2025-03-04T15:30:21.290505Z",
     "start_time": "2025-03-04T15:30:21.269553Z"
    }
   },
   "id": "2f839109dfbcb8ba",
   "execution_count": 96
  },
  {
   "cell_type": "code",
   "outputs": [
    {
     "data": {
      "text/plain": "np.float64(0.44220737292871554)"
     },
     "execution_count": 97,
     "metadata": {},
     "output_type": "execute_result"
    }
   ],
   "source": [
    "isd.th_opt"
   ],
   "metadata": {
    "collapsed": false,
    "ExecuteTime": {
     "end_time": "2025-03-04T15:30:23.019133Z",
     "start_time": "2025-03-04T15:30:23.011614Z"
    }
   },
   "id": "a11843c886421d00",
   "execution_count": 97
  },
  {
   "cell_type": "code",
   "outputs": [
    {
     "data": {
      "text/plain": "(array([ True, False,  True, False, False]), [0, 1, 2, 4], [3, 5, 6, 7, 8, 9])"
     },
     "execution_count": 98,
     "metadata": {},
     "output_type": "execute_result"
    }
   ],
   "source": [
    "isd.check_const(isd.blocks_shape, isd.th_const, isd.th_opt)"
   ],
   "metadata": {
    "collapsed": false,
    "ExecuteTime": {
     "end_time": "2025-03-04T15:30:25.545396Z",
     "start_time": "2025-03-04T15:30:25.534877Z"
    }
   },
   "id": "ef8a7abb030faab4",
   "execution_count": 98
  },
  {
   "cell_type": "code",
   "outputs": [],
   "source": [
    "from nldg.utils.jbd import jbd, ajbd\n",
    "ws = int(n_train/8)\n",
    "n_rw = 25\n",
    "Sigma = np.zeros((n_rw, p, p))\n",
    "w = [ws]*n_rw\n",
    "w_st = np.linspace(0, n_train-w[-1], num=n_rw, endpoint=True, dtype=int)\n",
    "for idx, win in enumerate(w):\n",
    "    X_w = Xtr[w_st[idx]:w_st[idx]+win, :]\n",
    "    Sigma[idx, :, :] = np.cov(X_w, rowvar=False)\n",
    "U, blocks_shape, Sigma_diag, _, _ = ajbd(Sigma)\n",
    "blocks_shape"
   ],
   "metadata": {
    "collapsed": false,
    "ExecuteTime": {
     "end_time": "2025-03-04T15:18:42.689916Z",
     "start_time": "2025-03-04T15:18:42.094114Z"
    }
   },
   "id": "2eb753e248de0b49",
   "execution_count": 87
  },
  {
   "cell_type": "code",
   "outputs": [
    {
     "data": {
      "text/plain": "RandomForestRegressor(n_estimators=50, random_state=42)",
      "text/html": "<style>#sk-container-id-4 {\n  /* Definition of color scheme common for light and dark mode */\n  --sklearn-color-text: #000;\n  --sklearn-color-text-muted: #666;\n  --sklearn-color-line: gray;\n  /* Definition of color scheme for unfitted estimators */\n  --sklearn-color-unfitted-level-0: #fff5e6;\n  --sklearn-color-unfitted-level-1: #f6e4d2;\n  --sklearn-color-unfitted-level-2: #ffe0b3;\n  --sklearn-color-unfitted-level-3: chocolate;\n  /* Definition of color scheme for fitted estimators */\n  --sklearn-color-fitted-level-0: #f0f8ff;\n  --sklearn-color-fitted-level-1: #d4ebff;\n  --sklearn-color-fitted-level-2: #b3dbfd;\n  --sklearn-color-fitted-level-3: cornflowerblue;\n\n  /* Specific color for light theme */\n  --sklearn-color-text-on-default-background: var(--sg-text-color, var(--theme-code-foreground, var(--jp-content-font-color1, black)));\n  --sklearn-color-background: var(--sg-background-color, var(--theme-background, var(--jp-layout-color0, white)));\n  --sklearn-color-border-box: var(--sg-text-color, var(--theme-code-foreground, var(--jp-content-font-color1, black)));\n  --sklearn-color-icon: #696969;\n\n  @media (prefers-color-scheme: dark) {\n    /* Redefinition of color scheme for dark theme */\n    --sklearn-color-text-on-default-background: var(--sg-text-color, var(--theme-code-foreground, var(--jp-content-font-color1, white)));\n    --sklearn-color-background: var(--sg-background-color, var(--theme-background, var(--jp-layout-color0, #111)));\n    --sklearn-color-border-box: var(--sg-text-color, var(--theme-code-foreground, var(--jp-content-font-color1, white)));\n    --sklearn-color-icon: #878787;\n  }\n}\n\n#sk-container-id-4 {\n  color: var(--sklearn-color-text);\n}\n\n#sk-container-id-4 pre {\n  padding: 0;\n}\n\n#sk-container-id-4 input.sk-hidden--visually {\n  border: 0;\n  clip: rect(1px 1px 1px 1px);\n  clip: rect(1px, 1px, 1px, 1px);\n  height: 1px;\n  margin: -1px;\n  overflow: hidden;\n  padding: 0;\n  position: absolute;\n  width: 1px;\n}\n\n#sk-container-id-4 div.sk-dashed-wrapped {\n  border: 1px dashed var(--sklearn-color-line);\n  margin: 0 0.4em 0.5em 0.4em;\n  box-sizing: border-box;\n  padding-bottom: 0.4em;\n  background-color: var(--sklearn-color-background);\n}\n\n#sk-container-id-4 div.sk-container {\n  /* jupyter's `normalize.less` sets `[hidden] { display: none; }`\n     but bootstrap.min.css set `[hidden] { display: none !important; }`\n     so we also need the `!important` here to be able to override the\n     default hidden behavior on the sphinx rendered scikit-learn.org.\n     See: https://github.com/scikit-learn/scikit-learn/issues/21755 */\n  display: inline-block !important;\n  position: relative;\n}\n\n#sk-container-id-4 div.sk-text-repr-fallback {\n  display: none;\n}\n\ndiv.sk-parallel-item,\ndiv.sk-serial,\ndiv.sk-item {\n  /* draw centered vertical line to link estimators */\n  background-image: linear-gradient(var(--sklearn-color-text-on-default-background), var(--sklearn-color-text-on-default-background));\n  background-size: 2px 100%;\n  background-repeat: no-repeat;\n  background-position: center center;\n}\n\n/* Parallel-specific style estimator block */\n\n#sk-container-id-4 div.sk-parallel-item::after {\n  content: \"\";\n  width: 100%;\n  border-bottom: 2px solid var(--sklearn-color-text-on-default-background);\n  flex-grow: 1;\n}\n\n#sk-container-id-4 div.sk-parallel {\n  display: flex;\n  align-items: stretch;\n  justify-content: center;\n  background-color: var(--sklearn-color-background);\n  position: relative;\n}\n\n#sk-container-id-4 div.sk-parallel-item {\n  display: flex;\n  flex-direction: column;\n}\n\n#sk-container-id-4 div.sk-parallel-item:first-child::after {\n  align-self: flex-end;\n  width: 50%;\n}\n\n#sk-container-id-4 div.sk-parallel-item:last-child::after {\n  align-self: flex-start;\n  width: 50%;\n}\n\n#sk-container-id-4 div.sk-parallel-item:only-child::after {\n  width: 0;\n}\n\n/* Serial-specific style estimator block */\n\n#sk-container-id-4 div.sk-serial {\n  display: flex;\n  flex-direction: column;\n  align-items: center;\n  background-color: var(--sklearn-color-background);\n  padding-right: 1em;\n  padding-left: 1em;\n}\n\n\n/* Toggleable style: style used for estimator/Pipeline/ColumnTransformer box that is\nclickable and can be expanded/collapsed.\n- Pipeline and ColumnTransformer use this feature and define the default style\n- Estimators will overwrite some part of the style using the `sk-estimator` class\n*/\n\n/* Pipeline and ColumnTransformer style (default) */\n\n#sk-container-id-4 div.sk-toggleable {\n  /* Default theme specific background. It is overwritten whether we have a\n  specific estimator or a Pipeline/ColumnTransformer */\n  background-color: var(--sklearn-color-background);\n}\n\n/* Toggleable label */\n#sk-container-id-4 label.sk-toggleable__label {\n  cursor: pointer;\n  display: flex;\n  width: 100%;\n  margin-bottom: 0;\n  padding: 0.5em;\n  box-sizing: border-box;\n  text-align: center;\n  align-items: start;\n  justify-content: space-between;\n  gap: 0.5em;\n}\n\n#sk-container-id-4 label.sk-toggleable__label .caption {\n  font-size: 0.6rem;\n  font-weight: lighter;\n  color: var(--sklearn-color-text-muted);\n}\n\n#sk-container-id-4 label.sk-toggleable__label-arrow:before {\n  /* Arrow on the left of the label */\n  content: \"▸\";\n  float: left;\n  margin-right: 0.25em;\n  color: var(--sklearn-color-icon);\n}\n\n#sk-container-id-4 label.sk-toggleable__label-arrow:hover:before {\n  color: var(--sklearn-color-text);\n}\n\n/* Toggleable content - dropdown */\n\n#sk-container-id-4 div.sk-toggleable__content {\n  max-height: 0;\n  max-width: 0;\n  overflow: hidden;\n  text-align: left;\n  /* unfitted */\n  background-color: var(--sklearn-color-unfitted-level-0);\n}\n\n#sk-container-id-4 div.sk-toggleable__content.fitted {\n  /* fitted */\n  background-color: var(--sklearn-color-fitted-level-0);\n}\n\n#sk-container-id-4 div.sk-toggleable__content pre {\n  margin: 0.2em;\n  border-radius: 0.25em;\n  color: var(--sklearn-color-text);\n  /* unfitted */\n  background-color: var(--sklearn-color-unfitted-level-0);\n}\n\n#sk-container-id-4 div.sk-toggleable__content.fitted pre {\n  /* unfitted */\n  background-color: var(--sklearn-color-fitted-level-0);\n}\n\n#sk-container-id-4 input.sk-toggleable__control:checked~div.sk-toggleable__content {\n  /* Expand drop-down */\n  max-height: 200px;\n  max-width: 100%;\n  overflow: auto;\n}\n\n#sk-container-id-4 input.sk-toggleable__control:checked~label.sk-toggleable__label-arrow:before {\n  content: \"▾\";\n}\n\n/* Pipeline/ColumnTransformer-specific style */\n\n#sk-container-id-4 div.sk-label input.sk-toggleable__control:checked~label.sk-toggleable__label {\n  color: var(--sklearn-color-text);\n  background-color: var(--sklearn-color-unfitted-level-2);\n}\n\n#sk-container-id-4 div.sk-label.fitted input.sk-toggleable__control:checked~label.sk-toggleable__label {\n  background-color: var(--sklearn-color-fitted-level-2);\n}\n\n/* Estimator-specific style */\n\n/* Colorize estimator box */\n#sk-container-id-4 div.sk-estimator input.sk-toggleable__control:checked~label.sk-toggleable__label {\n  /* unfitted */\n  background-color: var(--sklearn-color-unfitted-level-2);\n}\n\n#sk-container-id-4 div.sk-estimator.fitted input.sk-toggleable__control:checked~label.sk-toggleable__label {\n  /* fitted */\n  background-color: var(--sklearn-color-fitted-level-2);\n}\n\n#sk-container-id-4 div.sk-label label.sk-toggleable__label,\n#sk-container-id-4 div.sk-label label {\n  /* The background is the default theme color */\n  color: var(--sklearn-color-text-on-default-background);\n}\n\n/* On hover, darken the color of the background */\n#sk-container-id-4 div.sk-label:hover label.sk-toggleable__label {\n  color: var(--sklearn-color-text);\n  background-color: var(--sklearn-color-unfitted-level-2);\n}\n\n/* Label box, darken color on hover, fitted */\n#sk-container-id-4 div.sk-label.fitted:hover label.sk-toggleable__label.fitted {\n  color: var(--sklearn-color-text);\n  background-color: var(--sklearn-color-fitted-level-2);\n}\n\n/* Estimator label */\n\n#sk-container-id-4 div.sk-label label {\n  font-family: monospace;\n  font-weight: bold;\n  display: inline-block;\n  line-height: 1.2em;\n}\n\n#sk-container-id-4 div.sk-label-container {\n  text-align: center;\n}\n\n/* Estimator-specific */\n#sk-container-id-4 div.sk-estimator {\n  font-family: monospace;\n  border: 1px dotted var(--sklearn-color-border-box);\n  border-radius: 0.25em;\n  box-sizing: border-box;\n  margin-bottom: 0.5em;\n  /* unfitted */\n  background-color: var(--sklearn-color-unfitted-level-0);\n}\n\n#sk-container-id-4 div.sk-estimator.fitted {\n  /* fitted */\n  background-color: var(--sklearn-color-fitted-level-0);\n}\n\n/* on hover */\n#sk-container-id-4 div.sk-estimator:hover {\n  /* unfitted */\n  background-color: var(--sklearn-color-unfitted-level-2);\n}\n\n#sk-container-id-4 div.sk-estimator.fitted:hover {\n  /* fitted */\n  background-color: var(--sklearn-color-fitted-level-2);\n}\n\n/* Specification for estimator info (e.g. \"i\" and \"?\") */\n\n/* Common style for \"i\" and \"?\" */\n\n.sk-estimator-doc-link,\na:link.sk-estimator-doc-link,\na:visited.sk-estimator-doc-link {\n  float: right;\n  font-size: smaller;\n  line-height: 1em;\n  font-family: monospace;\n  background-color: var(--sklearn-color-background);\n  border-radius: 1em;\n  height: 1em;\n  width: 1em;\n  text-decoration: none !important;\n  margin-left: 0.5em;\n  text-align: center;\n  /* unfitted */\n  border: var(--sklearn-color-unfitted-level-1) 1pt solid;\n  color: var(--sklearn-color-unfitted-level-1);\n}\n\n.sk-estimator-doc-link.fitted,\na:link.sk-estimator-doc-link.fitted,\na:visited.sk-estimator-doc-link.fitted {\n  /* fitted */\n  border: var(--sklearn-color-fitted-level-1) 1pt solid;\n  color: var(--sklearn-color-fitted-level-1);\n}\n\n/* On hover */\ndiv.sk-estimator:hover .sk-estimator-doc-link:hover,\n.sk-estimator-doc-link:hover,\ndiv.sk-label-container:hover .sk-estimator-doc-link:hover,\n.sk-estimator-doc-link:hover {\n  /* unfitted */\n  background-color: var(--sklearn-color-unfitted-level-3);\n  color: var(--sklearn-color-background);\n  text-decoration: none;\n}\n\ndiv.sk-estimator.fitted:hover .sk-estimator-doc-link.fitted:hover,\n.sk-estimator-doc-link.fitted:hover,\ndiv.sk-label-container:hover .sk-estimator-doc-link.fitted:hover,\n.sk-estimator-doc-link.fitted:hover {\n  /* fitted */\n  background-color: var(--sklearn-color-fitted-level-3);\n  color: var(--sklearn-color-background);\n  text-decoration: none;\n}\n\n/* Span, style for the box shown on hovering the info icon */\n.sk-estimator-doc-link span {\n  display: none;\n  z-index: 9999;\n  position: relative;\n  font-weight: normal;\n  right: .2ex;\n  padding: .5ex;\n  margin: .5ex;\n  width: min-content;\n  min-width: 20ex;\n  max-width: 50ex;\n  color: var(--sklearn-color-text);\n  box-shadow: 2pt 2pt 4pt #999;\n  /* unfitted */\n  background: var(--sklearn-color-unfitted-level-0);\n  border: .5pt solid var(--sklearn-color-unfitted-level-3);\n}\n\n.sk-estimator-doc-link.fitted span {\n  /* fitted */\n  background: var(--sklearn-color-fitted-level-0);\n  border: var(--sklearn-color-fitted-level-3);\n}\n\n.sk-estimator-doc-link:hover span {\n  display: block;\n}\n\n/* \"?\"-specific style due to the `<a>` HTML tag */\n\n#sk-container-id-4 a.estimator_doc_link {\n  float: right;\n  font-size: 1rem;\n  line-height: 1em;\n  font-family: monospace;\n  background-color: var(--sklearn-color-background);\n  border-radius: 1rem;\n  height: 1rem;\n  width: 1rem;\n  text-decoration: none;\n  /* unfitted */\n  color: var(--sklearn-color-unfitted-level-1);\n  border: var(--sklearn-color-unfitted-level-1) 1pt solid;\n}\n\n#sk-container-id-4 a.estimator_doc_link.fitted {\n  /* fitted */\n  border: var(--sklearn-color-fitted-level-1) 1pt solid;\n  color: var(--sklearn-color-fitted-level-1);\n}\n\n/* On hover */\n#sk-container-id-4 a.estimator_doc_link:hover {\n  /* unfitted */\n  background-color: var(--sklearn-color-unfitted-level-3);\n  color: var(--sklearn-color-background);\n  text-decoration: none;\n}\n\n#sk-container-id-4 a.estimator_doc_link.fitted:hover {\n  /* fitted */\n  background-color: var(--sklearn-color-fitted-level-3);\n}\n</style><div id=\"sk-container-id-4\" class=\"sk-top-container\"><div class=\"sk-text-repr-fallback\"><pre>RandomForestRegressor(n_estimators=50, random_state=42)</pre><b>In a Jupyter environment, please rerun this cell to show the HTML representation or trust the notebook. <br />On GitHub, the HTML representation is unable to render, please try loading this page with nbviewer.org.</b></div><div class=\"sk-container\" hidden><div class=\"sk-item\"><div class=\"sk-estimator fitted sk-toggleable\"><input class=\"sk-toggleable__control sk-hidden--visually\" id=\"sk-estimator-id-4\" type=\"checkbox\" checked><label for=\"sk-estimator-id-4\" class=\"sk-toggleable__label fitted sk-toggleable__label-arrow\"><div><div>RandomForestRegressor</div></div><div><a class=\"sk-estimator-doc-link fitted\" rel=\"noreferrer\" target=\"_blank\" href=\"https://scikit-learn.org/1.6/modules/generated/sklearn.ensemble.RandomForestRegressor.html\">?<span>Documentation for RandomForestRegressor</span></a><span class=\"sk-estimator-doc-link fitted\">i<span>Fitted</span></span></div></label><div class=\"sk-toggleable__content fitted\"><pre>RandomForestRegressor(n_estimators=50, random_state=42)</pre></div> </div></div></div></div>"
     },
     "execution_count": 41,
     "metadata": {},
     "output_type": "execute_result"
    }
   ],
   "source": [
    "X_inv = Xtr[:, c_coeffs]\n",
    "rfinv = RandomForestRegressor(n_estimators=50, random_state=42, max_features=1.0)\n",
    "rfinv.fit(X_inv, Ytr)"
   ],
   "metadata": {
    "collapsed": false,
    "ExecuteTime": {
     "end_time": "2025-03-04T15:01:01.973529Z",
     "start_time": "2025-03-04T15:01:00.644289Z"
    }
   },
   "id": "93611477305fd5f3",
   "execution_count": 41
  },
  {
   "cell_type": "code",
   "outputs": [],
   "source": [
    "preds_rfinv = rfinv.predict(Xts[:, c_coeffs])"
   ],
   "metadata": {
    "collapsed": false,
    "ExecuteTime": {
     "end_time": "2025-03-04T15:01:03.477163Z",
     "start_time": "2025-03-04T15:01:03.454344Z"
    }
   },
   "id": "87b52eb0942973dc",
   "execution_count": 42
  },
  {
   "cell_type": "code",
   "outputs": [
    {
     "data": {
      "text/plain": "(9.30749132146099, -0.5530379316593377)"
     },
     "execution_count": 43,
     "metadata": {},
     "output_type": "execute_result"
    }
   ],
   "source": [
    "mean_squared_error(Yts, preds_rfinv), r2_score(Yts, preds_rfinv)"
   ],
   "metadata": {
    "collapsed": false,
    "ExecuteTime": {
     "end_time": "2025-03-04T15:01:04.966790Z",
     "start_time": "2025-03-04T15:01:04.953110Z"
    }
   },
   "id": "e30513bb59feaa2d",
   "execution_count": 43
  },
  {
   "cell_type": "code",
   "outputs": [
    {
     "data": {
      "text/plain": "(11.063904149072673, -0.8461110757238763)"
     },
     "execution_count": 44,
     "metadata": {},
     "output_type": "execute_result"
    }
   ],
   "source": [
    "rf = RandomForestRegressor(n_estimators=50, random_state=42, max_features=1.0)\n",
    "rf.fit(Xtr, Ytr)\n",
    "preds_rf = rf.predict(Xts)\n",
    "mean_squared_error(Yts, preds_rf), r2_score(Yts, preds_rf)"
   ],
   "metadata": {
    "collapsed": false,
    "ExecuteTime": {
     "end_time": "2025-03-04T15:01:08.061586Z",
     "start_time": "2025-03-04T15:01:06.392095Z"
    }
   },
   "id": "31b94f2a5baabed3",
   "execution_count": 44
  },
  {
   "cell_type": "markdown",
   "source": [
    "## TEST"
   ],
   "metadata": {
    "collapsed": false
   },
   "id": "3271ebc5d9ea90b2"
  },
  {
   "cell_type": "code",
   "outputs": [
    {
     "name": "stderr",
     "output_type": "stream",
     "text": [
      "6it [11:57, 119.58s/it]\n"
     ]
    },
    {
     "data": {
      "text/plain": "<Figure size 600x270 with 8 Axes>",
      "image/png": "[encoded data removed]"
     },
     "metadata": {},
     "output_type": "display_data"
    },
    {
     "name": "stderr",
     "output_type": "stream",
     "text": [
      "C:\\Users\\franc\\AppData\\Local\\Temp\\ipykernel_24532\\1312891613.py:272: UserWarning: set_ticklabels() should only be used with a fixed number of ticks, i.e. after set_ticks() or using a FixedLocator.\n",
      "  ax.xaxis.set_ticklabels(['$'+str(nn)+'$' for nn in n_hist])\n"
     ]
    },
    {
     "data": {
      "text/plain": "<Figure size 300x240 with 1 Axes>",
      "image/png": "[encoded data removed]"
     },
     "metadata": {},
     "output_type": "display_data"
    }
   ],
   "source": [
    "from __future__ import division\n",
    "import numpy as np\n",
    "from scipy.linalg import block_diag\n",
    "from scipy.stats import ortho_group\n",
    "from nldg.time.isd_dft import ISD\n",
    "from tqdm import tqdm\n",
    "import matplotlib.pyplot as plt\n",
    "import statsmodels.api as sm\n",
    "\n",
    "plt.rcParams.update({\n",
    "    \"text.usetex\": True,\n",
    "    \"text.latex.preamble\": r\"\\usepackage{amsmath}\",\n",
    "    'axes.labelsize': 10,\n",
    "    'font.size': 10,\n",
    "    'legend.fontsize': 10,\n",
    "    'xtick.labelsize': 8,\n",
    "    'ytick.labelsize': 8,\n",
    "    'lines.linewidth': 1.2,\n",
    "    'axes.unicode_minus': True,\n",
    "})\n",
    "width = 6.0\n",
    "\n",
    "# functions\n",
    "\n",
    "\n",
    "def gen_data(n, p, m, block_sizes, c_coeffs, OM, rng,\n",
    "             test=False, test_value=0):\n",
    "    # Generate observational data\n",
    "    # n: sample size\n",
    "    # p: covariates dimension\n",
    "    # m: number of covariates shifts\n",
    "    # block_sizes: sizes of diagonal blocks/partition subspaces\n",
    "    # c_coeffs: indexes of constant coefficients\n",
    "    # OM: orthonormal matrix used for rotation\n",
    "    # rng: random generator\n",
    "    # test: if True, generates test (adaptation) data\n",
    "    # test_value: (list of) values of time-varying coefficients\n",
    "\n",
    "    mu_x = np.zeros(p)\n",
    "\n",
    "    X = np.zeros((n, p))\n",
    "    Y = np.zeros((n, 1))\n",
    "    eps = 0.8*rng.normal(size=(n, 1))\n",
    "    gamma_0 = np.zeros((n, p))\n",
    "    Sigma_list = np.zeros((n, p, p))\n",
    "    ws = int(n/m)\n",
    "    w_start = [j*ws for j in range(m)]\n",
    "\n",
    "    y_mean = 0\n",
    "    const = 0.2\n",
    "    v_coeffs = [k not in c_coeffs for k in list(range(p))]\n",
    "    shift_test = test_value\n",
    "    beta_0 = np.zeros((p, 1))\n",
    "    beta_0[c_coeffs] = const\n",
    "    if test:\n",
    "        rng_sigma = np.random.default_rng(len(shift_test))\n",
    "    else:\n",
    "        rng_sigma = np.random.default_rng(0)\n",
    "    for idx, w in enumerate(w_start):\n",
    "        if idx == m-1:\n",
    "            ws = n - w_start[-1]\n",
    "        A = block_diag(*[rng_sigma.random((bs, bs)) for bs in block_sizes])\n",
    "        Sigma = OM.T@(A@A.T+0*np.eye(p))@OM\n",
    "        for i in range(ws):\n",
    "            Sigma_list[w+i, :, :] = Sigma\n",
    "        X[w:w+ws, :] = rng.multivariate_normal(mean=mu_x,\n",
    "                                               cov=Sigma,\n",
    "                                               size=ws)\n",
    "        gamma_0_w = np.zeros((p, 1))\n",
    "        gamma_0_w[c_coeffs] = const\n",
    "        if test:\n",
    "            for j, var in enumerate(v_coeffs):\n",
    "                if var:\n",
    "                    gamma_0_w[j] = shift_test[idx]\n",
    "            gamma_0_w = OM.T@gamma_0_w\n",
    "            gamma_0[w:w+ws, :] = gamma_0_w.T\n",
    "            Y[w:w+ws, :] = X[w:w+ws, :]@gamma_0_w\n",
    "\n",
    "    if not test:\n",
    "        gamma_0 = np.zeros((n, p))\n",
    "        for t in range(n):\n",
    "            for j in range(p):\n",
    "                if j in c_coeffs:\n",
    "                    gamma_0[t, j] = const\n",
    "                else:\n",
    "                    gamma_0[t, j] = 1-1.5*(t/n)*(np.sin((j+1)*t/n+(j+1))**2)\n",
    "            gamma_0[t, :] = OM.T@gamma_0[t, :]\n",
    "            Y[t, 0] = X[t, :]@gamma_0[t, :].T\n",
    "\n",
    "    Y = Y + y_mean + eps\n",
    "\n",
    "    return X, Y, OM.T@beta_0, gamma_0, Sigma_list\n",
    "\n",
    "\n",
    "def ols(Y, X):\n",
    "    # Compute OLS solution for given X and Y\n",
    "    X_1 = np.concatenate((X, np.ones((X.shape[0], 1))), axis=1)\n",
    "    return sm.OLS(Y, X_1).fit().params[:-1].reshape(-1, 1)\n",
    "\n",
    "\n",
    "def main():\n",
    "    rng = np.random.default_rng(42)\n",
    "    n_iter = 20\n",
    "\n",
    "    p = 10\n",
    "    gt_bs = [2, 4, 3, 1]\n",
    "    gt_const_coeffs = list(range(2, 9))\n",
    "\n",
    "    tv = [-0.4, -1]\n",
    "    OM = ortho_group.rvs(dim=p, random_state=rng)\n",
    "\n",
    "    m_hist = 10     # number of covariates shift in historical data\n",
    "    n_hist = [300, 500, 1000, 2500, 4000, 6000]\n",
    "\n",
    "    m_test = len(tv)\n",
    "    ws_test = 250\n",
    "\n",
    "    n_test = 1\n",
    "\n",
    "    n_est = 4   # number of estimators considered\n",
    "    n_rw = 25   # number of windows\n",
    "    n_ex = len(n_hist)\n",
    "\n",
    "    beta = np.zeros((n_est, n_iter, n_ex, p))\n",
    "    err_beta = np.zeros((n_iter, n_ex))\n",
    "    err_tr = np.zeros((n_est+1, n_iter, n_ex))\n",
    "    err_test = np.zeros(((n_est+1)*m_test, n_iter, n_ex))\n",
    "    inv_constr_tr = np.zeros((n_est, n_iter, n_ex))\n",
    "    inv_constr_test = np.zeros((n_est*m_test, n_iter, n_ex))\n",
    "    S_test = []\n",
    "    g_test = []\n",
    "\n",
    "    for ni, n in tqdm(enumerate(n_hist)):\n",
    "        rng_w = np.random.default_rng(0)\n",
    "        n_test = ws_test*m_test\n",
    "\n",
    "        for iter in range(n_iter):\n",
    "            X_hist, Y_hist, beta_0, gamma_0, _ = \\\n",
    "                gen_data(n, p, m_hist, gt_bs,\n",
    "                         gt_const_coeffs, OM,\n",
    "                         test=False, rng=rng_w)\n",
    "            ws = int(n/8)\n",
    "            est = ISD(X_hist, Y_hist, [ws]*n_rw)\n",
    "            beta_inv, beta_icpt, U, blocks, c_blocks = \\\n",
    "                est.invariant_estimator(k_fold=10)\n",
    "            beta_ols = est.get_pooled_est()[:, :]\n",
    "            beta_mm = est.magging_estimator()\n",
    "\n",
    "            beta[0, iter, ni, :] = beta_0.squeeze()\n",
    "            beta[1, iter, ni, :] = beta_inv.squeeze()\n",
    "            beta[2, iter, ni, :] = beta_ols.squeeze()\n",
    "            beta[3, iter, ni, :] = beta_mm.squeeze()\n",
    "\n",
    "            err_beta[iter, ni] = np.linalg.norm((beta_0-beta_inv))**2\n",
    "\n",
    "            X_test, Y_test, _, gamma_test, Sigma_test = \\\n",
    "                gen_data(n_test, p, m_test, gt_bs,\n",
    "                         gt_const_coeffs,\n",
    "                         OM, test=True,\n",
    "                         test_value=tv, rng=rng_w)\n",
    "            err_tr[-1, iter, ni] = np.mean((Y_hist)**2)\n",
    "            count = 0\n",
    "            for est_i in range(n_est):\n",
    "                b = beta[est_i, iter, ni, :].reshape(-1, 1)\n",
    "                err_tr[est_i, iter, ni] = np.mean((Y_hist-X_hist@b)**2)\n",
    "                inv_constr_tr[est_i, iter, ni] = np.mean(ols(Y_hist-X_hist@b,\n",
    "                                                             X_hist@b))\n",
    "                for test_env in range(m_test):\n",
    "                    X_test_env = X_test[test_env*ws_test:\n",
    "                                        test_env*ws_test+ws_test, :]\n",
    "                    Y_test_env = Y_test[test_env*ws_test:\n",
    "                                        test_env*ws_test+ws_test, :]\n",
    "                    err_test[est_i+test_env*(n_est+1), iter, ni] = \\\n",
    "                        np.mean((Y_test_env - X_test_env@b)**2)\n",
    "                    inv_constr_test[est_i+test_env*n_est, iter, ni] = \\\n",
    "                        np.mean(ols(Y_test_env-X_test_env@b, X_test_env@b))\n",
    "                    if count < 2:\n",
    "                        err_test[n_est+test_env*(n_est+1), iter, ni] = \\\n",
    "                            np.mean((Y_test_env)**2)\n",
    "                        if iter == 0 and ni == 0:\n",
    "                            S_test.append(Sigma_test[-count, :, :])\n",
    "                            g_test.append(gamma_test[-count, :])\n",
    "                        count += 1\n",
    "\n",
    "    r2_tr = np.zeros((n_est, n_iter, n_ex))\n",
    "    r2_test = np.zeros((n_est*m_test, n_iter, n_ex))\n",
    "\n",
    "    for ei in range(n_est):\n",
    "        r2_tr[ei, :, :] = np.divide(err_tr[n_est, :, :]-err_tr[ei, :, :],\n",
    "                                    err_tr[n_est, :, :])\n",
    "        for test_env in range(m_test):\n",
    "            r2_test[ei+test_env*n_est, :, :] = \\\n",
    "                np.divide(err_test[n_est+test_env*(n_est+1), :, :]\n",
    "                          - err_test[ei+test_env*(n_est+1), :, :],\n",
    "                          err_test[n_est+test_env*(n_est+1), :, :])\n",
    "    \n",
    "    # Plotting\n",
    "    c = ['tab:blue', 'tab:orange', 'tab:green', 'tab:purple', 'tab:red']\n",
    "    bp = [None]*n_est\n",
    "    bp2 = [None]*n_est\n",
    "    axs0 = [None]*n_est\n",
    "    axs1 = [None]*n_est\n",
    "    fig, ax = plt.subplots(1, m_test, figsize=(width, width*0.45))\n",
    "    for i in range(n_est):\n",
    "        if i == 0:\n",
    "            axs0[0] = ax[0]\n",
    "            axs1[0] = ax[1]\n",
    "        else:\n",
    "            axs0[i] = ax[0].twinx()\n",
    "            axs1[i] = ax[1].twinx()\n",
    "            axs0[i].set_yticks([])\n",
    "            axs1[i].set_yticks([])\n",
    "        bp[i] = axs0[i].violinplot(r2_tr[i, :, 1:],\n",
    "                                   showmeans=True,\n",
    "                                   showextrema=False,\n",
    "                                   widths=0.2,\n",
    "                                   positions=np.arange(len(n_hist[1:]))+i/7)\n",
    "        for j in range(m_test-1):\n",
    "            bp2[i] = axs1[i].violinplot(r2_test[i+(j+1)*n_est, :, 1:],\n",
    "                                        showmeans=True,\n",
    "                                        showextrema=False,\n",
    "                                        widths=0.2,\n",
    "                                        positions=np.arange(len(n_hist[1:]))\n",
    "                                        + i/7\n",
    "                                        )\n",
    "            g_0 = OM.T@(np.array([-1, -1, 0.2, 0.2, 0.2,\n",
    "                                  0.2, 0.2, 0.2, 0.2, -1]).reshape(-1, 1))\n",
    "            beta_0 = beta[0, 0, 0, :].reshape(-1, 1)\n",
    "            gVXb0 = (2*g_0.T-beta_0.T)@S_test[-1]@beta_0\n",
    "            VXg = g_0.T@S_test[-1]@g_0\n",
    "            ax[j+1].axhline(gVXb0[0, 0] / (VXg[0, 0] + 0.8**2),\n",
    "                            linestyle='--', linewidth=0.5,\n",
    "                            alpha=0.5)\n",
    "    for i in range(n_est):\n",
    "        for vp in bp[i]['bodies']:\n",
    "            vp.set_color(c[i])\n",
    "        for vp in bp2[i]['bodies']:\n",
    "            vp.set_color(c[i])\n",
    "        bp[i]['cmeans'].set_color(c[i])\n",
    "        bp2[i]['cmeans'].set_color(c[i])\n",
    "        axs0[i].set_ylim([-1.2, 1])\n",
    "        axs1[i].set_ylim([-1.2, 1])\n",
    "    for j in range(m_test):\n",
    "        ax[j].grid(color='grey', axis='y', linestyle='--', linewidth=0.25,\n",
    "                   alpha=0.25)\n",
    "        n_ticks = []\n",
    "        for est_idx in range(n_est):\n",
    "            n_ticks += [str(n_tr) for n_tr in n_hist[1:]]\n",
    "    ax[0].set_xticks(np.arange(len(n_hist[1:]))+(n_est-1)/14)\n",
    "    ax[0].xaxis.set_ticklabels(['$'+str(nn)+'$' for nn in n_hist[1:]])\n",
    "    ax[1].set_xticks(np.arange(len(n_hist[1:]))+(n_est-1)/14)\n",
    "    ax[1].xaxis.set_ticklabels(['$'+str(nn)+'$' for nn in n_hist[1:]])\n",
    "    ax[0].legend([bp[0]['cmeans'], bp[1]['cmeans'],\n",
    "                  bp[2]['cmeans'], bp[3]['cmeans']],\n",
    "                 [r'$\\beta^{\\text{inv}}$', r'$\\hat{\\beta}^{\\text{inv}}$',\n",
    "                  r'$\\hat{\\beta}^{\\text{OLS}}$', r'$\\hat{\\beta}^{\\text{mm}}$'],\n",
    "                 loc='lower left', ncol=2)\n",
    "    ax[0].set_title(r'in-sample prediction', fontsize=10)\n",
    "    ax[1].set_title(r'zero-shot prediction' + '\\n'\n",
    "                    + r'(test sample size = 250)',\n",
    "                    fontsize=10)\n",
    "    ax[0].set_ylabel(r'$R^2$')\n",
    "    ax[0].set_xlabel(r'$n$')\n",
    "    ax[1].set_xlabel(r'$n$')\n",
    "    plt.tight_layout()\n",
    "    plt.show()\n",
    "\n",
    "    fig, ax = plt.subplots(figsize=(width*0.5, width*0.5*0.8))\n",
    "    vp = ax.violinplot(err_beta[:, 1:], showmeans=True, showextrema=False)\n",
    "    b0p = ax.axhline(y=np.linalg.norm(beta[0, 0, 0, :])**2,\n",
    "                     linestyle='--', color=c[1])\n",
    "    ax.xaxis.set_ticklabels(['$'+str(nn)+'$' for nn in n_hist])\n",
    "    ax.set_xlabel('$n$')\n",
    "    ax.grid(color='grey', axis='y', linestyle='--', linewidth=0.25,\n",
    "            alpha=0.25)\n",
    "    ax.legend([vp['cmeans'], b0p],\n",
    "              [r'$\\|\\beta^{\\text{inv}}-\\hat{\\beta}^{\\text{inv}}\\|^2_2$',\n",
    "              r'$\\|\\beta^{\\text{inv}}\\|^2_2$'],\n",
    "              loc='upper right',\n",
    "              bbox_to_anchor=(1, 0.98))\n",
    "    plt.tight_layout()\n",
    "    plt.show()\n",
    "\n",
    "\n",
    "if __name__ == '__main__':\n",
    "    main()"
   ],
   "metadata": {
    "collapsed": false,
    "ExecuteTime": {
     "end_time": "2025-03-04T15:52:36.361805Z",
     "start_time": "2025-03-04T15:40:37.498774Z"
    }
   },
   "id": "97687af735c749e6",
   "execution_count": 2
  },
  {
   "cell_type": "markdown",
   "source": [
    "## TEST 2"
   ],
   "metadata": {
    "collapsed": false
   },
   "id": "be10be90c03ce637"
  },
  {
   "cell_type": "code",
   "outputs": [
    {
     "name": "stderr",
     "output_type": "stream",
     "text": [
      "0it [00:00, ?it/s]"
     ]
    },
    {
     "name": "stdout",
     "output_type": "stream",
     "text": [
      "0\n",
      "0.4061145184982078\n",
      "0\n",
      "0\n",
      "0\n",
      "0\n",
      "0\n",
      "0\n",
      "0.6424067135177672\n",
      "0.534491542322045\n",
      "0\n",
      "0\n",
      "0\n",
      "0\n",
      "0\n",
      "0\n",
      "0\n",
      "0\n",
      "0\n",
      "0\n"
     ]
    },
    {
     "name": "stderr",
     "output_type": "stream",
     "text": [
      "1it [28:07, 1687.12s/it]"
     ]
    },
    {
     "name": "stdout",
     "output_type": "stream",
     "text": [
      "1.0\n",
      "0.580193632577636\n",
      "0\n",
      "0\n",
      "1.0\n",
      "0.3690351350481317\n",
      "0.4707437646452647\n",
      "0\n",
      "0.35911285451835534\n",
      "0.46532993913188464\n",
      "0.4653140795825212\n",
      "0.6209438814286572\n",
      "0\n",
      "0\n",
      "1.0\n",
      "0.6912853902498364\n",
      "0\n",
      "0\n",
      "0\n",
      "0.421935850848432\n"
     ]
    },
    {
     "name": "stderr",
     "output_type": "stream",
     "text": [
      "2it [1:24:50, 2545.15s/it]\n"
     ]
    },
    {
     "data": {
      "text/plain": "<Figure size 600x270 with 4 Axes>",
      "image/png": "[encoded data removed]"
     },
     "metadata": {},
     "output_type": "display_data"
    }
   ],
   "source": [
    "from __future__ import division\n",
    "import numpy as np\n",
    "from scipy.linalg import block_diag\n",
    "from scipy.stats import ortho_group\n",
    "from nldg.time.isd import IsdRF\n",
    "from tqdm import tqdm\n",
    "import matplotlib.pyplot as plt\n",
    "import statsmodels.api as sm\n",
    "from sklearn.ensemble import RandomForestRegressor\n",
    "\n",
    "plt.rcParams.update({\n",
    "    \"text.usetex\": True,\n",
    "    \"text.latex.preamble\": r\"\\usepackage{amsmath}\",\n",
    "    'axes.labelsize': 10,\n",
    "    'font.size': 10,\n",
    "    'legend.fontsize': 10,\n",
    "    'xtick.labelsize': 8,\n",
    "    'ytick.labelsize': 8,\n",
    "    'lines.linewidth': 1.2,\n",
    "    'axes.unicode_minus': True,\n",
    "})\n",
    "width = 6.0\n",
    "\n",
    "# functions\n",
    "ERR_TEST = None\n",
    "R2_TEST = None\n",
    "\n",
    "def gen_data(n, p, m, block_sizes, c_coeffs, OM, rng,\n",
    "             test=False, test_value=0):\n",
    "    # Generate observational data\n",
    "    # n: sample size\n",
    "    # p: covariates dimension\n",
    "    # m: number of covariates shifts\n",
    "    # block_sizes: sizes of diagonal blocks/partition subspaces\n",
    "    # c_coeffs: indexes of constant coefficients\n",
    "    # OM: orthonormal matrix used for rotation\n",
    "    # rng: random generator\n",
    "    # test: if True, generates test (adaptation) data\n",
    "    # test_value: (list of) values of time-varying coefficients\n",
    "\n",
    "    mu_x = np.zeros(p)\n",
    "\n",
    "    X = np.zeros((n, p))\n",
    "    Y = np.zeros((n,))\n",
    "    eps = 0.8*rng.normal(size=(n,))\n",
    "    gamma_0 = np.zeros((n, p))\n",
    "    Sigma_list = np.zeros((n, p, p))\n",
    "    ws = int(n/m)\n",
    "    w_start = [j*ws for j in range(m)]\n",
    "\n",
    "    y_mean = 0\n",
    "    const = 0.2\n",
    "    v_coeffs = [k not in c_coeffs for k in list(range(p))]\n",
    "    shift_test = test_value\n",
    "    beta_0 = np.zeros((p, 1))\n",
    "    beta_0[c_coeffs] = const\n",
    "    if test:\n",
    "        rng_sigma = np.random.default_rng(len(shift_test))\n",
    "    else:\n",
    "        rng_sigma = np.random.default_rng(0)\n",
    "    for idx, w in enumerate(w_start):\n",
    "        if idx == m-1:\n",
    "            ws = n - w_start[-1]\n",
    "        A = block_diag(*[rng_sigma.random((bs, bs)) for bs in block_sizes])\n",
    "        Sigma = OM.T@(A@A.T+0*np.eye(p))@OM\n",
    "        for i in range(ws):\n",
    "            Sigma_list[w+i, :, :] = Sigma\n",
    "        X[w:w+ws, :] = rng.multivariate_normal(mean=mu_x,\n",
    "                                               cov=Sigma,\n",
    "                                               size=ws)\n",
    "        gamma_0_w = np.zeros((p, 1))\n",
    "        gamma_0_w[c_coeffs] = const\n",
    "        if test:\n",
    "            for j, var in enumerate(v_coeffs):\n",
    "                if var:\n",
    "                    gamma_0_w[j] = shift_test[idx]\n",
    "            gamma_0_w = OM.T@gamma_0_w\n",
    "            gamma_0[w:w+ws, :] = gamma_0_w.T\n",
    "            Y[w:w+ws] = (X[w:w+ws, :]@gamma_0_w).ravel()\n",
    "\n",
    "    if not test:\n",
    "        gamma_0 = np.zeros((n, p))\n",
    "        for t in range(n):\n",
    "            for j in range(p):\n",
    "                if j in c_coeffs:\n",
    "                    gamma_0[t, j] = const\n",
    "                else:\n",
    "                    gamma_0[t, j] = 1-1.5*(t/n)*(np.sin((j+1)*t/n+(j+1))**2)\n",
    "            gamma_0[t, :] = OM.T@gamma_0[t, :]\n",
    "            Y[t] = X[t, :]@gamma_0[t, :].T\n",
    "\n",
    "    Y = Y + y_mean + eps\n",
    "\n",
    "    return X, Y, OM.T@beta_0, gamma_0, Sigma_list\n",
    "\n",
    "\n",
    "def main():\n",
    "    rng = np.random.default_rng(42)\n",
    "    n_iter = 20\n",
    "\n",
    "    p = 10\n",
    "    gt_bs = [2, 4, 3, 1]\n",
    "    gt_const_coeffs = list(range(2, 9))\n",
    "\n",
    "    tv = [-0.4, -1]\n",
    "    OM = ortho_group.rvs(dim=p, random_state=rng)\n",
    "\n",
    "    m_hist = 10     # number of covariates shift in historical data\n",
    "    n_hist = [300, 500]\n",
    "\n",
    "    m_test = len(tv)\n",
    "    ws_test = 250\n",
    "\n",
    "    n_est = 2   # number of estimators considered\n",
    "    n_rw = 25   # number of windows\n",
    "    n_ex = len(n_hist)\n",
    "    \n",
    "    err_beta = np.zeros((n_iter, n_ex))\n",
    "    err_tr = np.zeros((n_est+1, n_iter, n_ex))\n",
    "    err_test = np.zeros(((n_est+1)*m_test, n_iter, n_ex))\n",
    "    S_test = []\n",
    "    \n",
    "\n",
    "    for ni, n in tqdm(enumerate(n_hist)):\n",
    "        rng_w = np.random.default_rng(0)\n",
    "        n_test = ws_test*m_test\n",
    "\n",
    "        for iter in range(n_iter):\n",
    "            rf_list = []\n",
    "            X_hist, Y_hist, _, _, _ = \\\n",
    "                gen_data(n, p, m_hist, gt_bs,\n",
    "                         gt_const_coeffs, OM,\n",
    "                         test=False, rng=rng_w)\n",
    "            ws = int(n/8)\n",
    "            rf_isd = IsdRF(X_hist, Y_hist, [ws]*n_rw)\n",
    "            rf_isd.find_invariant(k_fold=10)\n",
    "            rf_list.append(rf_isd)\n",
    "            print(rf_isd.th_opt)\n",
    "            \n",
    "            rf = RandomForestRegressor(n_estimators=50, random_state=42, max_features=1.0)\n",
    "            rf.fit(X_hist, Y_hist)\n",
    "            rf_list.append(rf)\n",
    "\n",
    "            X_test, Y_test, _, _, Sigma_test = \\\n",
    "                gen_data(n_test, p, m_test, gt_bs,\n",
    "                         gt_const_coeffs,\n",
    "                         OM, test=True,\n",
    "                         test_value=tv, rng=rng_w)\n",
    "            err_tr[-1, iter, ni] = np.mean((Y_hist)**2)\n",
    "            count = 0\n",
    "            for est_i in range(n_est):\n",
    "                rf = rf_list[est_i]\n",
    "                if est_i == 0:\n",
    "                    preds_hist = rf.predict_zeroshot(X_hist)\n",
    "                else:\n",
    "                    preds_hist = rf.predict(X_hist)\n",
    "                err_tr[est_i, iter, ni] = np.mean((Y_hist-preds_hist)**2)\n",
    "                for test_env in range(m_test):\n",
    "                    X_test_env = X_test[test_env*ws_test:\n",
    "                                        test_env*ws_test+ws_test, :]\n",
    "                    Y_test_env = Y_test[test_env*ws_test:\n",
    "                                        test_env*ws_test+ws_test]\n",
    "                    if est_i == 0:\n",
    "                        preds_test_env = rf.predict_zeroshot(X_test_env)\n",
    "                    else:\n",
    "                        preds_test_env = rf.predict(X_test_env)\n",
    "                    err_test[est_i+test_env*(n_est+1), iter, ni] = \\\n",
    "                        np.mean((Y_test_env - preds_test_env)**2)\n",
    "                    if count < 2:\n",
    "                        err_test[n_est+test_env*(n_est+1), iter, ni] = \\\n",
    "                            np.mean((Y_test_env)**2)\n",
    "                        if iter == 0 and ni == 0:\n",
    "                            S_test.append(Sigma_test[-count, :, :])\n",
    "                        count += 1\n",
    "\n",
    "    r2_tr = np.zeros((n_est, n_iter, n_ex))\n",
    "    r2_test = np.zeros((n_est*m_test, n_iter, n_ex))\n",
    "\n",
    "    for ei in range(n_est):\n",
    "        r2_tr[ei, :, :] = np.divide(err_tr[n_est, :, :]-err_tr[ei, :, :],\n",
    "                                    err_tr[n_est, :, :])\n",
    "        for test_env in range(m_test):\n",
    "            r2_test[ei+test_env*n_est, :, :] = \\\n",
    "                np.divide(err_test[n_est+test_env*(n_est+1), :, :]\n",
    "                          - err_test[ei+test_env*(n_est+1), :, :],\n",
    "                          err_test[n_est+test_env*(n_est+1), :, :])\n",
    "    \n",
    "    global ERR_TEST, R2_TEST\n",
    "    ERR_TEST = err_test\n",
    "    R2_TEST = r2_test\n",
    "    \n",
    "    # Plotting\n",
    "    c = ['tab:blue', 'tab:orange', 'tab:green', 'tab:purple', 'tab:red']\n",
    "    bp = [None]*n_est\n",
    "    bp2 = [None]*n_est\n",
    "    axs0 = [None]*n_est\n",
    "    axs1 = [None]*n_est\n",
    "    fig, ax = plt.subplots(1, m_test, figsize=(width, width*0.45))\n",
    "    for i in range(n_est):\n",
    "        if i == 0:\n",
    "            axs0[0] = ax[0]\n",
    "            axs1[0] = ax[1]\n",
    "        else:\n",
    "            axs0[i] = ax[0].twinx()\n",
    "            axs1[i] = ax[1].twinx()\n",
    "            axs0[i].set_yticks([])\n",
    "            axs1[i].set_yticks([])\n",
    "        bp[i] = axs0[i].violinplot(r2_tr[i, :, 1:],\n",
    "                                   showmeans=True,\n",
    "                                   showextrema=False,\n",
    "                                   widths=0.2,\n",
    "                                   positions=np.arange(len(n_hist[1:]))+i/7)\n",
    "        for j in range(m_test-1):\n",
    "            bp2[i] = axs1[i].violinplot(r2_test[i+(j+1)*n_est, :, 1:],\n",
    "                                        showmeans=True,\n",
    "                                        showextrema=False,\n",
    "                                        widths=0.2,\n",
    "                                        positions=np.arange(len(n_hist[1:]))\n",
    "                                        + i/7\n",
    "                                        )\n",
    "    for i in range(n_est):\n",
    "        for vp in bp[i]['bodies']:\n",
    "            vp.set_color(c[i])\n",
    "        for vp in bp2[i]['bodies']:\n",
    "            vp.set_color(c[i])\n",
    "        bp[i]['cmeans'].set_color(c[i])\n",
    "        bp2[i]['cmeans'].set_color(c[i])\n",
    "        #axs0[i].set_ylim([-1.2, 1])\n",
    "        #axs1[i].set_ylim([-1.2, 1])\n",
    "    for j in range(m_test):\n",
    "        ax[j].grid(color='grey', axis='y', linestyle='--', linewidth=0.25,\n",
    "                   alpha=0.25)\n",
    "        n_ticks = []\n",
    "        for est_idx in range(n_est):\n",
    "            n_ticks += [str(n_tr) for n_tr in n_hist[1:]]\n",
    "    ax[0].set_xticks(np.arange(len(n_hist[1:]))+(n_est-1)/14)\n",
    "    ax[0].xaxis.set_ticklabels(['$'+str(nn)+'$' for nn in n_hist[1:]])\n",
    "    ax[1].set_xticks(np.arange(len(n_hist[1:]))+(n_est-1)/14)\n",
    "    ax[1].xaxis.set_ticklabels(['$'+str(nn)+'$' for nn in n_hist[1:]])\n",
    "    ax[0].legend([bp[0]['cmeans'], bp[1]['cmeans']],\n",
    "                 [r'$\\mathsf{IsdRF}$', r'$\\mathsf{RF}$'], loc='lower left', ncol=2)\n",
    "    ax[0].set_title(r'in-sample prediction', fontsize=10)\n",
    "    ax[1].set_title(r'zero-shot prediction' + '\\n'\n",
    "                    + r'(test sample size = 250)',\n",
    "                    fontsize=10)\n",
    "    ax[0].set_ylabel(r'$R^2$')\n",
    "    ax[0].set_xlabel(r'$n$')\n",
    "    ax[1].set_xlabel(r'$n$')\n",
    "    plt.tight_layout()\n",
    "    plt.show()\n",
    "\n",
    "\n",
    "if __name__ == '__main__':\n",
    "    main()"
   ],
   "metadata": {
    "collapsed": false,
    "ExecuteTime": {
     "end_time": "2025-03-04T13:58:56.612489Z",
     "start_time": "2025-03-04T12:33:50.775322Z"
    }
   },
   "id": "df9fb103f30f51e8",
   "execution_count": 14
  },
  {
   "cell_type": "code",
   "outputs": [
    {
     "data": {
      "text/plain": "(4, 20, 2)"
     },
     "execution_count": 16,
     "metadata": {},
     "output_type": "execute_result"
    }
   ],
   "source": [
    "R2_TEST.shape"
   ],
   "metadata": {
    "collapsed": false,
    "ExecuteTime": {
     "end_time": "2025-03-04T14:17:55.143899Z",
     "start_time": "2025-03-04T14:17:55.130898Z"
    }
   },
   "id": "5fcdf3143a779631",
   "execution_count": 16
  }
 ],
 "metadata": {
  "kernelspec": {
   "display_name": "Python 3",
   "language": "python",
   "name": "python3"
  },
  "language_info": {
   "codemirror_mode": {
    "name": "ipython",
    "version": 2
   },
   "file_extension": ".py",
   "mimetype": "text/x-python",
   "name": "python",
   "nbconvert_exporter": "python",
   "pygments_lexer": "ipython2",
   "version": "2.7.6"
  }
 },
 "nbformat": 4,
 "nbformat_minor": 5
}
