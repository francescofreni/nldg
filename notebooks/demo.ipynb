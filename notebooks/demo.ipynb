{
 "cells": [
  {
   "cell_type": "code",
   "outputs": [],
   "source": [
    "import numpy as np\n",
    "\n",
    "from sklearn.ensemble import RandomForestRegressor\n",
    "from sklearn.metrics import r2_score, mean_squared_error\n",
    "\n",
    "from nldg.utils import generate_data_example_1, gen_data_isd, gen_data_maximin, gen_data_isd_v2\n",
    "from nldg.maximin import MaximinRF, MaggingRF\n",
    "from nldg.isd import IsdRF\n",
    "\n",
    "import matplotlib.pyplot as plt"
   ],
   "metadata": {
    "collapsed": false,
    "ExecuteTime": {
     "end_time": "2025-03-01T17:05:14.498765Z",
     "start_time": "2025-03-01T17:05:11.706962Z"
    }
   },
   "id": "100d303ae72a408b",
   "execution_count": 1
  },
  {
   "cell_type": "markdown",
   "source": [
    "## Maximin"
   ],
   "metadata": {
    "collapsed": false
   },
   "id": "b6c27b61eaedd188"
  },
  {
   "cell_type": "markdown",
   "source": [
    "Inspired by the maximin effect estimator (see [1]), we modify the Random Forest to allow for robustness against distribution shifts."
   ],
   "metadata": {
    "collapsed": false
   },
   "id": "4c6ace11627361d3"
  },
  {
   "cell_type": "code",
   "outputs": [],
   "source": [
    "#dtr, dts, _, _ = gen_data_isd(1000, 500,\n",
    "#                              np.random.default_rng(42), \n",
    "#                              np.random.default_rng(42))\n",
    "#dtr, dts = generate_data_example_1(42, False)\n",
    "dtr, dts = gen_data_maximin(1000, 500,\n",
    "                            np.random.default_rng(2), \n",
    "                            np.random.default_rng(2))\n",
    "Xtr, Xts = np.array(dtr.drop(columns=['E', 'Y'])), np.array(dts.drop(columns=['E', 'Y']))\n",
    "Ytr, Yts = np.array(dtr['Y']), np.array(dts['Y'])\n",
    "Etr = np.array(dtr['E'])"
   ],
   "metadata": {
    "collapsed": false,
    "ExecuteTime": {
     "end_time": "2025-03-01T14:54:41.491979Z",
     "start_time": "2025-03-01T14:54:41.465907Z"
    }
   },
   "id": "c227681c73bc710d",
   "execution_count": 28
  },
  {
   "cell_type": "code",
   "outputs": [
    {
     "data": {
      "text/plain": "MaximinRF(max_features=2)",
      "text/html": "<style>#sk-container-id-1 {\n  /* Definition of color scheme common for light and dark mode */\n  --sklearn-color-text: #000;\n  --sklearn-color-text-muted: #666;\n  --sklearn-color-line: gray;\n  /* Definition of color scheme for unfitted estimators */\n  --sklearn-color-unfitted-level-0: #fff5e6;\n  --sklearn-color-unfitted-level-1: #f6e4d2;\n  --sklearn-color-unfitted-level-2: #ffe0b3;\n  --sklearn-color-unfitted-level-3: chocolate;\n  /* Definition of color scheme for fitted estimators */\n  --sklearn-color-fitted-level-0: #f0f8ff;\n  --sklearn-color-fitted-level-1: #d4ebff;\n  --sklearn-color-fitted-level-2: #b3dbfd;\n  --sklearn-color-fitted-level-3: cornflowerblue;\n\n  /* Specific color for light theme */\n  --sklearn-color-text-on-default-background: var(--sg-text-color, var(--theme-code-foreground, var(--jp-content-font-color1, black)));\n  --sklearn-color-background: var(--sg-background-color, var(--theme-background, var(--jp-layout-color0, white)));\n  --sklearn-color-border-box: var(--sg-text-color, var(--theme-code-foreground, var(--jp-content-font-color1, black)));\n  --sklearn-color-icon: #696969;\n\n  @media (prefers-color-scheme: dark) {\n    /* Redefinition of color scheme for dark theme */\n    --sklearn-color-text-on-default-background: var(--sg-text-color, var(--theme-code-foreground, var(--jp-content-font-color1, white)));\n    --sklearn-color-background: var(--sg-background-color, var(--theme-background, var(--jp-layout-color0, #111)));\n    --sklearn-color-border-box: var(--sg-text-color, var(--theme-code-foreground, var(--jp-content-font-color1, white)));\n    --sklearn-color-icon: #878787;\n  }\n}\n\n#sk-container-id-1 {\n  color: var(--sklearn-color-text);\n}\n\n#sk-container-id-1 pre {\n  padding: 0;\n}\n\n#sk-container-id-1 input.sk-hidden--visually {\n  border: 0;\n  clip: rect(1px 1px 1px 1px);\n  clip: rect(1px, 1px, 1px, 1px);\n  height: 1px;\n  margin: -1px;\n  overflow: hidden;\n  padding: 0;\n  position: absolute;\n  width: 1px;\n}\n\n#sk-container-id-1 div.sk-dashed-wrapped {\n  border: 1px dashed var(--sklearn-color-line);\n  margin: 0 0.4em 0.5em 0.4em;\n  box-sizing: border-box;\n  padding-bottom: 0.4em;\n  background-color: var(--sklearn-color-background);\n}\n\n#sk-container-id-1 div.sk-container {\n  /* jupyter's `normalize.less` sets `[hidden] { display: none; }`\n     but bootstrap.min.css set `[hidden] { display: none !important; }`\n     so we also need the `!important` here to be able to override the\n     default hidden behavior on the sphinx rendered scikit-learn.org.\n     See: https://github.com/scikit-learn/scikit-learn/issues/21755 */\n  display: inline-block !important;\n  position: relative;\n}\n\n#sk-container-id-1 div.sk-text-repr-fallback {\n  display: none;\n}\n\ndiv.sk-parallel-item,\ndiv.sk-serial,\ndiv.sk-item {\n  /* draw centered vertical line to link estimators */\n  background-image: linear-gradient(var(--sklearn-color-text-on-default-background), var(--sklearn-color-text-on-default-background));\n  background-size: 2px 100%;\n  background-repeat: no-repeat;\n  background-position: center center;\n}\n\n/* Parallel-specific style estimator block */\n\n#sk-container-id-1 div.sk-parallel-item::after {\n  content: \"\";\n  width: 100%;\n  border-bottom: 2px solid var(--sklearn-color-text-on-default-background);\n  flex-grow: 1;\n}\n\n#sk-container-id-1 div.sk-parallel {\n  display: flex;\n  align-items: stretch;\n  justify-content: center;\n  background-color: var(--sklearn-color-background);\n  position: relative;\n}\n\n#sk-container-id-1 div.sk-parallel-item {\n  display: flex;\n  flex-direction: column;\n}\n\n#sk-container-id-1 div.sk-parallel-item:first-child::after {\n  align-self: flex-end;\n  width: 50%;\n}\n\n#sk-container-id-1 div.sk-parallel-item:last-child::after {\n  align-self: flex-start;\n  width: 50%;\n}\n\n#sk-container-id-1 div.sk-parallel-item:only-child::after {\n  width: 0;\n}\n\n/* Serial-specific style estimator block */\n\n#sk-container-id-1 div.sk-serial {\n  display: flex;\n  flex-direction: column;\n  align-items: center;\n  background-color: var(--sklearn-color-background);\n  padding-right: 1em;\n  padding-left: 1em;\n}\n\n\n/* Toggleable style: style used for estimator/Pipeline/ColumnTransformer box that is\nclickable and can be expanded/collapsed.\n- Pipeline and ColumnTransformer use this feature and define the default style\n- Estimators will overwrite some part of the style using the `sk-estimator` class\n*/\n\n/* Pipeline and ColumnTransformer style (default) */\n\n#sk-container-id-1 div.sk-toggleable {\n  /* Default theme specific background. It is overwritten whether we have a\n  specific estimator or a Pipeline/ColumnTransformer */\n  background-color: var(--sklearn-color-background);\n}\n\n/* Toggleable label */\n#sk-container-id-1 label.sk-toggleable__label {\n  cursor: pointer;\n  display: flex;\n  width: 100%;\n  margin-bottom: 0;\n  padding: 0.5em;\n  box-sizing: border-box;\n  text-align: center;\n  align-items: start;\n  justify-content: space-between;\n  gap: 0.5em;\n}\n\n#sk-container-id-1 label.sk-toggleable__label .caption {\n  font-size: 0.6rem;\n  font-weight: lighter;\n  color: var(--sklearn-color-text-muted);\n}\n\n#sk-container-id-1 label.sk-toggleable__label-arrow:before {\n  /* Arrow on the left of the label */\n  content: \"▸\";\n  float: left;\n  margin-right: 0.25em;\n  color: var(--sklearn-color-icon);\n}\n\n#sk-container-id-1 label.sk-toggleable__label-arrow:hover:before {\n  color: var(--sklearn-color-text);\n}\n\n/* Toggleable content - dropdown */\n\n#sk-container-id-1 div.sk-toggleable__content {\n  max-height: 0;\n  max-width: 0;\n  overflow: hidden;\n  text-align: left;\n  /* unfitted */\n  background-color: var(--sklearn-color-unfitted-level-0);\n}\n\n#sk-container-id-1 div.sk-toggleable__content.fitted {\n  /* fitted */\n  background-color: var(--sklearn-color-fitted-level-0);\n}\n\n#sk-container-id-1 div.sk-toggleable__content pre {\n  margin: 0.2em;\n  border-radius: 0.25em;\n  color: var(--sklearn-color-text);\n  /* unfitted */\n  background-color: var(--sklearn-color-unfitted-level-0);\n}\n\n#sk-container-id-1 div.sk-toggleable__content.fitted pre {\n  /* unfitted */\n  background-color: var(--sklearn-color-fitted-level-0);\n}\n\n#sk-container-id-1 input.sk-toggleable__control:checked~div.sk-toggleable__content {\n  /* Expand drop-down */\n  max-height: 200px;\n  max-width: 100%;\n  overflow: auto;\n}\n\n#sk-container-id-1 input.sk-toggleable__control:checked~label.sk-toggleable__label-arrow:before {\n  content: \"▾\";\n}\n\n/* Pipeline/ColumnTransformer-specific style */\n\n#sk-container-id-1 div.sk-label input.sk-toggleable__control:checked~label.sk-toggleable__label {\n  color: var(--sklearn-color-text);\n  background-color: var(--sklearn-color-unfitted-level-2);\n}\n\n#sk-container-id-1 div.sk-label.fitted input.sk-toggleable__control:checked~label.sk-toggleable__label {\n  background-color: var(--sklearn-color-fitted-level-2);\n}\n\n/* Estimator-specific style */\n\n/* Colorize estimator box */\n#sk-container-id-1 div.sk-estimator input.sk-toggleable__control:checked~label.sk-toggleable__label {\n  /* unfitted */\n  background-color: var(--sklearn-color-unfitted-level-2);\n}\n\n#sk-container-id-1 div.sk-estimator.fitted input.sk-toggleable__control:checked~label.sk-toggleable__label {\n  /* fitted */\n  background-color: var(--sklearn-color-fitted-level-2);\n}\n\n#sk-container-id-1 div.sk-label label.sk-toggleable__label,\n#sk-container-id-1 div.sk-label label {\n  /* The background is the default theme color */\n  color: var(--sklearn-color-text-on-default-background);\n}\n\n/* On hover, darken the color of the background */\n#sk-container-id-1 div.sk-label:hover label.sk-toggleable__label {\n  color: var(--sklearn-color-text);\n  background-color: var(--sklearn-color-unfitted-level-2);\n}\n\n/* Label box, darken color on hover, fitted */\n#sk-container-id-1 div.sk-label.fitted:hover label.sk-toggleable__label.fitted {\n  color: var(--sklearn-color-text);\n  background-color: var(--sklearn-color-fitted-level-2);\n}\n\n/* Estimator label */\n\n#sk-container-id-1 div.sk-label label {\n  font-family: monospace;\n  font-weight: bold;\n  display: inline-block;\n  line-height: 1.2em;\n}\n\n#sk-container-id-1 div.sk-label-container {\n  text-align: center;\n}\n\n/* Estimator-specific */\n#sk-container-id-1 div.sk-estimator {\n  font-family: monospace;\n  border: 1px dotted var(--sklearn-color-border-box);\n  border-radius: 0.25em;\n  box-sizing: border-box;\n  margin-bottom: 0.5em;\n  /* unfitted */\n  background-color: var(--sklearn-color-unfitted-level-0);\n}\n\n#sk-container-id-1 div.sk-estimator.fitted {\n  /* fitted */\n  background-color: var(--sklearn-color-fitted-level-0);\n}\n\n/* on hover */\n#sk-container-id-1 div.sk-estimator:hover {\n  /* unfitted */\n  background-color: var(--sklearn-color-unfitted-level-2);\n}\n\n#sk-container-id-1 div.sk-estimator.fitted:hover {\n  /* fitted */\n  background-color: var(--sklearn-color-fitted-level-2);\n}\n\n/* Specification for estimator info (e.g. \"i\" and \"?\") */\n\n/* Common style for \"i\" and \"?\" */\n\n.sk-estimator-doc-link,\na:link.sk-estimator-doc-link,\na:visited.sk-estimator-doc-link {\n  float: right;\n  font-size: smaller;\n  line-height: 1em;\n  font-family: monospace;\n  background-color: var(--sklearn-color-background);\n  border-radius: 1em;\n  height: 1em;\n  width: 1em;\n  text-decoration: none !important;\n  margin-left: 0.5em;\n  text-align: center;\n  /* unfitted */\n  border: var(--sklearn-color-unfitted-level-1) 1pt solid;\n  color: var(--sklearn-color-unfitted-level-1);\n}\n\n.sk-estimator-doc-link.fitted,\na:link.sk-estimator-doc-link.fitted,\na:visited.sk-estimator-doc-link.fitted {\n  /* fitted */\n  border: var(--sklearn-color-fitted-level-1) 1pt solid;\n  color: var(--sklearn-color-fitted-level-1);\n}\n\n/* On hover */\ndiv.sk-estimator:hover .sk-estimator-doc-link:hover,\n.sk-estimator-doc-link:hover,\ndiv.sk-label-container:hover .sk-estimator-doc-link:hover,\n.sk-estimator-doc-link:hover {\n  /* unfitted */\n  background-color: var(--sklearn-color-unfitted-level-3);\n  color: var(--sklearn-color-background);\n  text-decoration: none;\n}\n\ndiv.sk-estimator.fitted:hover .sk-estimator-doc-link.fitted:hover,\n.sk-estimator-doc-link.fitted:hover,\ndiv.sk-label-container:hover .sk-estimator-doc-link.fitted:hover,\n.sk-estimator-doc-link.fitted:hover {\n  /* fitted */\n  background-color: var(--sklearn-color-fitted-level-3);\n  color: var(--sklearn-color-background);\n  text-decoration: none;\n}\n\n/* Span, style for the box shown on hovering the info icon */\n.sk-estimator-doc-link span {\n  display: none;\n  z-index: 9999;\n  position: relative;\n  font-weight: normal;\n  right: .2ex;\n  padding: .5ex;\n  margin: .5ex;\n  width: min-content;\n  min-width: 20ex;\n  max-width: 50ex;\n  color: var(--sklearn-color-text);\n  box-shadow: 2pt 2pt 4pt #999;\n  /* unfitted */\n  background: var(--sklearn-color-unfitted-level-0);\n  border: .5pt solid var(--sklearn-color-unfitted-level-3);\n}\n\n.sk-estimator-doc-link.fitted span {\n  /* fitted */\n  background: var(--sklearn-color-fitted-level-0);\n  border: var(--sklearn-color-fitted-level-3);\n}\n\n.sk-estimator-doc-link:hover span {\n  display: block;\n}\n\n/* \"?\"-specific style due to the `<a>` HTML tag */\n\n#sk-container-id-1 a.estimator_doc_link {\n  float: right;\n  font-size: 1rem;\n  line-height: 1em;\n  font-family: monospace;\n  background-color: var(--sklearn-color-background);\n  border-radius: 1rem;\n  height: 1rem;\n  width: 1rem;\n  text-decoration: none;\n  /* unfitted */\n  color: var(--sklearn-color-unfitted-level-1);\n  border: var(--sklearn-color-unfitted-level-1) 1pt solid;\n}\n\n#sk-container-id-1 a.estimator_doc_link.fitted {\n  /* fitted */\n  border: var(--sklearn-color-fitted-level-1) 1pt solid;\n  color: var(--sklearn-color-fitted-level-1);\n}\n\n/* On hover */\n#sk-container-id-1 a.estimator_doc_link:hover {\n  /* unfitted */\n  background-color: var(--sklearn-color-unfitted-level-3);\n  color: var(--sklearn-color-background);\n  text-decoration: none;\n}\n\n#sk-container-id-1 a.estimator_doc_link.fitted:hover {\n  /* fitted */\n  background-color: var(--sklearn-color-fitted-level-3);\n}\n</style><div id=\"sk-container-id-1\" class=\"sk-top-container\"><div class=\"sk-text-repr-fallback\"><pre>MaximinRF(max_features=2)</pre><b>In a Jupyter environment, please rerun this cell to show the HTML representation or trust the notebook. <br />On GitHub, the HTML representation is unable to render, please try loading this page with nbviewer.org.</b></div><div class=\"sk-container\" hidden><div class=\"sk-item\"><div class=\"sk-estimator fitted sk-toggleable\"><input class=\"sk-toggleable__control sk-hidden--visually\" id=\"sk-estimator-id-1\" type=\"checkbox\" checked><label for=\"sk-estimator-id-1\" class=\"sk-toggleable__label fitted sk-toggleable__label-arrow\"><div><div>MaximinRF</div></div><div><span class=\"sk-estimator-doc-link fitted\">i<span>Fitted</span></span></div></label><div class=\"sk-toggleable__content fitted\"><pre>MaximinRF(max_features=2)</pre></div> </div></div></div></div>"
     },
     "execution_count": 29,
     "metadata": {},
     "output_type": "execute_result"
    }
   ],
   "source": [
    "m_try = 2\n",
    "rf = MaximinRF(n_estimators=50, random_state=42, max_features=m_try)\n",
    "rf.fit(Xtr, Ytr)"
   ],
   "metadata": {
    "collapsed": false,
    "ExecuteTime": {
     "end_time": "2025-03-01T14:54:43.729010Z",
     "start_time": "2025-03-01T14:54:43.480349Z"
    }
   },
   "id": "7c4a706d3743832b",
   "execution_count": 29
  },
  {
   "cell_type": "code",
   "outputs": [],
   "source": [
    "preds = rf.predict(Xts)\n",
    "wpreds, weights = rf.predict_maximin(Xtr, Ytr, Etr, Xts, wtype='inv')"
   ],
   "metadata": {
    "collapsed": false,
    "ExecuteTime": {
     "end_time": "2025-03-01T14:54:45.627647Z",
     "start_time": "2025-03-01T14:54:45.472885Z"
    }
   },
   "id": "2d1549c090ec5a28",
   "execution_count": 30
  },
  {
   "cell_type": "code",
   "outputs": [
    {
     "data": {
      "text/plain": "(52.1962091121941, -0.17409373080099821)"
     },
     "execution_count": 31,
     "metadata": {},
     "output_type": "execute_result"
    }
   ],
   "source": [
    "mean_squared_error(Yts, wpreds), r2_score(Yts, wpreds)"
   ],
   "metadata": {
    "collapsed": false,
    "ExecuteTime": {
     "end_time": "2025-03-01T14:54:46.957371Z",
     "start_time": "2025-03-01T14:54:46.944778Z"
    }
   },
   "id": "23f27db2467a398e",
   "execution_count": 31
  },
  {
   "cell_type": "code",
   "outputs": [
    {
     "data": {
      "text/plain": "(52.32942024542561, -0.1770901621330867)"
     },
     "execution_count": 32,
     "metadata": {},
     "output_type": "execute_result"
    }
   ],
   "source": [
    "mean_squared_error(Yts, preds), r2_score(Yts, preds)"
   ],
   "metadata": {
    "collapsed": false,
    "ExecuteTime": {
     "end_time": "2025-03-01T14:54:48.440231Z",
     "start_time": "2025-03-01T14:54:48.428702Z"
    }
   },
   "id": "d3702e7b8f8de92b",
   "execution_count": 32
  },
  {
   "cell_type": "markdown",
   "source": [
    "## Magging"
   ],
   "metadata": {
    "collapsed": false
   },
   "id": "b1ad0536e84291f8"
  },
  {
   "cell_type": "markdown",
   "source": [
    "To aggregate the predictions from each environment, we need to compute the weights using magging (see [2]). Note that in [3] they use the same data for fitting the models and finding the weights through the optimization procedure. In the following, we instead further split the train data into train and validation data. The latter will be used to compute the weights."
   ],
   "metadata": {
    "collapsed": false
   },
   "id": "46141258cf8fe6ca"
  },
  {
   "cell_type": "code",
   "outputs": [],
   "source": [
    "#dtr, dts, _, _ = gen_data_isd(1000, 500,\n",
    "#                              np.random.default_rng(42), \n",
    "#                              np.random.default_rng(42))\n",
    "dtr, dts = gen_data_maximin(1000, 500,\n",
    "                            np.random.default_rng(42), \n",
    "                            np.random.default_rng(42))\n",
    "Xtr, Xts = np.array(dtr.drop(columns=['E', 'Y'])), np.array(dts.drop(columns=['E', 'Y']))\n",
    "Ytr, Yts = np.array(dtr['Y']), np.array(dts['Y'])\n",
    "Etr = np.array(dtr['E'])"
   ],
   "metadata": {
    "collapsed": false,
    "ExecuteTime": {
     "end_time": "2025-03-01T10:45:28.401822Z",
     "start_time": "2025-03-01T10:45:28.363640Z"
    }
   },
   "id": "2d4a69f1b7b40b1f",
   "execution_count": 2
  },
  {
   "cell_type": "code",
   "outputs": [],
   "source": [
    "m_try = 4\n",
    "mag_rf = MaggingRF(n_estimators=50, random_state=42, max_features=m_try)\n",
    "wpreds = mag_rf.predict_magging(Xtr, Ytr, Etr, Xts)"
   ],
   "metadata": {
    "collapsed": false,
    "ExecuteTime": {
     "end_time": "2025-03-01T10:47:25.592489Z",
     "start_time": "2025-03-01T10:47:24.963612Z"
    }
   },
   "id": "c10bd571fcc32bab",
   "execution_count": 3
  },
  {
   "cell_type": "code",
   "outputs": [
    {
     "data": {
      "text/plain": "array([0.16442269, 0.        , 0.06588179, 0.72098722, 0.0487083 ])"
     },
     "execution_count": 4,
     "metadata": {},
     "output_type": "execute_result"
    }
   ],
   "source": [
    "mag_rf.weights_magging"
   ],
   "metadata": {
    "collapsed": false,
    "ExecuteTime": {
     "end_time": "2025-03-01T10:47:33.745979Z",
     "start_time": "2025-03-01T10:47:33.730356Z"
    }
   },
   "id": "dd1596477cea68a0",
   "execution_count": 4
  },
  {
   "cell_type": "code",
   "outputs": [],
   "source": [
    "rf = RandomForestRegressor(n_estimators=50, random_state=42, max_features=m_try)\n",
    "rf.fit(Xtr, Ytr)\n",
    "preds = rf.predict(Xts)"
   ],
   "metadata": {
    "collapsed": false,
    "ExecuteTime": {
     "end_time": "2025-03-01T10:48:15.886212Z",
     "start_time": "2025-03-01T10:48:15.356632Z"
    }
   },
   "id": "353ff00211d1756e",
   "execution_count": 5
  },
  {
   "cell_type": "code",
   "outputs": [
    {
     "data": {
      "text/plain": "(103.14729724473074, -0.01822997106785862)"
     },
     "execution_count": 7,
     "metadata": {},
     "output_type": "execute_result"
    }
   ],
   "source": [
    "mean_squared_error(Yts, wpreds), r2_score(Yts, wpreds)"
   ],
   "metadata": {
    "collapsed": false,
    "ExecuteTime": {
     "end_time": "2025-03-01T10:48:55.042607Z",
     "start_time": "2025-03-01T10:48:55.018971Z"
    }
   },
   "id": "a65ac92ffc2a3819",
   "execution_count": 7
  },
  {
   "cell_type": "code",
   "outputs": [
    {
     "data": {
      "text/plain": "(108.7181273623798, -0.07322303769237015)"
     },
     "execution_count": 8,
     "metadata": {},
     "output_type": "execute_result"
    }
   ],
   "source": [
    "mean_squared_error(Yts, preds), r2_score(Yts, preds)"
   ],
   "metadata": {
    "collapsed": false,
    "ExecuteTime": {
     "end_time": "2025-03-01T10:49:04.667841Z",
     "start_time": "2025-03-01T10:49:04.653638Z"
    }
   },
   "id": "3b3d6f4747171af0",
   "execution_count": 8
  },
  {
   "cell_type": "markdown",
   "source": [
    "## Invariant Subspace Decomposition"
   ],
   "metadata": {
    "collapsed": false
   },
   "id": "6d3941bbc646c04c"
  },
  {
   "cell_type": "markdown",
   "source": [
    "We modify the algorithm proposed in [4] to allow for nonlinear relationships between the features and the response."
   ],
   "metadata": {
    "collapsed": false
   },
   "id": "d3e85cdf6adedfcd"
  },
  {
   "cell_type": "code",
   "outputs": [],
   "source": [
    "dtr, dts, _, _ = gen_data_isd(1000, 500,\n",
    "                              np.random.default_rng(42), \n",
    "                              np.random.default_rng(42))\n",
    "#dtr, dts, _, _ = gen_data_isd_v2(1000, 500,\n",
    "#                                 np.random.default_rng(42), \n",
    "#                                 np.random.default_rng(42))\n",
    "Xtr, Xts = dtr.drop(columns=['E', 'Y']), dts.drop(columns=['E', 'Y'])\n",
    "Ytr, Yts = dtr['Y'], dts['Y']"
   ],
   "metadata": {
    "collapsed": false,
    "ExecuteTime": {
     "end_time": "2025-03-01T17:05:21.603295Z",
     "start_time": "2025-03-01T17:05:21.578293Z"
    }
   },
   "id": "1b1dae9a9560e4e4",
   "execution_count": 2
  },
  {
   "cell_type": "code",
   "outputs": [],
   "source": [
    "isd_rf = IsdRF()\n",
    "isd_rf.fit_isd(dtr)\n",
    "preds_isd_rf = isd_rf.predict_isd(Xts)"
   ],
   "metadata": {
    "collapsed": false,
    "ExecuteTime": {
     "end_time": "2025-03-01T17:05:31.458121Z",
     "start_time": "2025-03-01T17:05:23.104093Z"
    }
   },
   "id": "d2067d3252405e69",
   "execution_count": 3
  },
  {
   "cell_type": "code",
   "outputs": [
    {
     "data": {
      "text/plain": "<Figure size 640x480 with 4 Axes>",
      "image/png": "[encoded data removed]"
     },
     "metadata": {},
     "output_type": "display_data"
    }
   ],
   "source": [
    "fig, ax = plt.subplots(1, 4)\n",
    "for i in range(4):\n",
    "    ax[i].imshow(np.abs(isd_rf.Sigma_diag[i, :, :]))\n",
    "plt.show()\n",
    "\n",
    "# Checks\n",
    "#isd_rf.th_opt\n",
    "#isd_rf.th_const\n",
    "#isd_rf._check_const(isd_rf.blocks_shape, isd_rf.th_const, isd_rf.th_opt)\n",
    "#isd_rf.var\n",
    "#isd_rf.var_th"
   ],
   "metadata": {
    "collapsed": false,
    "ExecuteTime": {
     "end_time": "2025-03-01T17:03:14.827665Z",
     "start_time": "2025-03-01T17:03:14.537673Z"
    }
   },
   "id": "25c530af78efa8fa",
   "execution_count": 4
  },
  {
   "cell_type": "code",
   "outputs": [],
   "source": [
    "rf = RandomForestRegressor(n_estimators=50, random_state=42, max_features=1.0)\n",
    "rf.fit(Xtr, Ytr)\n",
    "preds_rf = rf.predict(Xts)"
   ],
   "metadata": {
    "collapsed": false,
    "ExecuteTime": {
     "end_time": "2025-03-01T17:05:34.695072Z",
     "start_time": "2025-03-01T17:05:33.567561Z"
    }
   },
   "id": "d98935fe10b896ac",
   "execution_count": 4
  },
  {
   "cell_type": "code",
   "outputs": [
    {
     "data": {
      "text/plain": "(5.049763412196055, -0.29510328595446156)"
     },
     "execution_count": 5,
     "metadata": {},
     "output_type": "execute_result"
    }
   ],
   "source": [
    "mean_squared_error(Yts, preds_isd_rf), r2_score(Yts, preds_isd_rf)"
   ],
   "metadata": {
    "collapsed": false,
    "ExecuteTime": {
     "end_time": "2025-03-01T17:05:35.641855Z",
     "start_time": "2025-03-01T17:05:35.614841Z"
    }
   },
   "id": "c4ce7a64671a2f8e",
   "execution_count": 5
  },
  {
   "cell_type": "code",
   "outputs": [
    {
     "data": {
      "text/plain": "(7.570433125255678, -0.9415746870313928)"
     },
     "execution_count": 7,
     "metadata": {},
     "output_type": "execute_result"
    }
   ],
   "source": [
    "mean_squared_error(Yts, preds_rf), r2_score(Yts, preds_rf)"
   ],
   "metadata": {
    "collapsed": false,
    "ExecuteTime": {
     "end_time": "2025-03-01T16:58:29.089552Z",
     "start_time": "2025-03-01T16:58:29.079556Z"
    }
   },
   "id": "b8e480c7d97fd9bd",
   "execution_count": 7
  },
  {
   "cell_type": "markdown",
   "source": [
    "### References"
   ],
   "metadata": {
    "collapsed": false
   },
   "id": "d3598eef79ed72e0"
  },
  {
   "cell_type": "markdown",
   "source": [
    "[1] [**Maximin Effects in Inhomogeneous Large-Scale Data**](https://people.math.ethz.ch/~nicolai/maximin_aos.pdf)\n",
    "[2] [**Magging: Maximin Aggregation for Inhomogeneous Large-Scale Data**](https://stat.ethz.ch/Manuscripts/buhlmann/ProcIEEE-magging.pdf)\n",
    "[3] [**Comments on: A random forest guided tour**](https://people.math.ethz.ch/~peterbu/Files/Manuscripts/RFdiscussion-TEST2016.pdf)\n",
    "[4] [**Invariant Subspace Decomposition**](https://arxiv.org/pdf/2404.09962)"
   ],
   "metadata": {
    "collapsed": false
   },
   "id": "2e3bd71dfc195237"
  }
 ],
 "metadata": {
  "kernelspec": {
   "display_name": "Python 3",
   "language": "python",
   "name": "python3"
  },
  "language_info": {
   "codemirror_mode": {
    "name": "ipython",
    "version": 2
   },
   "file_extension": ".py",
   "mimetype": "text/x-python",
   "name": "python",
   "nbconvert_exporter": "python",
   "pygments_lexer": "ipython2",
   "version": "2.7.6"
  }
 },
 "nbformat": 4,
 "nbformat_minor": 5
}
