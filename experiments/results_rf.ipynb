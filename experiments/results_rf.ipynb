{
 "cells": [
  {
   "cell_type": "code",
   "id": "initial_id",
   "metadata": {
    "collapsed": true,
    "ExecuteTime": {
     "end_time": "2025-05-21T07:42:53.260543Z",
     "start_time": "2025-05-21T07:42:52.411464Z"
    }
   },
   "source": "from utils import *",
   "outputs": [],
   "execution_count": 1
  },
  {
   "metadata": {},
   "cell_type": "markdown",
   "source": "# Simulation",
   "id": "90e572d74cd44621"
  },
  {
   "metadata": {},
   "cell_type": "markdown",
   "source": "### MSE",
   "id": "10568fe5c883297a"
  },
  {
   "metadata": {
    "ExecuteTime": {
     "end_time": "2025-05-21T07:40:28.541080Z",
     "start_time": "2025-05-21T07:40:28.489880Z"
    }
   },
   "cell_type": "code",
   "source": [
    "notebook_dir = os.getcwd()\n",
    "parent_dir = os.path.abspath(os.path.join(notebook_dir, \"..\"))\n",
    "results_dir = os.path.join(parent_dir, \"results\")\n",
    "sim_results_dir = os.path.join(results_dir, \"output_data_simulation_rf\")\n",
    "mse_path = os.path.join(sim_results_dir, \"mse.csv\")\n",
    "mse_df = pd.read_csv(mse_path)\n",
    "means = mse_df.mean(axis=0)\n",
    "n = mse_df.shape[0]\n",
    "stderr = mse_df.std(axis=0, ddof=1) / np.sqrt(n)\n",
    "ci_lower = means - 1.96 * stderr\n",
    "ci_upper = means + 1.96 * stderr\n",
    "summary_mse_df = pd.DataFrame({\n",
    "    'MSE': means,\n",
    "    'CI Lower': ci_lower,\n",
    "    'CI Upper': ci_upper\n",
    "})\n",
    "summary_mse_df"
   ],
   "id": "bd5acdaf79c58639",
   "outputs": [
    {
     "data": {
      "text/plain": [
       "                  MSE  CI Lower  CI Upper\n",
       "RF           6.423861  6.282847  6.564875\n",
       "MaggingRF    6.928595  6.720573  7.136618\n",
       "MinMaxRF-M0  7.897941  7.742059  8.053823\n",
       "MinMaxRF-M1  6.734767  6.586571  6.882964\n",
       "MinMaxRF-M2  6.774940  6.627854  6.922025\n",
       "MinMaxRF-M3  6.765350  6.616440  6.914261\n",
       "MinMaxRF-M4  6.763984  6.614908  6.913059"
      ],
      "text/html": [
       "<div>\n",
       "<style scoped>\n",
       "    .dataframe tbody tr th:only-of-type {\n",
       "        vertical-align: middle;\n",
       "    }\n",
       "\n",
       "    .dataframe tbody tr th {\n",
       "        vertical-align: top;\n",
       "    }\n",
       "\n",
       "    .dataframe thead th {\n",
       "        text-align: right;\n",
       "    }\n",
       "</style>\n",
       "<table border=\"1\" class=\"dataframe\">\n",
       "  <thead>\n",
       "    <tr style=\"text-align: right;\">\n",
       "      <th></th>\n",
       "      <th>MSE</th>\n",
       "      <th>CI Lower</th>\n",
       "      <th>CI Upper</th>\n",
       "    </tr>\n",
       "  </thead>\n",
       "  <tbody>\n",
       "    <tr>\n",
       "      <th>RF</th>\n",
       "      <td>6.423861</td>\n",
       "      <td>6.282847</td>\n",
       "      <td>6.564875</td>\n",
       "    </tr>\n",
       "    <tr>\n",
       "      <th>MaggingRF</th>\n",
       "      <td>6.928595</td>\n",
       "      <td>6.720573</td>\n",
       "      <td>7.136618</td>\n",
       "    </tr>\n",
       "    <tr>\n",
       "      <th>MinMaxRF-M0</th>\n",
       "      <td>7.897941</td>\n",
       "      <td>7.742059</td>\n",
       "      <td>8.053823</td>\n",
       "    </tr>\n",
       "    <tr>\n",
       "      <th>MinMaxRF-M1</th>\n",
       "      <td>6.734767</td>\n",
       "      <td>6.586571</td>\n",
       "      <td>6.882964</td>\n",
       "    </tr>\n",
       "    <tr>\n",
       "      <th>MinMaxRF-M2</th>\n",
       "      <td>6.774940</td>\n",
       "      <td>6.627854</td>\n",
       "      <td>6.922025</td>\n",
       "    </tr>\n",
       "    <tr>\n",
       "      <th>MinMaxRF-M3</th>\n",
       "      <td>6.765350</td>\n",
       "      <td>6.616440</td>\n",
       "      <td>6.914261</td>\n",
       "    </tr>\n",
       "    <tr>\n",
       "      <th>MinMaxRF-M4</th>\n",
       "      <td>6.763984</td>\n",
       "      <td>6.614908</td>\n",
       "      <td>6.913059</td>\n",
       "    </tr>\n",
       "  </tbody>\n",
       "</table>\n",
       "</div>"
      ]
     },
     "execution_count": 3,
     "metadata": {},
     "output_type": "execute_result"
    }
   ],
   "execution_count": 3
  },
  {
   "metadata": {},
   "cell_type": "markdown",
   "source": "### Max MSE",
   "id": "c821bba535f7c562"
  },
  {
   "metadata": {
    "ExecuteTime": {
     "end_time": "2025-05-21T07:40:44.633584Z",
     "start_time": "2025-05-21T07:40:44.611570Z"
    }
   },
   "cell_type": "code",
   "source": [
    "notebook_dir = os.getcwd()\n",
    "parent_dir = os.path.abspath(os.path.join(notebook_dir, \"..\"))\n",
    "results_dir = os.path.join(parent_dir, \"results\")\n",
    "sim_results_dir = os.path.join(results_dir, \"output_data_simulation_rf\")\n",
    "max_mse_path = os.path.join(sim_results_dir, \"max_mse.csv\")\n",
    "max_mse_df = pd.read_csv(max_mse_path)\n",
    "means = max_mse_df.mean(axis=0)\n",
    "n = max_mse_df.shape[0]\n",
    "stderr = max_mse_df.std(axis=0, ddof=1) / np.sqrt(n)\n",
    "ci_lower = means - 1.96 * stderr\n",
    "ci_upper = means + 1.96 * stderr\n",
    "summary_max_mse_df = pd.DataFrame({\n",
    "    'MSE': means,\n",
    "    'CI Lower': ci_lower,\n",
    "    'CI Upper': ci_upper\n",
    "})\n",
    "summary_max_mse_df"
   ],
   "id": "8bf94f47215894c7",
   "outputs": [
    {
     "data": {
      "text/plain": [
       "                   MSE   CI Lower   CI Upper\n",
       "RF           12.155351  11.861350  12.449352\n",
       "MaggingRF    10.351562   9.584390  11.118733\n",
       "MinMaxRF-M0   9.728319   9.531767   9.924870\n",
       "MinMaxRF-M1   8.622074   8.431077   8.813071\n",
       "MinMaxRF-M2   8.576012   8.378872   8.773152\n",
       "MinMaxRF-M3   8.571189   8.370149   8.772229\n",
       "MinMaxRF-M4   8.569672   8.368986   8.770358"
      ],
      "text/html": [
       "<div>\n",
       "<style scoped>\n",
       "    .dataframe tbody tr th:only-of-type {\n",
       "        vertical-align: middle;\n",
       "    }\n",
       "\n",
       "    .dataframe tbody tr th {\n",
       "        vertical-align: top;\n",
       "    }\n",
       "\n",
       "    .dataframe thead th {\n",
       "        text-align: right;\n",
       "    }\n",
       "</style>\n",
       "<table border=\"1\" class=\"dataframe\">\n",
       "  <thead>\n",
       "    <tr style=\"text-align: right;\">\n",
       "      <th></th>\n",
       "      <th>MSE</th>\n",
       "      <th>CI Lower</th>\n",
       "      <th>CI Upper</th>\n",
       "    </tr>\n",
       "  </thead>\n",
       "  <tbody>\n",
       "    <tr>\n",
       "      <th>RF</th>\n",
       "      <td>12.155351</td>\n",
       "      <td>11.861350</td>\n",
       "      <td>12.449352</td>\n",
       "    </tr>\n",
       "    <tr>\n",
       "      <th>MaggingRF</th>\n",
       "      <td>10.351562</td>\n",
       "      <td>9.584390</td>\n",
       "      <td>11.118733</td>\n",
       "    </tr>\n",
       "    <tr>\n",
       "      <th>MinMaxRF-M0</th>\n",
       "      <td>9.728319</td>\n",
       "      <td>9.531767</td>\n",
       "      <td>9.924870</td>\n",
       "    </tr>\n",
       "    <tr>\n",
       "      <th>MinMaxRF-M1</th>\n",
       "      <td>8.622074</td>\n",
       "      <td>8.431077</td>\n",
       "      <td>8.813071</td>\n",
       "    </tr>\n",
       "    <tr>\n",
       "      <th>MinMaxRF-M2</th>\n",
       "      <td>8.576012</td>\n",
       "      <td>8.378872</td>\n",
       "      <td>8.773152</td>\n",
       "    </tr>\n",
       "    <tr>\n",
       "      <th>MinMaxRF-M3</th>\n",
       "      <td>8.571189</td>\n",
       "      <td>8.370149</td>\n",
       "      <td>8.772229</td>\n",
       "    </tr>\n",
       "    <tr>\n",
       "      <th>MinMaxRF-M4</th>\n",
       "      <td>8.569672</td>\n",
       "      <td>8.368986</td>\n",
       "      <td>8.770358</td>\n",
       "    </tr>\n",
       "  </tbody>\n",
       "</table>\n",
       "</div>"
      ]
     },
     "execution_count": 4,
     "metadata": {},
     "output_type": "execute_result"
    }
   ],
   "execution_count": 4
  },
  {
   "metadata": {},
   "cell_type": "code",
   "source": "# plot_max_mse(max_mse_df, saveplot=True)",
   "id": "62d3e665f5f1e5f3",
   "outputs": [],
   "execution_count": null
  },
  {
   "metadata": {},
   "cell_type": "markdown",
   "source": "### MSE per environment",
   "id": "1229dcbe3ae9d13d"
  },
  {
   "metadata": {
    "ExecuteTime": {
     "end_time": "2025-05-21T07:41:06.365069Z",
     "start_time": "2025-05-21T07:41:06.358068Z"
    }
   },
   "cell_type": "code",
   "source": [
    "notebook_dir = os.getcwd()\n",
    "parent_dir = os.path.abspath(os.path.join(notebook_dir, \"..\"))\n",
    "results_dir = os.path.join(parent_dir, \"results\")\n",
    "sim_results_dir = os.path.join(results_dir, \"output_data_simulation_rf\")\n",
    "mse_envs_path = os.path.join(sim_results_dir, \"mse_envs.csv\")\n",
    "mse_envs_df = pd.read_csv(mse_envs_path)"
   ],
   "id": "589fe080e51759f5",
   "outputs": [],
   "execution_count": 5
  },
  {
   "metadata": {},
   "cell_type": "code",
   "source": "# plot_mse_envs(mse_envs_df, saveplot=True)",
   "id": "eb64002d259391ff",
   "outputs": [],
   "execution_count": null
  },
  {
   "metadata": {},
   "cell_type": "markdown",
   "source": "### Runtime",
   "id": "6871e203f12ffd1d"
  },
  {
   "metadata": {
    "ExecuteTime": {
     "end_time": "2025-05-21T07:41:23.124189Z",
     "start_time": "2025-05-21T07:41:23.100189Z"
    }
   },
   "cell_type": "code",
   "source": [
    "notebook_dir = os.getcwd()\n",
    "parent_dir = os.path.abspath(os.path.join(notebook_dir, \"..\"))\n",
    "results_dir = os.path.join(parent_dir, \"results\")\n",
    "sim_results_dir = os.path.join(results_dir, \"output_data_simulation_rf\")\n",
    "runtime_path = os.path.join(sim_results_dir, \"runtime.csv\")\n",
    "runtime_df = pd.read_csv(runtime_path)\n",
    "means = runtime_df.mean(axis=0)\n",
    "n = runtime_df.shape[0]\n",
    "stderr = runtime_df.std(axis=0, ddof=1) / np.sqrt(n)\n",
    "ci_lower = means - 1.96 * stderr\n",
    "ci_upper = means + 1.96 * stderr\n",
    "summary_runtime_df = pd.DataFrame({\n",
    "    'Runtime': means,\n",
    "    'CI Lower': ci_lower,\n",
    "    'CI Upper': ci_upper\n",
    "})\n",
    "summary_runtime_df"
   ],
   "id": "2ba2cc26fb62bede",
   "outputs": [
    {
     "data": {
      "text/plain": [
       "                Runtime    CI Lower    CI Upper\n",
       "RF             0.102866    0.094158    0.111574\n",
       "MaggingRF      0.175793    0.161548    0.190038\n",
       "MinMaxRF-M0   49.800562   49.243172   50.357953\n",
       "MinMaxRF-M1    4.245460    4.179093    4.311828\n",
       "MinMaxRF-M2    3.659314    3.604065    3.714562\n",
       "MinMaxRF-M3  187.061338  184.539389  189.583287\n",
       "MinMaxRF-M4  564.944982  556.216831  573.673134"
      ],
      "text/html": [
       "<div>\n",
       "<style scoped>\n",
       "    .dataframe tbody tr th:only-of-type {\n",
       "        vertical-align: middle;\n",
       "    }\n",
       "\n",
       "    .dataframe tbody tr th {\n",
       "        vertical-align: top;\n",
       "    }\n",
       "\n",
       "    .dataframe thead th {\n",
       "        text-align: right;\n",
       "    }\n",
       "</style>\n",
       "<table border=\"1\" class=\"dataframe\">\n",
       "  <thead>\n",
       "    <tr style=\"text-align: right;\">\n",
       "      <th></th>\n",
       "      <th>Runtime</th>\n",
       "      <th>CI Lower</th>\n",
       "      <th>CI Upper</th>\n",
       "    </tr>\n",
       "  </thead>\n",
       "  <tbody>\n",
       "    <tr>\n",
       "      <th>RF</th>\n",
       "      <td>0.102866</td>\n",
       "      <td>0.094158</td>\n",
       "      <td>0.111574</td>\n",
       "    </tr>\n",
       "    <tr>\n",
       "      <th>MaggingRF</th>\n",
       "      <td>0.175793</td>\n",
       "      <td>0.161548</td>\n",
       "      <td>0.190038</td>\n",
       "    </tr>\n",
       "    <tr>\n",
       "      <th>MinMaxRF-M0</th>\n",
       "      <td>49.800562</td>\n",
       "      <td>49.243172</td>\n",
       "      <td>50.357953</td>\n",
       "    </tr>\n",
       "    <tr>\n",
       "      <th>MinMaxRF-M1</th>\n",
       "      <td>4.245460</td>\n",
       "      <td>4.179093</td>\n",
       "      <td>4.311828</td>\n",
       "    </tr>\n",
       "    <tr>\n",
       "      <th>MinMaxRF-M2</th>\n",
       "      <td>3.659314</td>\n",
       "      <td>3.604065</td>\n",
       "      <td>3.714562</td>\n",
       "    </tr>\n",
       "    <tr>\n",
       "      <th>MinMaxRF-M3</th>\n",
       "      <td>187.061338</td>\n",
       "      <td>184.539389</td>\n",
       "      <td>189.583287</td>\n",
       "    </tr>\n",
       "    <tr>\n",
       "      <th>MinMaxRF-M4</th>\n",
       "      <td>564.944982</td>\n",
       "      <td>556.216831</td>\n",
       "      <td>573.673134</td>\n",
       "    </tr>\n",
       "  </tbody>\n",
       "</table>\n",
       "</div>"
      ]
     },
     "execution_count": 6,
     "metadata": {},
     "output_type": "execute_result"
    }
   ],
   "execution_count": 6
  },
  {
   "metadata": {},
   "cell_type": "markdown",
   "source": "### min_samples_leaf effect",
   "id": "d6bc07d47887c9b0"
  },
  {
   "metadata": {
    "ExecuteTime": {
     "end_time": "2025-05-21T07:42:56.640931Z",
     "start_time": "2025-05-21T07:42:56.628932Z"
    }
   },
   "cell_type": "code",
   "source": [
    "notebook_dir = os.getcwd()\n",
    "parent_dir = os.path.abspath(os.path.join(notebook_dir, \"..\"))\n",
    "results_dir = os.path.join(parent_dir, \"results\")\n",
    "sim_results_dir = os.path.join(results_dir, \"output_data_simulation_rf\")\n",
    "max_mse_msl_path = os.path.join(sim_results_dir, \"max_mse_msl.csv\")\n",
    "max_mse_msl_df = pd.read_csv(max_mse_msl_path)"
   ],
   "id": "d36dada75e3e756f",
   "outputs": [],
   "execution_count": 2
  },
  {
   "metadata": {
    "ExecuteTime": {
     "end_time": "2025-05-21T07:42:57.726472Z",
     "start_time": "2025-05-21T07:42:57.257489Z"
    }
   },
   "cell_type": "code",
   "source": "plot_max_mse_msl(max_mse_msl_df, saveplot=True)",
   "id": "ce1ae6728039c95",
   "outputs": [
    {
     "data": {
      "text/plain": [
       "<Figure size 800x500 with 1 Axes>"
      ],
      "image/png": "[encoded data removed]"
     },
     "metadata": {},
     "output_type": "display_data"
    }
   ],
   "execution_count": 3
  },
  {
   "metadata": {},
   "cell_type": "markdown",
   "source": "# California Housing Dataset",
   "id": "94dfecec13d5ebdb"
  },
  {
   "metadata": {},
   "cell_type": "code",
   "outputs": [],
   "execution_count": null,
   "source": "",
   "id": "7d15e32cd5a3aa81"
  }
 ],
 "metadata": {
  "kernelspec": {
   "display_name": "Python 3",
   "language": "python",
   "name": "python3"
  },
  "language_info": {
   "codemirror_mode": {
    "name": "ipython",
    "version": 2
   },
   "file_extension": ".py",
   "mimetype": "text/x-python",
   "name": "python",
   "nbconvert_exporter": "python",
   "pygments_lexer": "ipython2",
   "version": "2.7.6"
  }
 },
 "nbformat": 4,
 "nbformat_minor": 5
}
